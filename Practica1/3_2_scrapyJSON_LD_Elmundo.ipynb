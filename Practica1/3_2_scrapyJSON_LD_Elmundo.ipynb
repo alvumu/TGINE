{
  "cells": [
    {
      "cell_type": "markdown",
      "metadata": {
        "id": "view-in-github",
        "colab_type": "text"
      },
      "source": [
        "<a href=\"https://colab.research.google.com/github/alvumu/TGINE/blob/main/Practica1/3_2_scrapyJSON_LD_Elmundo.ipynb\" target=\"_parent\"><img src=\"https://colab.research.google.com/assets/colab-badge.svg\" alt=\"Open In Colab\"/></a>"
      ]
    },
    {
      "cell_type": "markdown",
      "metadata": {
        "id": "nGcgFs-tkxlS"
      },
      "source": [
        "# Sesión 3 - Scrapy - Ejemplo Crawling JSON-LD (ElMundo)"
      ]
    },
    {
      "cell_type": "markdown",
      "metadata": {
        "id": "bJxLBFxilBOg"
      },
      "source": [
        "## Apartado 1.1 Crawler de El Mundo extrayendo JSON-LD\n",
        "En el ejemplo siguiente definimos un crawler en Scrapy para extraer noticias de los metadatos de las páginas web.\n",
        "El Mundo y otros periódicos publican metadatos en formato JSON-LD (https://json-ld.org/) que permite obtener información estructurada de las webs. En este caso, tendremos que obtener esos objetos JSON-LD y extraer su información en el formato de noticia (https://schema.org/NewsArticle) publicado en Schema.org\n",
        "\n",
        "** Existen librerías de Python para trabajar directamente con JSON-LD"
      ]
    },
    {
      "cell_type": "code",
      "source": [
        "!pip3 install -U scrapy"
      ],
      "metadata": {
        "id": "B2NYGvfRDtkA",
        "outputId": "75011ec8-cacf-43c7-da66-eaf80ba26cef",
        "colab": {
          "base_uri": "https://localhost:8080/"
        }
      },
      "execution_count": null,
      "outputs": [
        {
          "output_type": "stream",
          "name": "stdout",
          "text": [
            "Requirement already satisfied: scrapy in /usr/local/lib/python3.10/dist-packages (2.11.0)\n",
            "Requirement already satisfied: Twisted<23.8.0,>=18.9.0 in /usr/local/lib/python3.10/dist-packages (from scrapy) (22.10.0)\n",
            "Requirement already satisfied: cryptography>=36.0.0 in /usr/local/lib/python3.10/dist-packages (from scrapy) (41.0.5)\n",
            "Requirement already satisfied: cssselect>=0.9.1 in /usr/local/lib/python3.10/dist-packages (from scrapy) (1.2.0)\n",
            "Requirement already satisfied: itemloaders>=1.0.1 in /usr/local/lib/python3.10/dist-packages (from scrapy) (1.1.0)\n",
            "Requirement already satisfied: parsel>=1.5.0 in /usr/local/lib/python3.10/dist-packages (from scrapy) (1.8.1)\n",
            "Requirement already satisfied: pyOpenSSL>=21.0.0 in /usr/local/lib/python3.10/dist-packages (from scrapy) (23.2.0)\n",
            "Requirement already satisfied: queuelib>=1.4.2 in /usr/local/lib/python3.10/dist-packages (from scrapy) (1.6.2)\n",
            "Requirement already satisfied: service-identity>=18.1.0 in /usr/local/lib/python3.10/dist-packages (from scrapy) (23.1.0)\n",
            "Requirement already satisfied: w3lib>=1.17.0 in /usr/local/lib/python3.10/dist-packages (from scrapy) (2.1.2)\n",
            "Requirement already satisfied: zope.interface>=5.1.0 in /usr/local/lib/python3.10/dist-packages (from scrapy) (6.1)\n",
            "Requirement already satisfied: protego>=0.1.15 in /usr/local/lib/python3.10/dist-packages (from scrapy) (0.3.0)\n",
            "Requirement already satisfied: itemadapter>=0.1.0 in /usr/local/lib/python3.10/dist-packages (from scrapy) (0.8.0)\n",
            "Requirement already satisfied: setuptools in /usr/local/lib/python3.10/dist-packages (from scrapy) (67.7.2)\n",
            "Requirement already satisfied: packaging in /usr/local/lib/python3.10/dist-packages (from scrapy) (23.2)\n",
            "Requirement already satisfied: tldextract in /usr/local/lib/python3.10/dist-packages (from scrapy) (5.0.1)\n",
            "Requirement already satisfied: lxml>=4.4.1 in /usr/local/lib/python3.10/dist-packages (from scrapy) (4.9.3)\n",
            "Requirement already satisfied: PyDispatcher>=2.0.5 in /usr/local/lib/python3.10/dist-packages (from scrapy) (2.0.7)\n",
            "Requirement already satisfied: cffi>=1.12 in /usr/local/lib/python3.10/dist-packages (from cryptography>=36.0.0->scrapy) (1.16.0)\n",
            "Requirement already satisfied: jmespath>=0.9.5 in /usr/local/lib/python3.10/dist-packages (from itemloaders>=1.0.1->scrapy) (1.0.1)\n",
            "Requirement already satisfied: attrs>=19.1.0 in /usr/local/lib/python3.10/dist-packages (from service-identity>=18.1.0->scrapy) (23.1.0)\n",
            "Requirement already satisfied: pyasn1 in /usr/local/lib/python3.10/dist-packages (from service-identity>=18.1.0->scrapy) (0.5.0)\n",
            "Requirement already satisfied: pyasn1-modules in /usr/local/lib/python3.10/dist-packages (from service-identity>=18.1.0->scrapy) (0.3.0)\n",
            "Requirement already satisfied: constantly>=15.1 in /usr/local/lib/python3.10/dist-packages (from Twisted<23.8.0,>=18.9.0->scrapy) (15.1.0)\n",
            "Requirement already satisfied: incremental>=21.3.0 in /usr/local/lib/python3.10/dist-packages (from Twisted<23.8.0,>=18.9.0->scrapy) (22.10.0)\n",
            "Requirement already satisfied: Automat>=0.8.0 in /usr/local/lib/python3.10/dist-packages (from Twisted<23.8.0,>=18.9.0->scrapy) (22.10.0)\n",
            "Requirement already satisfied: hyperlink>=17.1.1 in /usr/local/lib/python3.10/dist-packages (from Twisted<23.8.0,>=18.9.0->scrapy) (21.0.0)\n",
            "Requirement already satisfied: typing-extensions>=3.6.5 in /usr/local/lib/python3.10/dist-packages (from Twisted<23.8.0,>=18.9.0->scrapy) (4.5.0)\n",
            "Requirement already satisfied: idna in /usr/local/lib/python3.10/dist-packages (from tldextract->scrapy) (3.4)\n",
            "Requirement already satisfied: requests>=2.1.0 in /usr/local/lib/python3.10/dist-packages (from tldextract->scrapy) (2.31.0)\n",
            "Requirement already satisfied: requests-file>=1.4 in /usr/local/lib/python3.10/dist-packages (from tldextract->scrapy) (1.5.1)\n",
            "Requirement already satisfied: filelock>=3.0.8 in /usr/local/lib/python3.10/dist-packages (from tldextract->scrapy) (3.12.4)\n",
            "Requirement already satisfied: six in /usr/local/lib/python3.10/dist-packages (from Automat>=0.8.0->Twisted<23.8.0,>=18.9.0->scrapy) (1.16.0)\n",
            "Requirement already satisfied: pycparser in /usr/local/lib/python3.10/dist-packages (from cffi>=1.12->cryptography>=36.0.0->scrapy) (2.21)\n",
            "Requirement already satisfied: charset-normalizer<4,>=2 in /usr/local/lib/python3.10/dist-packages (from requests>=2.1.0->tldextract->scrapy) (3.3.1)\n",
            "Requirement already satisfied: urllib3<3,>=1.21.1 in /usr/local/lib/python3.10/dist-packages (from requests>=2.1.0->tldextract->scrapy) (2.0.7)\n",
            "Requirement already satisfied: certifi>=2017.4.17 in /usr/local/lib/python3.10/dist-packages (from requests>=2.1.0->tldextract->scrapy) (2023.7.22)\n"
          ]
        }
      ]
    },
    {
      "cell_type": "code",
      "execution_count": null,
      "metadata": {
        "id": "7WEGeg3PzCZo"
      },
      "outputs": [],
      "source": [
        "import scrapy\n",
        "import sys\n",
        "import json\n",
        "import locale\n",
        "import time\n",
        "import random\n",
        "from bs4 import BeautifulSoup\n",
        "\n",
        "class ElMundoSpider (scrapy.Spider):\n",
        "\n",
        "    #Es obligatorio poner un nombre\n",
        "    name = 'elmundo'\n",
        "\n",
        "    #Ponemos que el dominio que está permitido es el de la página y no vamos a irnos fuera de la misma\n",
        "    allowed_domains = ['www.elmundo.es']\n",
        "\n",
        "    start_urls = ['https://www.elmundo.es/']\n",
        "\n",
        "    # para evitar que el sitio te bloquee por usar scrapy es interesante cambiar el USER_AGENT\n",
        "    # El user agent por defecto de Scrapy cuando hace una petición es\n",
        "    # Scrapy/VERSION (+https://scrapy.org)\n",
        "    custom_settings = {\n",
        "        'USER_AGENT': 'Mozilla/5.0 (Windows NT 10.0; WOW64) AppleWebKit/537.36 (KHTML, like Gecko) Chrome/109.0.0.0 Safari/537.36',\n",
        "    }\n",
        "\n",
        "    def parse (self, response):\n",
        "      \"\"\"\n",
        "      @inherit\n",
        "\n",
        "      @param self\n",
        "      @param response\n",
        "      \"\"\"\n",
        "\n",
        "      # Obtenemos la URL de la web que estamos procesando\n",
        "      url = str(response.request.url).strip()\n",
        "\n",
        "      # Obtenemos usando CSS la parte donde está definido el JSON-LD en la web\n",
        "      for item in response.css('script[type=\\\"application/ld+json\\\"]'):\n",
        "        data = json.loads(item.css('::text').get())\n",
        "        # Procesamos aquí los datos\n",
        "        # RELLENAR\n",
        "        if(\"headline\" in data):\n",
        "          title = data[\"headline\"]\n",
        "          content = data[\"description\"]\n",
        "          date = data[\"datePublished\"]\n",
        "\n",
        "          print (\"-------------------------\")\n",
        "          print (url)\n",
        "          print (title)\n",
        "          print (content)\n",
        "          print (date)\n",
        "          print (\"-------------------------\")\n",
        "\n",
        "          data = {\n",
        "                'url' : url,\n",
        "                'title': title,\n",
        "                'content': content,\n",
        "                'date': date\n",
        "            }\n",
        "\n",
        "            #Creamos para cada item un fichero json y para ello obtenemos un número aleatorio.\n",
        "          filename = str(random.random()).replace(\".\",\"\") + \".json\"\n",
        "\n",
        "            # Guardamos el documento si tiene contenido y título\n",
        "          if content and title:\n",
        "              with open ('elmundo/' + filename, 'w') as f:\n",
        "                  json.dump (data, f, indent = 4)\n",
        "\n",
        "      # Por último, miramos distintos enlaces que existan en la web (en este caso todos los de la etiqueta <a>)\n",
        "      url_in_current_document = response.css ('a')\n",
        "      for next_page in url_in_current_document:\n",
        "          # Por cada enlace ejecutamos el mismo parse\n",
        "          #Intentamos filtrar que solamente coja deportes\n",
        "          url_str = str(next_page.css(\"::attr(href)\").get())\n",
        "          if(url_str.find(\"elmundo.es/deportes\") != -1) :\n",
        "            yield response.follow (next_page, self.parse)\n"
      ]
    },
    {
      "cell_type": "markdown",
      "metadata": {
        "id": "fgv-fxRYl3wJ"
      },
      "source": [
        "## Apartado 1.2\n",
        "Para poder lanzar el Spider necesitamos que ejecutar el siguiente código donde se configuará y lanzará el proceso.\n",
        "Hay que hacer notar que solamente se puede lanzar un proceso por cada sesión en Jupyter notebook es por eso por lo que se recomienda exportar el código en un script de Python .py para poder ejecutarlo desde la línea de comandos."
      ]
    },
    {
      "cell_type": "code",
      "execution_count": null,
      "metadata": {
        "id": "H27QM4rJCapR",
        "outputId": "79ebde36-34cb-41fa-8674-6d69be8fed97",
        "colab": {
          "base_uri": "https://localhost:8080/"
        }
      },
      "outputs": [
        {
          "output_type": "stream",
          "name": "stderr",
          "text": [
            "INFO:scrapy.utils.log:Scrapy 2.11.0 started (bot: scrapybot)\n",
            "INFO:scrapy.utils.log:Versions: lxml 4.9.3.0, libxml2 2.10.3, cssselect 1.2.0, parsel 1.8.1, w3lib 2.1.2, Twisted 22.10.0, Python 3.10.12 (main, Jun 11 2023, 05:26:28) [GCC 11.4.0], pyOpenSSL 23.2.0 (OpenSSL 3.1.4 24 Oct 2023), cryptography 41.0.5, Platform Linux-5.15.120+-x86_64-with-glibc2.35\n",
            "INFO:scrapy.addons:Enabled addons:\n",
            "[]\n",
            "/usr/local/lib/python3.10/dist-packages/scrapy/utils/request.py:254: ScrapyDeprecationWarning: '2.6' is a deprecated value for the 'REQUEST_FINGERPRINTER_IMPLEMENTATION' setting.\n",
            "\n",
            "It is also the default value. In other words, it is normal to get this warning if you have not defined a value for the 'REQUEST_FINGERPRINTER_IMPLEMENTATION' setting. This is so for backward compatibility reasons, but it will change in a future version of Scrapy.\n",
            "\n",
            "See the documentation of the 'REQUEST_FINGERPRINTER_IMPLEMENTATION' setting for information on how to handle this deprecation.\n",
            "  return cls(crawler)\n",
            "DEBUG:scrapy.utils.log:Using reactor: twisted.internet.epollreactor.EPollReactor\n",
            "INFO:scrapy.extensions.telnet:Telnet Password: af2a23e331bd8571\n",
            "INFO:scrapy.middleware:Enabled extensions:\n",
            "['scrapy.extensions.corestats.CoreStats',\n",
            " 'scrapy.extensions.telnet.TelnetConsole',\n",
            " 'scrapy.extensions.memusage.MemoryUsage',\n",
            " 'scrapy.extensions.logstats.LogStats']\n",
            "INFO:scrapy.crawler:Overridden settings:\n",
            "{'LOG_ENABLED': False,\n",
            " 'USER_AGENT': 'Mozilla/5.0 (Windows NT 10.0; WOW64) AppleWebKit/537.36 '\n",
            "               '(KHTML, like Gecko) Chrome/109.0.0.0 Safari/537.36'}\n",
            "INFO:scrapy.middleware:Enabled downloader middlewares:\n",
            "['scrapy.downloadermiddlewares.httpauth.HttpAuthMiddleware',\n",
            " 'scrapy.downloadermiddlewares.downloadtimeout.DownloadTimeoutMiddleware',\n",
            " 'scrapy.downloadermiddlewares.defaultheaders.DefaultHeadersMiddleware',\n",
            " 'scrapy.downloadermiddlewares.useragent.UserAgentMiddleware',\n",
            " 'scrapy.downloadermiddlewares.retry.RetryMiddleware',\n",
            " 'scrapy.downloadermiddlewares.redirect.MetaRefreshMiddleware',\n",
            " 'scrapy.downloadermiddlewares.httpcompression.HttpCompressionMiddleware',\n",
            " 'scrapy.downloadermiddlewares.redirect.RedirectMiddleware',\n",
            " 'scrapy.downloadermiddlewares.cookies.CookiesMiddleware',\n",
            " 'scrapy.downloadermiddlewares.httpproxy.HttpProxyMiddleware',\n",
            " 'scrapy.downloadermiddlewares.stats.DownloaderStats']\n",
            "INFO:scrapy.middleware:Enabled spider middlewares:\n",
            "['scrapy.spidermiddlewares.httperror.HttpErrorMiddleware',\n",
            " 'scrapy.spidermiddlewares.offsite.OffsiteMiddleware',\n",
            " 'scrapy.spidermiddlewares.referer.RefererMiddleware',\n",
            " 'scrapy.spidermiddlewares.urllength.UrlLengthMiddleware',\n",
            " 'scrapy.spidermiddlewares.depth.DepthMiddleware']\n",
            "INFO:scrapy.middleware:Enabled item pipelines:\n",
            "[]\n",
            "INFO:scrapy.core.engine:Spider opened\n",
            "INFO:scrapy.extensions.logstats:Crawled 0 pages (at 0 pages/min), scraped 0 items (at 0 items/min)\n",
            "INFO:scrapy.extensions.telnet:Telnet console listening on 127.0.0.1:6023\n",
            "DEBUG:scrapy.core.engine:Crawled (200) <GET https://www.elmundo.es/> (referer: None)\n",
            "DEBUG:scrapy.dupefilters:Filtered duplicate request: <GET https://www.elmundo.es/deportes.html> - no more duplicates will be shown (see DUPEFILTER_DEBUG to show all duplicates)\n",
            "DEBUG:scrapy.core.engine:Crawled (200) <GET https://www.elmundo.es/deportes/futbol/europa-league.html> (referer: https://www.elmundo.es/)\n",
            "DEBUG:scrapy.core.engine:Crawled (200) <GET https://www.elmundo.es/deportes/futbol/segunda-division.html> (referer: https://www.elmundo.es/)\n",
            "DEBUG:scrapy.core.engine:Crawled (200) <GET https://www.elmundo.es/deportes/futbol/primera-division.html> (referer: https://www.elmundo.es/)\n",
            "DEBUG:scrapy.core.engine:Crawled (200) <GET https://www.elmundo.es/deportes/futbol/premier-league.html> (referer: https://www.elmundo.es/)\n",
            "DEBUG:scrapy.core.engine:Crawled (200) <GET https://www.elmundo.es/deportes/futbol/copa-del-rey.html> (referer: https://www.elmundo.es/)\n",
            "DEBUG:scrapy.core.engine:Crawled (200) <GET https://www.elmundo.es/deportes.html> (referer: https://www.elmundo.es/)\n",
            "DEBUG:scrapy.core.engine:Crawled (200) <GET https://www.elmundo.es/deportes/futbol.html> (referer: https://www.elmundo.es/)\n",
            "DEBUG:scrapy.core.engine:Crawled (200) <GET https://www.elmundo.es/deportes/baloncesto/liga-endesa.html> (referer: https://www.elmundo.es/)\n",
            "DEBUG:scrapy.core.engine:Crawled (200) <GET https://www.elmundo.es/deportes/baloncesto.html> (referer: https://www.elmundo.es/)\n",
            "DEBUG:scrapy.core.engine:Crawled (200) <GET https://www.elmundo.es/deportes/futbol/champions-league.html> (referer: https://www.elmundo.es/)\n",
            "DEBUG:scrapy.core.engine:Crawled (200) <GET https://www.elmundo.es/deportes/futbol/bundesliga.html> (referer: https://www.elmundo.es/)\n",
            "DEBUG:scrapy.core.engine:Crawled (200) <GET https://www.elmundo.es/deportes/baloncesto/eurobasket.html> (referer: https://www.elmundo.es/)\n",
            "DEBUG:scrapy.core.engine:Crawled (200) <GET https://www.elmundo.es/deportes/baloncesto/mundial.html> (referer: https://www.elmundo.es/)\n",
            "DEBUG:scrapy.core.engine:Crawled (200) <GET https://www.elmundo.es/deportes/baloncesto/nba.html> (referer: https://www.elmundo.es/)\n",
            "DEBUG:scrapy.core.engine:Crawled (200) <GET https://www.elmundo.es/deportes/mas-deporte/2023/10/25/6539588afdddfff51e8b45db.html> (referer: https://www.elmundo.es/)\n",
            "DEBUG:scrapy.core.engine:Crawled (200) <GET https://www.elmundo.es/deportes/futbol/primera-division/2023/10/26/653a4071e9cf4a7b358b45c7.html> (referer: https://www.elmundo.es/)\n",
            "DEBUG:scrapy.core.engine:Crawled (200) <GET https://www.elmundo.es/deportes/futbol/2023/10/26/653a467a21efa043148b4590.html> (referer: https://www.elmundo.es/)\n",
            "DEBUG:scrapy.core.engine:Crawled (200) <GET https://www.elmundo.es/deportes/baloncesto/copa-del-rey.html> (referer: https://www.elmundo.es/)\n",
            "DEBUG:scrapy.core.engine:Crawled (200) <GET https://www.elmundo.es/deportes/baloncesto/euroliga.html> (referer: https://www.elmundo.es/)\n",
            "DEBUG:scrapy.core.engine:Crawled (200) <GET https://www.elmundo.es/deportes/mas-motor.html> (referer: https://www.elmundo.es/)\n",
            "DEBUG:scrapy.core.engine:Crawled (200) <GET https://www.elmundo.es/deportes/juegos-olimpicos.html> (referer: https://www.elmundo.es/)\n",
            "DEBUG:scrapy.core.engine:Crawled (200) <GET https://www.elmundo.es/deportes/rugby/seis-naciones/calendario.html> (referer: https://www.elmundo.es/)\n",
            "DEBUG:scrapy.core.engine:Crawled (200) <GET https://www.elmundo.es/deportes/rugby.html> (referer: https://www.elmundo.es/)\n",
            "DEBUG:scrapy.core.engine:Crawled (200) <GET https://www.elmundo.es/deportes/padel.html> (referer: https://www.elmundo.es/)\n",
            "DEBUG:scrapy.core.engine:Crawled (200) <GET https://www.elmundo.es/deportes/futbol-americano.html> (referer: https://www.elmundo.es/)\n",
            "DEBUG:scrapy.core.engine:Crawled (200) <GET https://www.elmundo.es/deportes/futbol/futbol-sala.html> (referer: https://www.elmundo.es/)\n",
            "DEBUG:scrapy.core.engine:Crawled (200) <GET https://www.elmundo.es/deportes/mas-deporte.html> (referer: https://www.elmundo.es/)\n"
          ]
        },
        {
          "output_type": "stream",
          "name": "stdout",
          "text": [
            "-------------------------\n",
            "https://www.elmundo.es/deportes/mas-deporte/2023/10/25/6539588afdddfff51e8b45db.html\n",
            "Tigist Assefa: &quot;Voy a darlo todo por acercarme lo máximo a los tiempos de los hombres&quot;\n",
            "Hace exactamente un mes y dos días, Tigist Assefa (Adis Abeba, Etiopía, 1996) destrozó en Berlín el récord del mundo de maratón. Ninguna mujer había bajado jamás de las dos...\n",
            "2023-10-25T21:57:45Z\n",
            "-------------------------\n",
            "-------------------------\n",
            "https://www.elmundo.es/deportes/futbol/primera-division/2023/10/26/653a4071e9cf4a7b358b45c7.html\n",
            "Florentino no tiene intención de ir al palco del Barcelona\n",
            "&quot;A estas horas, no va&quot;. El mensaje que sale del Real Madrid habla de la intención de su presidente, Florentino Pérez, de no acudir el próximo sábado al palco del...\n",
            "2023-10-26T10:36:19Z\n",
            "-------------------------\n",
            "-------------------------\n",
            "https://www.elmundo.es/deportes/futbol/2023/10/26/653a467a21efa043148b4590.html\n",
            "El jefe de Marketing de la RFEF pide el archivo y revela nuevos mensajes con las jugadoras: &quot;Rubén, ha sido increíble&quot;\n",
            "El responsable de Marketing de la Real Federación Española de Fútbol (RFEF) pide a la Audiencia Nacional que archive la causa contra él por coacciones y aporta nuevos mensajes...\n",
            "2023-10-26T11:03:04Z\n",
            "-------------------------\n"
          ]
        },
        {
          "output_type": "stream",
          "name": "stderr",
          "text": [
            "DEBUG:scrapy.core.engine:Crawled (200) <GET https://www.elmundo.es/deportes/baloncesto/nba/pag2> (referer: https://www.elmundo.es/deportes/baloncesto/nba.html)\n",
            "DEBUG:scrapy.core.engine:Crawled (200) <GET https://www.elmundo.es/deportes/baloncesto/mundial/pag2> (referer: https://www.elmundo.es/deportes/baloncesto/mundial.html)\n",
            "DEBUG:scrapy.core.engine:Crawled (200) <GET https://www.elmundo.es/deportes/baloncesto/eurobasket/2022/09/11/631e134dfdddff94528b4596.html> (referer: https://www.elmundo.es/deportes/baloncesto/eurobasket.html)\n",
            "DEBUG:scrapy.core.engine:Crawled (200) <GET https://www.elmundo.es/deportes/baloncesto/eurobasket/2022/09/10/631cc1b621efa0d45d8b457f.html> (referer: https://www.elmundo.es/deportes/baloncesto/eurobasket.html)\n",
            "DEBUG:scrapy.core.engine:Crawled (200) <GET https://www.elmundo.es/deportes/tenis/2023/10/19/65319de0e4d4d8a11f8b45b8.html> (referer: https://www.elmundo.es/deportes.html)\n"
          ]
        },
        {
          "output_type": "stream",
          "name": "stdout",
          "text": [
            "-------------------------\n",
            "https://www.elmundo.es/deportes/baloncesto/eurobasket/2022/09/11/631e134dfdddff94528b4596.html\n",
            "Finlandia, rival en cuartos de España, la manada de lobos que lidera Markkanen: &quot;Es algo fuera de lo\n",
            "La fiesta nacional suomi se desató el domingo en el Mercedes Benz Arena. Por primera vez en 55 años (en 1967 acabaron sextos), Finlandia se coló entre los ocho mejores de un...\n",
            "2022-09-11T17:10:44Z\n",
            "-------------------------\n",
            "-------------------------\n",
            "https://www.elmundo.es/deportes/baloncesto/eurobasket/2022/09/10/631cc1b621efa0d45d8b457f.html\n",
            "Lorenzo Brown y una España heroica\n",
            "Está España donde casi nadie la esperaba, heroica entre los ocho mejores de Europa, rompiendo pronósticos y corazones. En una noche para el recuerdo, para los anales de la...\n",
            "2022-09-10T21:29:58Z\n",
            "-------------------------\n",
            "-------------------------\n",
            "https://www.elmundo.es/deportes/tenis/2023/10/19/65319de0e4d4d8a11f8b45b8.html\n",
            "Nadal y su regreso: &quot;Mi primera opción sería en enero, en Australia, pero no lo sé seguro&quot;\n",
            "Rafael Nadal reconoció que todavía no le ha desaparecido totalmente el dolor de la lesión en el psoas que le ha tenido apartado de la competición durante todo el año, pero...\n",
            "2023-10-19T21:22:23Z\n",
            "-------------------------\n"
          ]
        },
        {
          "output_type": "stream",
          "name": "stderr",
          "text": [
            "DEBUG:scrapy.core.engine:Crawled (200) <GET https://www.elmundo.es/deportes/juegos-olimpicos/2022/02/10/62050c8821efa0137b8b45d1.html> (referer: https://www.elmundo.es/deportes/juegos-olimpicos.html)\n",
            "DEBUG:scrapy.core.engine:Crawled (200) <GET https://www.elmundo.es/deportes/2023/10/19/65315600e9cf4ab3158b459b.html> (referer: https://www.elmundo.es/deportes.html)\n",
            "DEBUG:scrapy.core.engine:Crawled (200) <GET https://www.elmundo.es/deportes/baloncesto/eurobasket/2022/09/11/631d12cc21efa0026f8b45c9.html> (referer: https://www.elmundo.es/deportes/baloncesto/eurobasket.html)\n",
            "DEBUG:scrapy.core.engine:Crawled (200) <GET https://www.elmundo.es/deportes/juegos-olimpicos/2022/02/11/6204ee3721efa0173c8b4600.html> (referer: https://www.elmundo.es/deportes/juegos-olimpicos.html)\n",
            "DEBUG:scrapy.core.engine:Crawled (200) <GET https://www.elmundo.es/deportes/baloncesto/eurobasket/2022/09/10/631c3536fdddff3a178b45c3.html> (referer: https://www.elmundo.es/deportes/baloncesto/eurobasket.html)\n",
            "DEBUG:scrapy.core.engine:Crawled (200) <GET https://www.elmundo.es/deportes/juegos-olimpicos/pag2> (referer: https://www.elmundo.es/deportes/juegos-olimpicos.html)\n"
          ]
        },
        {
          "output_type": "stream",
          "name": "stdout",
          "text": [
            "-------------------------\n",
            "https://www.elmundo.es/deportes/juegos-olimpicos/2022/02/10/62050c8821efa0137b8b45d1.html\n",
            "Queralt Castellet, medalla de plata en Pekín: &quot;Me queda mucha guerra que dar&quot;\n",
            "El teléfono le quema. Demasiadas llamadas por WhatsApp. Está en esa tesitura entre silenciar el móvil o aprovechar su subidón mediático. Opta por lo segundo. Porque ha logrado...\n",
            "2022-02-10T13:09:40Z\n",
            "-------------------------\n",
            "-------------------------\n",
            "https://www.elmundo.es/deportes/2023/10/19/65315600e9cf4ab3158b459b.html\n",
            "Éric Zemmour vincula a Benzema con el ataque terrorista en el instituto de Arras\n",
            "Continúa la polémica en torno a Karin Benzema, o contra Karim Benzema. Hace dos días el ministro del Interior francés le acusó de pertenecer a los Hermanos Musulmanes, una...\n",
            "2023-10-19T16:57:45Z\n",
            "-------------------------\n",
            "-------------------------\n",
            "https://www.elmundo.es/deportes/baloncesto/eurobasket/2022/09/11/631d12cc21efa0026f8b45c9.html\n",
            "El &quot;cuento de hadas&quot; de España y un récord de la URSS\n",
            "Era la euforia de los que lo han vuelto a hacer. En el Mercedes Benz Arena se frotaban los ojos, abrazos aquí y allá, felicidad absoluta de esos niños que lo habían visto...\n",
            "2022-09-10T23:07:22Z\n",
            "-------------------------\n"
          ]
        },
        {
          "output_type": "stream",
          "name": "stderr",
          "text": [
            "DEBUG:scrapy.core.engine:Crawled (200) <GET https://www.elmundo.es/deportes/juegos-olimpicos/2022/02/10/61f5769dfc6c835d4c8b457e.html> (referer: https://www.elmundo.es/deportes/juegos-olimpicos.html)\n",
            "DEBUG:scrapy.core.engine:Crawled (200) <GET https://www.elmundo.es/deportes/baloncesto/eurobasket/2022/09/10/631ca965fc6c836e0c8b45ca.html> (referer: https://www.elmundo.es/deportes/baloncesto/eurobasket.html)\n",
            "DEBUG:scrapy.core.engine:Crawled (200) <GET https://www.elmundo.es/deportes/juegos-olimpicos/2022/02/12/62075ecee4d4d8b0388b4617.html> (referer: https://www.elmundo.es/deportes/juegos-olimpicos.html)\n",
            "DEBUG:scrapy.core.engine:Crawled (200) <GET https://www.elmundo.es/deportes/mas-deporte/pag2> (referer: https://www.elmundo.es/deportes/mas-deporte.html)\n",
            "DEBUG:scrapy.core.engine:Crawled (200) <GET https://www.elmundo.es/deportes/baloncesto/nba/2023/05/09/6459da37e4d4d8ee2e8b4574.html> (referer: https://www.elmundo.es/deportes/baloncesto/nba/pag2)\n"
          ]
        },
        {
          "output_type": "stream",
          "name": "stdout",
          "text": [
            "-------------------------\n",
            "https://www.elmundo.es/deportes/juegos-olimpicos/2022/02/11/6204ee3721efa0173c8b4600.html\n",
            "La intrahistoria de una medalla: una gincana para llegar a Pekín y la soledad en la Villa Olímpica\n",
            "Llegó sola a Pekín. Su entrenador, Danny Kass, legendario rider norteamericano con dos platas olímpicas en snowboard halfpipe, no pudo subirse en el avión que despegó desde...\n",
            "2022-02-11T01:03:17Z\n",
            "-------------------------\n",
            "-------------------------\n",
            "https://www.elmundo.es/deportes/baloncesto/eurobasket/2022/09/10/631c3536fdddff3a178b45c3.html\n",
            "Lituania, un muro para España en Berlín con muchas cuentas pendientes\n",
            "Aguarda Lituania (20.45 h., Cuatro) en el Mercedes Benz Arena, ya las 16 elegidas en Berlín, en el Rubicón para España entre el objetivo de mínimos y lo que sería otra gesta,...\n",
            "2022-09-10T07:01:04Z\n",
            "-------------------------\n",
            "-------------------------\n",
            "https://www.elmundo.es/deportes/juegos-olimpicos/2022/02/10/61f5769dfc6c835d4c8b457e.html\n",
            "Adrián Díaz y Olivia Smart, la pareja que surgió de dos rupturas: &quot;Hay que llevarse bien, si no se\n",
            "&amp;quot;Una vez que rompes con una, a ver cómo encuentras a otra...&amp;quot;, bromea Adrián Díaz (Barcelona, 1990) cuando se escucha a sí mismo explicando el rocambolesco génesis...\n",
            "2022-02-10T17:28:32Z\n",
            "-------------------------\n"
          ]
        },
        {
          "output_type": "stream",
          "name": "stderr",
          "text": [
            "DEBUG:scrapy.core.engine:Crawled (200) <GET https://www.elmundo.es/deportes/baloncesto/eurobasket/2022/09/13/6320bf87fc6c83677b8b45bc.html> (referer: https://www.elmundo.es/deportes/baloncesto/eurobasket.html)\n",
            "DEBUG:scrapy.core.engine:Crawled (200) <GET https://www.elmundo.es/deportes/juegos-olimpicos/2022/02/11/6206cafae4d4d8c8338b459f.html> (referer: https://www.elmundo.es/deportes/juegos-olimpicos.html)\n"
          ]
        },
        {
          "output_type": "stream",
          "name": "stdout",
          "text": [
            "-------------------------\n",
            "https://www.elmundo.es/deportes/baloncesto/eurobasket/2022/09/10/631ca965fc6c836e0c8b45ca.html\n",
            "Bélgica exige otro alarde de genialidad (y de sangre fría) de Doncic\n",
            "Tras un periplo sin tregua en Colonia, una primera fase que podría haber hecho temblar a cualquiera, Eslovenia se plantaba en octavos con pocos rasguños y un rival menos fiero a...\n",
            "2022-09-10T15:35:52Z\n",
            "-------------------------\n",
            "-------------------------\n",
            "https://www.elmundo.es/deportes/juegos-olimpicos/2022/02/12/62075ecee4d4d8b0388b4617.html\n",
            "Un entrenador olímpico estadounidense de snowboard, acusado de acoso sexual\n",
            "El entrenador del equipo estadounidense de snowboard, Peter Foley, presente en los Juegos Olímpicos de Pekín, fue acusado de acoso sexual y de comportamiento inapropiado por una...\n",
            "2022-02-12T07:16:43Z\n",
            "-------------------------\n",
            "-------------------------\n",
            "https://www.elmundo.es/deportes/baloncesto/nba/2023/05/09/6459da37e4d4d8ee2e8b4574.html\n",
            "Lonnie Walker IV se pone la corona de LeBron en los Lakers para dejar a los Warriors al borde del abismo\n",
            "Lo de la NBA y las historias de jugadores inesperados es algo casi tan antiguo como el mismo deporte del baloncesto. Y más en unos Playoffs como estos, en los que nada es lo que...\n",
            "2023-05-09T06:47:00Z\n",
            "-------------------------\n"
          ]
        },
        {
          "output_type": "stream",
          "name": "stderr",
          "text": [
            "DEBUG:scrapy.core.engine:Crawled (200) <GET https://www.elmundo.es/deportes/resultados/tenis.html> (referer: https://www.elmundo.es/deportes/tenis/2023/10/19/65319de0e4d4d8a11f8b45b8.html)\n",
            "DEBUG:scrapy.core.engine:Crawled (200) <GET https://www.elmundo.es/deportes/baloncesto/eurobasket/2022/09/01/6310a63321efa0c2458b45a7.html?intcmp=MNOT23801&s_kw=3> (referer: https://www.elmundo.es/deportes/baloncesto/eurobasket/2022/09/10/631cc1b621efa0d45d8b457f.html)\n",
            "DEBUG:scrapy.core.engine:Crawled (200) <GET https://www.elmundo.es/deportes/baloncesto/eurobasket/2022/09/10/631d07fd21efa0d45d8b4595.html> (referer: https://www.elmundo.es/deportes/baloncesto/eurobasket.html)\n",
            "DEBUG:scrapy.core.engine:Crawled (200) <GET https://www.elmundo.es/deportes/baloncesto/eurobasket/2022/07/26/62e0159efc6c832f688b45ca.html> (referer: https://www.elmundo.es/deportes/baloncesto/mundial/pag2)\n",
            "DEBUG:scrapy.core.engine:Crawled (200) <GET https://www.elmundo.es/deportes/baloncesto/eurobasket/2022/09/03/63139711fc6c83334c8b45a1.html?intcmp=MNOT23801&s_kw=3> (referer: https://www.elmundo.es/deportes/baloncesto/eurobasket/2022/09/11/631e134dfdddff94528b4596.html)\n",
            "ERROR:scrapy.core.scraper:Spider error processing <GET https://www.elmundo.es/deportes/baloncesto/eurobasket/2022/09/10/631d07fd21efa0d45d8b4595.html> (referer: https://www.elmundo.es/deportes/baloncesto/eurobasket.html)\n",
            "Traceback (most recent call last):\n",
            "  File \"/usr/local/lib/python3.10/dist-packages/scrapy/utils/defer.py\", line 279, in iter_errback\n",
            "    yield next(it)\n",
            "  File \"/usr/local/lib/python3.10/dist-packages/scrapy/utils/python.py\", line 350, in __next__\n",
            "    return next(self.data)\n",
            "  File \"/usr/local/lib/python3.10/dist-packages/scrapy/utils/python.py\", line 350, in __next__\n",
            "    return next(self.data)\n",
            "  File \"/usr/local/lib/python3.10/dist-packages/scrapy/core/spidermw.py\", line 106, in process_sync\n",
            "    for r in iterable:\n",
            "  File \"/usr/local/lib/python3.10/dist-packages/scrapy/spidermiddlewares/offsite.py\", line 28, in <genexpr>\n",
            "    return (r for r in result or () if self._filter(r, spider))\n",
            "  File \"/usr/local/lib/python3.10/dist-packages/scrapy/core/spidermw.py\", line 106, in process_sync\n",
            "    for r in iterable:\n",
            "  File \"/usr/local/lib/python3.10/dist-packages/scrapy/spidermiddlewares/referer.py\", line 352, in <genexpr>\n",
            "    return (self._set_referer(r, response) for r in result or ())\n",
            "  File \"/usr/local/lib/python3.10/dist-packages/scrapy/core/spidermw.py\", line 106, in process_sync\n",
            "    for r in iterable:\n",
            "  File \"/usr/local/lib/python3.10/dist-packages/scrapy/spidermiddlewares/urllength.py\", line 27, in <genexpr>\n",
            "    return (r for r in result or () if self._filter(r, spider))\n",
            "  File \"/usr/local/lib/python3.10/dist-packages/scrapy/core/spidermw.py\", line 106, in process_sync\n",
            "    for r in iterable:\n",
            "  File \"/usr/local/lib/python3.10/dist-packages/scrapy/spidermiddlewares/depth.py\", line 31, in <genexpr>\n",
            "    return (r for r in result or () if self._filter(r, response, spider))\n",
            "  File \"/usr/local/lib/python3.10/dist-packages/scrapy/core/spidermw.py\", line 106, in process_sync\n",
            "    for r in iterable:\n",
            "  File \"<ipython-input-1-aaad0d719ab0>\", line 39, in parse\n",
            "    data = json.loads(item.css('::text').get())\n",
            "  File \"/usr/lib/python3.10/json/__init__.py\", line 346, in loads\n",
            "    return _default_decoder.decode(s)\n",
            "  File \"/usr/lib/python3.10/json/decoder.py\", line 337, in decode\n",
            "    obj, end = self.raw_decode(s, idx=_w(s, 0).end())\n",
            "  File \"/usr/lib/python3.10/json/decoder.py\", line 353, in raw_decode\n",
            "    obj, end = self.scan_once(s, idx)\n",
            "json.decoder.JSONDecodeError: Invalid control character at: line 10 column 56 (char 397)\n"
          ]
        },
        {
          "output_type": "stream",
          "name": "stdout",
          "text": [
            "-------------------------\n",
            "https://www.elmundo.es/deportes/baloncesto/eurobasket/2022/09/13/6320bf87fc6c83677b8b45bc.html\n",
            "Cuando esta España defiende, todo se vuelve posible\n",
            "La nueva España ha construido sus victorias con su defensa coral y concentrada. Cuando, además, viene en su auxilio la vieja España bajo forma de un Rudy Fernández, a sus 37...\n",
            "2022-09-13T17:40:32Z\n",
            "-------------------------\n",
            "-------------------------\n",
            "https://www.elmundo.es/deportes/juegos-olimpicos/2022/02/11/6206cafae4d4d8c8338b459f.html\n",
            "El oro de la reina versátil, entrenada por un granadino\n",
            "Aunque vaya contra la lógica informativa, a veces hay que empezar una crónica resaltando una derrota, si es más noticiable que una victoria. Es el caso del eslalon supergigante,...\n",
            "2022-02-11T20:49:37Z\n",
            "-------------------------\n",
            "-------------------------\n",
            "https://www.elmundo.es/deportes/baloncesto/eurobasket/2022/09/01/6310a63321efa0c2458b45a7.html?intcmp=MNOT23801&s_kw=3\n",
            "La nueva España amanece con un festival\n",
            "La nueva España no quiere espejos, pretende su propio camino, ganarse el respeto, que las ganas de revancha del resto tras tantos años de tiranía sean menos. Y no hay otra...\n",
            "2022-09-01T13:26:47Z\n",
            "-------------------------\n",
            "-------------------------\n",
            "https://www.elmundo.es/deportes/baloncesto/eurobasket/2022/07/26/62e0159efc6c832f688b45ca.html\n",
            "Grecia preselecciona a los cuatro hermanos Antetokounmpo para el Eurobasket\n",
            "La estrella de la NBA Giannis Antetokounmpo y tres de sus hermanos fueron convocados este martes por Dimitris Itudis para disputar el Eurobasket y las eliminatorias mundialistas...\n",
            "2022-07-26T16:27:20Z\n",
            "-------------------------\n",
            "-------------------------\n",
            "https://www.elmundo.es/deportes/baloncesto/eurobasket/2022/09/03/63139711fc6c83334c8b45a1.html?intcmp=MNOT23801&s_kw=3\n",
            "Una España sin complejos se divierte y gana con el impulso de los Hernangómez\n",
            "Defensa, concentración, intensidad, otra vez defensa. No le pidan alharacas a esta nueva España, atrás quedaron los fuegos artificiales, pero qué manera de competir. Tras el...\n",
            "2022-09-03T18:51:13Z\n",
            "-------------------------\n"
          ]
        },
        {
          "output_type": "stream",
          "name": "stderr",
          "text": [
            "DEBUG:scrapy.core.engine:Crawled (200) <GET https://www.elmundo.es/deportes/baloncesto/eurobasket/2022/09/03/63120302fc6c83d5758b4594.html?intcmp=MNOT23801&s_kw=2> (referer: https://www.elmundo.es/deportes/baloncesto/eurobasket/2022/09/10/631cc1b621efa0d45d8b457f.html)\n",
            "DEBUG:scrapy.core.engine:Crawled (200) <GET https://www.elmundo.es/deportes/futbol/jugadores/karim-benzema.html> (referer: https://www.elmundo.es/deportes/2023/10/19/65315600e9cf4ab3158b459b.html)\n",
            "DEBUG:scrapy.core.engine:Crawled (200) <GET https://www.elmundo.es/deportes/futbol/francia.html> (referer: https://www.elmundo.es/deportes/2023/10/19/65315600e9cf4ab3158b459b.html)\n",
            "DEBUG:scrapy.core.engine:Crawled (200) <GET https://www.elmundo.es/deportes/baloncesto/eurobasket/2022/09/09/631b88e6fdddffc9bc8b4572.html?intcmp=MNOT23801&s_kw=1> (referer: https://www.elmundo.es/deportes/baloncesto/eurobasket/2022/09/10/631cc1b621efa0d45d8b457f.html)\n",
            "DEBUG:scrapy.core.engine:Crawled (200) <GET https://www.elmundo.es/deportes/juegos-olimpicos-de-invierno.html> (referer: https://www.elmundo.es/deportes/juegos-olimpicos/2022/02/10/62050c8821efa0137b8b45d1.html)\n",
            "DEBUG:scrapy.core.engine:Crawled (200) <GET https://www.elmundo.es/deportes/baloncesto/eurobasket/2022/09/01/630f91b3e4d4d866788b45b1.html?intcmp=MNOT23801&s_kw=2> (referer: https://www.elmundo.es/deportes/baloncesto/eurobasket/2022/09/11/631e134dfdddff94528b4596.html)\n",
            "DEBUG:scrapy.core.engine:Crawled (200) <GET https://www.elmundo.es/deportes/mas-deporte/2022/02/10/6204ec7ae4d4d8f8278b45c0.html> (referer: https://www.elmundo.es/deportes/juegos-olimpicos/2022/02/10/62050c8821efa0137b8b45d1.html)\n",
            "DEBUG:scrapy.core.engine:Crawled (200) <GET https://www.elmundo.es/deportes/baloncesto/nba/pag3> (referer: https://www.elmundo.es/deportes/baloncesto/nba/pag2)\n"
          ]
        },
        {
          "output_type": "stream",
          "name": "stdout",
          "text": [
            "-------------------------\n",
            "https://www.elmundo.es/deportes/baloncesto/eurobasket/2022/09/03/63120302fc6c83d5758b4594.html?intcmp=MNOT23801&s_kw=2\n",
            "Rudy Fernández, líder de la selección en el nombre del padre: &quot;Lo fácil hubiera sido quedarse en\n",
            "En 2004, aquel prodigio de pelo rizado, imberbe aún como aquellos que ahora le observan con admiración desde la habitación de al lado, pulsó el contador de lo que iba a devenir...\n",
            "2022-09-03T00:22:28Z\n",
            "-------------------------\n",
            "-------------------------\n",
            "https://www.elmundo.es/deportes/baloncesto/eurobasket/2022/09/09/631b88e6fdddffc9bc8b4572.html?intcmp=MNOT23801&s_kw=1\n",
            "Darío Brizuela, el microondas de la selección: &quot;Estoy para dinamitar los partidos&quot;\n",
            "Darío Brizuela (San Sebastián, 1994) es la dinamita en el escape de gas de la selección, el tipo llamado a ponerlo todo patas arriba desde el banquillo. Meritorio de las...\n",
            "2022-09-09T18:47:58Z\n",
            "-------------------------\n"
          ]
        },
        {
          "output_type": "stream",
          "name": "stderr",
          "text": [
            "DEBUG:scrapy.core.engine:Crawled (200) <GET https://www.elmundo.es/deportes/baloncesto/eurobasket/2022/09/11/631d12cc21efa0026f8b45c9.html?intcmp=MNOT23801&s_kw=1> (referer: https://www.elmundo.es/deportes/baloncesto/eurobasket/2022/09/11/631e134dfdddff94528b4596.html)\n",
            "DEBUG:scrapy.core.engine:Crawled (200) <GET https://www.elmundo.es/deportes/juegos-olimpicos/2022/02/10/61f5769dfc6c835d4c8b457e.html?intcmp=MNOT23801&s_kw=3> (referer: https://www.elmundo.es/deportes/juegos-olimpicos/2022/02/11/6204ee3721efa0173c8b4600.html)\n",
            "DEBUG:scrapy.core.engine:Crawled (200) <GET https://www.elmundo.es/deportes/juegos-olimpicos/2022/02/10/62050c8821efa0137b8b45d1.html?intcmp=MNOT23801&s_kw=1> (referer: https://www.elmundo.es/deportes/juegos-olimpicos/2022/02/11/6204ee3721efa0173c8b4600.html)\n",
            "DEBUG:scrapy.core.engine:Crawled (200) <GET https://www.elmundo.es/deportes/juegos-olimpicos/2022/02/04/61fd05cc21efa0b0118b4591.html> (referer: https://www.elmundo.es/deportes/juegos-olimpicos/pag2)\n"
          ]
        },
        {
          "output_type": "stream",
          "name": "stdout",
          "text": [
            "-------------------------\n",
            "https://www.elmundo.es/deportes/baloncesto/eurobasket/2022/09/01/630f91b3e4d4d866788b45b1.html?intcmp=MNOT23801&s_kw=2\n",
            "La nueva realidad de España en el Eurobasket de las estrellas: &quot;No tenemos miedo&quot;\n",
            "Pide Scariolo no mirar al pasado, conscientes todos de que, ahora sí, la selección española, la temida, la doble campeona mundial, la de las medallas olímpicas y los oros...\n",
            "2022-09-01T00:02:14Z\n",
            "-------------------------\n",
            "-------------------------\n",
            "https://www.elmundo.es/deportes/mas-deporte/2022/02/10/6204ec7ae4d4d8f8278b45c0.html\n",
            "Queralt Castellet, plata de la mejor ley 50 años después del oro de Paquito\n",
            "Mejor hubiera sido el oro, claro. Pero la plata fue mucho, muchísimo mejor que el bronce. Y Queralt Castellet se la colgó del orgulloso cuello en snowboard, en la modalidad de...\n",
            "2022-02-10T10:44:12Z\n",
            "-------------------------\n"
          ]
        },
        {
          "output_type": "stream",
          "name": "stderr",
          "text": [
            "DEBUG:scrapy.core.engine:Crawled (200) <GET https://www.elmundo.es/deportes/baloncesto/eurobasket/2022/09/03/63120302fc6c83d5758b4594.html?intcmp=MNOT23801&s_kw=1> (referer: https://www.elmundo.es/deportes/baloncesto/eurobasket/2022/09/10/631c3536fdddff3a178b45c3.html)\n",
            "DEBUG:scrapy.core.engine:Crawled (200) <GET https://www.elmundo.es/deportes/baloncesto/eurobasket/2022/09/08/6319d1bde4d4d81e038b45ba.html> (referer: https://www.elmundo.es/deportes/baloncesto/eurobasket/2022/09/10/631c3536fdddff3a178b45c3.html)\n",
            "DEBUG:scrapy.core.engine:Crawled (200) <GET https://www.elmundo.es/deportes/baloncesto/eurobasket/2022/09/01/630f91b3e4d4d866788b45b1.html> (referer: https://www.elmundo.es/deportes/baloncesto/eurobasket/2022/09/01/6310a63321efa0c2458b45a7.html?intcmp=MNOT23801&s_kw=3)\n",
            "DEBUG:scrapy.core.engine:Crawled (200) <GET https://www.elmundo.es/deportes/mas-deporte/2023/08/03/64cbef56e4d4d88e018b45c5.html> (referer: https://www.elmundo.es/deportes/mas-deporte/pag2)\n",
            "DEBUG:scrapy.core.engine:Crawled (200) <GET https://www.elmundo.es/deportes/baloncesto/eurobasket/2022/09/01/630f91b3e4d4d866788b45b1.html?intcmp=MNOT23801&s_kw=1> (referer: https://www.elmundo.es/deportes/baloncesto/eurobasket/2022/09/01/6310a63321efa0c2458b45a7.html?intcmp=MNOT23801&s_kw=3)\n",
            "DEBUG:scrapy.core.engine:Crawled (200) <GET https://www.elmundo.es/deportes/baloncesto/eurobasket/2022/09/09/631b88e6fdddffc9bc8b4572.html> (referer: https://www.elmundo.es/deportes/baloncesto/eurobasket/2022/09/10/631c3536fdddff3a178b45c3.html)\n",
            "DEBUG:scrapy.core.engine:Crawled (200) <GET https://www.elmundo.es/deportes/baloncesto/eurobasket/2022/09/01/630f89c7fc6c83c3198b4581.html> (referer: https://www.elmundo.es/deportes/baloncesto/eurobasket/2022/09/01/6310a63321efa0c2458b45a7.html?intcmp=MNOT23801&s_kw=3)\n",
            "DEBUG:scrapy.core.engine:Crawled (200) <GET https://www.elmundo.es/deportes/juegos-olimpicos/2022/02/04/61fd183a21efa0c7078b458e.html> (referer: https://www.elmundo.es/deportes/juegos-olimpicos/pag2)\n"
          ]
        },
        {
          "output_type": "stream",
          "name": "stdout",
          "text": [
            "-------------------------\n",
            "https://www.elmundo.es/deportes/baloncesto/eurobasket/2022/09/11/631d12cc21efa0026f8b45c9.html?intcmp=MNOT23801&s_kw=1\n",
            "El &quot;cuento de hadas&quot; de España y un récord de la URSS\n",
            "Era la euforia de los que lo han vuelto a hacer. En el Mercedes Benz Arena se frotaban los ojos, abrazos aquí y allá, felicidad absoluta de esos niños que lo habían visto...\n",
            "2022-09-10T23:07:22Z\n",
            "-------------------------\n",
            "-------------------------\n",
            "https://www.elmundo.es/deportes/juegos-olimpicos/2022/02/10/61f5769dfc6c835d4c8b457e.html?intcmp=MNOT23801&s_kw=3\n",
            "Adrián Díaz y Olivia Smart, la pareja que surgió de dos rupturas: &quot;Hay que llevarse bien, si no se\n",
            "&amp;quot;Una vez que rompes con una, a ver cómo encuentras a otra...&amp;quot;, bromea Adrián Díaz (Barcelona, 1990) cuando se escucha a sí mismo explicando el rocambolesco génesis...\n",
            "2022-02-10T17:28:32Z\n",
            "-------------------------\n",
            "-------------------------\n",
            "https://www.elmundo.es/deportes/juegos-olimpicos/2022/02/10/62050c8821efa0137b8b45d1.html?intcmp=MNOT23801&s_kw=1\n",
            "Queralt Castellet, medalla de plata en Pekín: &quot;Me queda mucha guerra que dar&quot;\n",
            "El teléfono le quema. Demasiadas llamadas por WhatsApp. Está en esa tesitura entre silenciar el móvil o aprovechar su subidón mediático. Opta por lo segundo. Porque ha logrado...\n",
            "2022-02-10T13:09:40Z\n",
            "-------------------------\n",
            "-------------------------\n",
            "https://www.elmundo.es/deportes/juegos-olimpicos/2022/02/04/61fd05cc21efa0b0118b4591.html\n",
            "Calendario de los Juegos Olímpicos de Invierno 2022 en Pekín\n",
            "La capital china afina los últimos detalles en la víspera de la inauguración de los Juegos Olímpicos de Invierno, un evento atípico que se desarrollará íntegramente dentro...\n",
            "2022-02-04T11:20:27Z\n",
            "-------------------------\n"
          ]
        },
        {
          "output_type": "stream",
          "name": "stderr",
          "text": [
            "DEBUG:scrapy.core.engine:Crawled (200) <GET https://www.elmundo.es/deportes/mas-deporte/2023/07/24/64b0016d21efa08c7e8b4585.html> (referer: https://www.elmundo.es/deportes/mas-deporte/pag2)\n",
            "DEBUG:scrapy.core.engine:Crawled (200) <GET https://www.elmundo.es/deportes/mas-deporte/2023/07/24/64b01dd6e85eceb4658b459f.html> (referer: https://www.elmundo.es/deportes/mas-deporte/pag2)\n",
            "DEBUG:scrapy.core.engine:Crawled (200) <GET https://www.elmundo.es/deportes/mas-deporte/2023/07/25/64b01038e4d4d804598b45c0.html> (referer: https://www.elmundo.es/deportes/mas-deporte/pag2)\n",
            "DEBUG:scrapy.core.engine:Crawled (200) <GET https://www.elmundo.es/deportes/baloncesto/2022/08/18/62fe970121efa03a038b45a9.html?intcmp=MNOT23801&s_kw=3> (referer: https://www.elmundo.es/deportes/baloncesto/eurobasket/2022/09/01/6310a63321efa0c2458b45a7.html?intcmp=MNOT23801&s_kw=3)\n",
            "DEBUG:scrapy.core.engine:Crawled (200) <GET https://www.elmundo.es/deportes/baloncesto/2022/08/11/62f563e121efa0fb4f8b457a.html?intcmp=MNOT23801&s_kw=3> (referer: https://www.elmundo.es/deportes/baloncesto/eurobasket/2022/09/03/63139711fc6c83334c8b45a1.html?intcmp=MNOT23801&s_kw=3)\n"
          ]
        },
        {
          "output_type": "stream",
          "name": "stdout",
          "text": [
            "-------------------------\n",
            "https://www.elmundo.es/deportes/baloncesto/eurobasket/2022/09/03/63120302fc6c83d5758b4594.html?intcmp=MNOT23801&s_kw=1\n",
            "Rudy Fernández, líder de la selección en el nombre del padre: &quot;Lo fácil hubiera sido quedarse en\n",
            "En 2004, aquel prodigio de pelo rizado, imberbe aún como aquellos que ahora le observan con admiración desde la habitación de al lado, pulsó el contador de lo que iba a devenir...\n",
            "2022-09-03T00:22:28Z\n",
            "-------------------------\n",
            "-------------------------\n",
            "https://www.elmundo.es/deportes/baloncesto/eurobasket/2022/09/08/6319d1bde4d4d81e038b45ba.html\n",
            "Jaime Pradilla, el &quot;Felipe Reyes&quot; que ha derribado la puerta de la selección: &quot;No tiene\n",
            "El primer día de concentración, a comienzos de agosto, Sergio Scariolo le dijo a Jaime Pradilla: &amp;quot;Tiene pinta de que te vas a quedar mucho tiempo&amp;quot;. Un mes después, el...\n",
            "2022-09-08T20:44:23Z\n",
            "-------------------------\n",
            "-------------------------\n",
            "https://www.elmundo.es/deportes/baloncesto/eurobasket/2022/09/01/630f91b3e4d4d866788b45b1.html\n",
            "La nueva realidad de España en el Eurobasket de las estrellas: &quot;No tenemos miedo&quot;\n",
            "Pide Scariolo no mirar al pasado, conscientes todos de que, ahora sí, la selección española, la temida, la doble campeona mundial, la de las medallas olímpicas y los oros...\n",
            "2022-09-01T00:02:14Z\n",
            "-------------------------\n",
            "-------------------------\n",
            "https://www.elmundo.es/deportes/mas-deporte/2023/08/03/64cbef56e4d4d88e018b45c5.html\n",
            "Sara Khadem debuta con mal pie como española\n",
            "Sara Khadem, ajedrecista de origen iraní que acaba de conseguir la nacionalidad española, ha vivido un paso fugaz por la Copa del Mundo, que se celebra en Bakú desde finales de...\n",
            "2023-08-03T18:18:08Z\n",
            "-------------------------\n",
            "-------------------------\n",
            "https://www.elmundo.es/deportes/baloncesto/eurobasket/2022/09/01/630f91b3e4d4d866788b45b1.html?intcmp=MNOT23801&s_kw=1\n",
            "La nueva realidad de España en el Eurobasket de las estrellas: &quot;No tenemos miedo&quot;\n",
            "Pide Scariolo no mirar al pasado, conscientes todos de que, ahora sí, la selección española, la temida, la doble campeona mundial, la de las medallas olímpicas y los oros...\n",
            "2022-09-01T00:02:14Z\n",
            "-------------------------\n"
          ]
        },
        {
          "output_type": "stream",
          "name": "stderr",
          "text": [
            "DEBUG:scrapy.core.engine:Crawled (200) <GET https://www.elmundo.es/deportes/mas-deporte/2023/07/25/64c00974e9cf4a39278b45c1.html> (referer: https://www.elmundo.es/deportes/mas-deporte/pag2)\n",
            "DEBUG:scrapy.core.engine:Crawled (200) <GET https://www.elmundo.es/deportes/mas-deporte/pag3> (referer: https://www.elmundo.es/deportes/mas-deporte/pag2)\n",
            "DEBUG:scrapy.core.engine:Crawled (200) <GET https://www.elmundo.es/deportes/mas-deporte/2023/07/25/64bfc902e85ecead7c8b4590.html> (referer: https://www.elmundo.es/deportes/mas-deporte/pag2)\n"
          ]
        },
        {
          "output_type": "stream",
          "name": "stdout",
          "text": [
            "-------------------------\n",
            "https://www.elmundo.es/deportes/baloncesto/eurobasket/2022/09/09/631b88e6fdddffc9bc8b4572.html\n",
            "Darío Brizuela, el microondas de la selección: &quot;Estoy para dinamitar los partidos&quot;\n",
            "Darío Brizuela (San Sebastián, 1994) es la dinamita en el escape de gas de la selección, el tipo llamado a ponerlo todo patas arriba desde el banquillo. Meritorio de las...\n",
            "2022-09-09T18:47:58Z\n",
            "-------------------------\n",
            "-------------------------\n",
            "https://www.elmundo.es/deportes/baloncesto/eurobasket/2022/09/01/630f89c7fc6c83c3198b4581.html\n",
            "Willy Hernangómez: &quot;Tampoco éramos los más fuertes en el Mundial&quot;\n",
            "En esta nueva España, Willy Hernangómez (Madrid, 1994) ha subido, a la fuerza, varios escalones de golpe. En rendimiento (máximo anotador durante la preparación), en galones...\n",
            "2022-09-01T00:02:16Z\n",
            "-------------------------\n"
          ]
        },
        {
          "output_type": "stream",
          "name": "stderr",
          "text": [
            "DEBUG:scrapy.core.engine:Crawled (200) <GET https://www.elmundo.es/deportes/futbol/2023/06/23/6495d443fdddff16398b45a1.html> (referer: https://www.elmundo.es/deportes/futbol/jugadores/karim-benzema.html)\n"
          ]
        },
        {
          "output_type": "stream",
          "name": "stdout",
          "text": [
            "-------------------------\n",
            "https://www.elmundo.es/deportes/juegos-olimpicos/2022/02/04/61fd183a21efa0c7078b458e.html\n",
            "Tradición, tecnología y mensaje político en la ceremonia de apertura de los JJOO de Pekín\n",
            "Pekín presentó al mundo sus Juegos Olímpicos de Invierno en la primera noche de la primavera siguiendo el calendario chino. Volvió a brillar aquel escenario triunfal del verano...\n",
            "2022-02-04T15:06:00Z\n",
            "-------------------------\n",
            "-------------------------\n",
            "https://www.elmundo.es/deportes/mas-deporte/2023/07/24/64b0016d21efa08c7e8b4585.html\n",
            "Radiografía de David Popovici, la nueva estrella de la natación: &quot;Le costó encontrar el equilibrio entre diversión y disciplina&quot;\n",
            "David Popovici, un fenómeno, un portento, la nueva estrella de la natación. El verano pasado, con sólo 17 años, batió el récord de todos los récords, los 100 metros libre, y...\n",
            "2023-07-24T15:32:12Z\n",
            "-------------------------\n",
            "-------------------------\n",
            "https://www.elmundo.es/deportes/mas-deporte/2023/07/24/64b01dd6e85eceb4658b459f.html\n",
            "El accidente del saltador Carlos Gimeno que le dejó 15 minutos inconsciente: &quot;¿Cómo repetir algo que casi te mata?&quot;\n",
            "&quot;Fue en Macao, en 2018. Estaba entrenando para debutar en las series de Red Bull de saltos de gran altura. Allí tenía un trampolín de 27 metros y practicaba un ejercicio...\n",
            "2023-07-24T21:57:38Z\n",
            "-------------------------\n",
            "-------------------------\n",
            "https://www.elmundo.es/deportes/mas-deporte/2023/07/25/64b01038e4d4d804598b45c0.html\n",
            "España vuelve a unas semifinales del Mundial: ¿Cómo ha resucitado en waterpolo?\n",
            "&quot;Somos los Guardianes de la Galaxia&quot;, anuncia Blai Mallarach y hay que recordarle que la referencia ya es algo antigua aunque Marvel insista en secuelas. Los Guardianes...\n",
            "2023-07-25T07:35:48Z\n",
            "-------------------------\n"
          ]
        },
        {
          "output_type": "stream",
          "name": "stderr",
          "text": [
            "DEBUG:scrapy.core.engine:Crawled (200) <GET https://www.elmundo.es/deportes/futbol/primera-division/2023/07/25/64bebd3bfdddff647f8b45a0.html> (referer: https://www.elmundo.es/deportes/futbol/jugadores/karim-benzema.html)\n"
          ]
        },
        {
          "output_type": "stream",
          "name": "stdout",
          "text": [
            "-------------------------\n",
            "https://www.elmundo.es/deportes/baloncesto/2022/08/18/62fe970121efa03a038b45a9.html?intcmp=MNOT23801&s_kw=3\n",
            "A España no le llega contra Lituania\n",
            "La selección española de baloncesto cosechó una nueva derrota ante Lituania (78-76) en la fase de preparación del Eurobasket, en un partido donde, pese a su mal comienzo,...\n",
            "2022-08-18T19:59:23Z\n",
            "-------------------------\n",
            "-------------------------\n",
            "https://www.elmundo.es/deportes/baloncesto/2022/08/11/62f563e121efa0fb4f8b457a.html?intcmp=MNOT23801&s_kw=3\n",
            "Willy Hernangómez lidera la primera victoria de España en la preparación\n",
            "El camino hacia el Eurobasket dobla este año como casting para la selección española. Se trata de buscar sangre joven pero también designar a sus nuevos referentes. A nivel de...\n",
            "2022-08-11T20:21:53Z\n",
            "-------------------------\n",
            "-------------------------\n",
            "https://www.elmundo.es/deportes/mas-deporte/2023/07/25/64c00974e9cf4a39278b45c1.html\n",
            "40 años del récord de Jarmila en 800 metros, la marca imbatible\n",
            "Se cumplen 40 años del récord más antiguo del atletismo. El 26 de julio de 1983, la checoslovaca Jarmila Kratochvilova corría, en Múnich, los 800 metros en 1:53.28.\n",
            "2023-07-25T17:43:07Z\n",
            "-------------------------\n",
            "-------------------------\n",
            "https://www.elmundo.es/deportes/mas-deporte/2023/07/25/64bfc902e85ecead7c8b4590.html\n",
            "David Popovici choca contra el récord imposible: ni el prodigio acaba con los bañadores de plástico\n",
            "Y si ese récord del mundo es imposible, y si está fuera del alcance del ser humano, y si se quedará en los libros por los siglos. Los bañadores de plástico y sus efectos....\n",
            "2023-07-25T13:08:31Z\n",
            "-------------------------\n",
            "-------------------------\n",
            "https://www.elmundo.es/deportes/futbol/2023/06/23/6495d443fdddff16398b45a1.html\n",
            "La historia recuerda al Madrid el peso de sus &apos;nueves&apos; mientras espera a Mbappé y prepara el\n",
            "La historia del Madrid pide un nueve, un gran nueve. En un fútbol que ha perdido buena parte de la liturgia de los dorsales, antaño sinónimos de roles muy específicos, el nueve...\n",
            "2023-06-23T20:09:13Z\n",
            "-------------------------\n",
            "-------------------------\n",
            "https://www.elmundo.es/deportes/futbol/primera-division/2023/07/25/64bebd3bfdddff647f8b45a0.html\n",
            "El &apos;rombo&apos; de Bellingham a la espera de Mbappé\n",
            "&quot;Bellingham ha jugado un buen partido&quot;. &quot;Es un jugador fantástico&quot;. &quot;Su mejor posición es la de 10&quot;. Son las frases que Carlo Ancelotti decía sobre...\n",
            "2023-07-24T23:57:07Z\n",
            "-------------------------\n"
          ]
        },
        {
          "output_type": "stream",
          "name": "stderr",
          "text": [
            "DEBUG:scrapy.core.engine:Crawled (200) <GET https://www.elmundo.es/deportes/baloncesto/nba/2022/10/29/635d5b8b21efa008638b4580.html> (referer: https://www.elmundo.es/deportes/baloncesto/nba/pag3)\n",
            "DEBUG:scrapy.core.engine:Crawled (200) <GET https://www.elmundo.es/deportes/baloncesto/nba/2022/10/29/635d548221efa0ec208b4571.html> (referer: https://www.elmundo.es/deportes/baloncesto/nba/pag3)\n",
            "DEBUG:scrapy.core.engine:Crawled (200) <GET https://www.elmundo.es/deportes/baloncesto/nba/2022/10/31/635fc67f21efa0ce708b457c.html> (referer: https://www.elmundo.es/deportes/baloncesto/nba/pag3)\n",
            "DEBUG:scrapy.core.engine:Crawled (200) <GET https://www.elmundo.es/deportes/baloncesto/nba/2022/11/03/6363e40ffc6c8345368b45fb.html> (referer: https://www.elmundo.es/deportes/baloncesto/nba/pag3)\n",
            "INFO:scrapy.crawler:Received SIGINT, shutting down gracefully. Send again to force \n",
            "DEBUG:scrapy.core.engine:Crawled (200) <GET https://www.elmundo.es/deportes/baloncesto/nba/2022/11/04/6364c3f3fc6c83084c8b45a5.html> (referer: https://www.elmundo.es/deportes/baloncesto/nba/pag3)\n",
            "INFO:scrapy.core.engine:Closing spider (shutdown)\n",
            "DEBUG:scrapy.core.engine:Crawled (200) <GET https://www.elmundo.es/deportes/baloncesto/nba/2022/11/02/63622b8921efa0854a8b45d3.html> (referer: https://www.elmundo.es/deportes/baloncesto/nba/pag3)\n",
            "DEBUG:scrapy.core.engine:Crawled (200) <GET https://www.elmundo.es/deportes/baloncesto/2022/11/10/636d1fc4fc6c8392418b45d8.html> (referer: https://www.elmundo.es/deportes/baloncesto/nba/pag3)\n"
          ]
        },
        {
          "output_type": "stream",
          "name": "stdout",
          "text": [
            "-------------------------\n",
            "https://www.elmundo.es/deportes/baloncesto/nba/2022/10/29/635d5b8b21efa008638b4580.html\n",
            "George Mikan, la primera estrella de los Lakers y el primer gran pívot dominador\n",
            "George Mikan subió a una escalera y empezó a limpiar con un trapo la marquesina del Madison Square Garden. En concreto la &amp;apos;O&amp;apos; de su nombre, porque lo que destacaban los...\n",
            "2022-10-29T16:57:54Z\n",
            "-------------------------\n",
            "-------------------------\n",
            "https://www.elmundo.es/deportes/baloncesto/nba/2022/10/29/635d548221efa0ec208b4571.html\n",
            "La peor crisis de los Lakers: sin victorias y más problemas que Westbrook\n",
            "Los Angeles Lakers ganaron la NBA 2020 arropando a LeBron James y Anthony Davis con veteranos que cubrían las necesidades básicas, tiro y defensa. Nada sugerente, pero efectivo....\n",
            "2022-10-29T16:31:46Z\n",
            "-------------------------\n",
            "-------------------------\n",
            "https://www.elmundo.es/deportes/baloncesto/nba/2022/10/31/635fc67f21efa0ce708b457c.html\n",
            "Doncic emula a Michael Jordan y los Lakers se quitan un peso de encima\n",
            "Tras cinco derrotas consecutivas, Los Angeles Lakers sumaron su primera victoria del curso en un domingo en el que Luka Doncic deslumbró con 44 puntos y los Golden State Warriors...\n",
            "2022-10-31T12:59:32Z\n",
            "-------------------------\n",
            "-------------------------\n",
            "https://www.elmundo.es/deportes/baloncesto/nba/2022/11/03/6363e40ffc6c8345368b45fb.html\n",
            "Terraplanista, antivacunas y antisemita: la polémica de Kyrie Irving que puede acabar con su carrera\n",
            "Miren la foto de arriba. En primera fila del Barclays Center, ocho espectadores, en principio aficionados de los locales Brooklyn Nets, con un mensaje dirigido a uno de los...\n",
            "2022-11-03T15:54:10Z\n",
            "-------------------------\n",
            "-------------------------\n",
            "https://www.elmundo.es/deportes/baloncesto/nba/2022/11/04/6364c3f3fc6c83084c8b45a5.html\n",
            "Irving, suspendido por los Nets, pide finalmente perdón por promover una película antisemita\n",
            "Kyrie Irving, que había sido suspendido este jueves por los Brooklyn Nets por su negativa a disculparse tras haber promovido una cinta antisemita, finalmente pidió perdón esta...\n",
            "2022-11-04T07:49:13Z\n",
            "-------------------------\n"
          ]
        },
        {
          "output_type": "stream",
          "name": "stderr",
          "text": [
            "DEBUG:scrapy.core.engine:Crawled (200) <GET https://www.elmundo.es/deportes/ajedrez.html> (referer: https://www.elmundo.es/deportes/mas-deporte/2023/08/03/64cbef56e4d4d88e018b45c5.html)\n"
          ]
        },
        {
          "output_type": "stream",
          "name": "stdout",
          "text": [
            "-------------------------\n",
            "https://www.elmundo.es/deportes/baloncesto/nba/2022/11/02/63622b8921efa0854a8b45d3.html\n",
            "Los Nets despiden a Steve Nash tras un mal comienzo de la temporada\n",
            "Los Brooklyn Nets despidieron este martes al técnico Steve Nash, tras un mal inicio de la temporada de la NBA con dos victorias y cinco derrotas, un balance que empeoró la pasada...\n",
            "2022-11-02T08:36:49Z\n",
            "-------------------------\n",
            "-------------------------\n",
            "https://www.elmundo.es/deportes/baloncesto/2022/11/10/636d1fc4fc6c8392418b45d8.html\n",
            "Ryan Turell, un judío ortodoxo a las puertas de la NBA\n",
            "Ryan Turell sale a pista, se ajusta los pantalones y choca la mano con sus compañeros. Nada lo diferencia de cualquier novato hasta que se da la vuelta y sobre los rizos rubios se...\n",
            "2022-11-10T18:02:25Z\n",
            "-------------------------\n"
          ]
        },
        {
          "output_type": "stream",
          "name": "stderr",
          "text": [
            "DEBUG:scrapy.core.engine:Crawled (200) <GET https://www.elmundo.es/deportes/baloncesto/nba/2022/10/30/635d980be4d4d83e148b456e.html> (referer: https://www.elmundo.es/deportes/baloncesto/nba/pag3)\n",
            "DEBUG:scrapy.core.engine:Crawled (200) <GET https://www.elmundo.es/deportes/futbol/espana.html> (referer: https://www.elmundo.es/deportes/baloncesto/eurobasket/2022/09/08/6319d1bde4d4d81e038b45ba.html)\n",
            "DEBUG:scrapy.core.engine:Crawled (200) <GET https://www.elmundo.es/deportes/baloncesto/eurobasket/2022/08/02/62e7ee5de4d4d8837f8b4573.html?intcmp=MNOT23801&s_kw=3> (referer: https://www.elmundo.es/deportes/baloncesto/eurobasket/2022/09/01/630f89c7fc6c83c3198b4581.html)\n",
            "DEBUG:scrapy.core.engine:Crawled (200) <GET https://www.elmundo.es/deportes/baloncesto/nba/2022/11/14/6371ff1bfc6c83dc388b459d.html> (referer: https://www.elmundo.es/deportes/baloncesto/nba/pag3)\n",
            "DEBUG:scrapy.core.engine:Crawled (200) <GET https://www.elmundo.es/deportes/2023/07/27/64c22a5ffc6c83ef0b8b457b.html> (referer: https://www.elmundo.es/deportes/mas-deporte/2023/08/03/64cbef56e4d4d88e018b45c5.html)\n",
            "DEBUG:scrapy.core.engine:Crawled (200) <GET https://www.elmundo.es/deportes/baloncesto/eurobasket/2022/09/06/631768bc21efa073088b45a0.html?intcmp=MNOT23801&s_kw=1> (referer: https://www.elmundo.es/deportes/baloncesto/eurobasket/2022/09/08/6319d1bde4d4d81e038b45ba.html)\n",
            "DEBUG:scrapy.core.engine:Crawled (200) <GET https://www.elmundo.es/deportes/baloncesto/nba/2022/11/18/6374c135fc6c8315728b45f7.html> (referer: https://www.elmundo.es/deportes/baloncesto/nba/pag3)\n",
            "DEBUG:scrapy.core.engine:Crawled (200) <GET https://www.elmundo.es/deportes/baloncesto/nba/2022/11/19/6378a60de4d4d8733e8b4592.html> (referer: https://www.elmundo.es/deportes/baloncesto/nba/pag3)\n"
          ]
        },
        {
          "output_type": "stream",
          "name": "stdout",
          "text": [
            "-------------------------\n",
            "https://www.elmundo.es/deportes/baloncesto/nba/2022/10/30/635d980be4d4d83e148b456e.html\n",
            "No es oro todo lo que reluce\n",
            "No juegan, pero ganan fortunas en la NBA. Eso se dice de los españoles allí. Pues no está tan claro. Veamos sus contratos: Usman Garuba, $2,471,160. Es su único...\n",
            "2022-10-30T19:10:02Z\n",
            "-------------------------\n",
            "-------------------------\n",
            "https://www.elmundo.es/deportes/baloncesto/eurobasket/2022/08/02/62e7ee5de4d4d8837f8b4573.html?intcmp=MNOT23801&s_kw=3\n",
            "El camino al Eurobasket más complicado: la transición de España en una cita plagada de estrellas\n",
            "La selección española de baloncesto inició la concentración para el verano más atípico de este siglo. Después de veinte años de metales preciosos, la realidad desplaza a...\n",
            "2022-08-02T07:37:48Z\n",
            "-------------------------\n"
          ]
        },
        {
          "output_type": "stream",
          "name": "stderr",
          "text": [
            "DEBUG:scrapy.core.engine:Crawled (200) <GET https://www.elmundo.es/deportes/mas-deporte/2023/05/17/6464a77521efa09c4d8b4570.html> (referer: https://www.elmundo.es/deportes/mas-deporte/pag3)\n",
            "DEBUG:scrapy.core.engine:Crawled (200) <GET https://www.elmundo.es/deportes/mas-deporte/2023/05/17/6463bcd1e4d4d830058b45a5.html> (referer: https://www.elmundo.es/deportes/mas-deporte/pag3)\n"
          ]
        },
        {
          "output_type": "stream",
          "name": "stdout",
          "text": [
            "-------------------------\n",
            "https://www.elmundo.es/deportes/baloncesto/nba/2022/11/14/6371ff1bfc6c83dc388b459d.html\n",
            "Una noche casi perfecta de Joel Embiid\n",
            "Con un actuación antológica de 59 puntos, Joel Embiid hizo historia en la NBA este domingo al convertirse en el primer jugador que supera los 50 puntos, 10 rebotes, 5 asistencias...\n",
            "2022-11-14T08:46:05Z\n",
            "-------------------------\n",
            "-------------------------\n",
            "https://www.elmundo.es/deportes/2023/07/27/64c22a5ffc6c83ef0b8b457b.html\n",
            "La ajedrecista iraní Sara Khadem que se negó a competir con velo debuta como española en la Copa del Mundo\n",
            "El domingo 30 empieza en Bakú la Copa del Mundo de Ajedrez, una de las grandes citas del año, que durará casi un mes, hasta el 25 de agosto. El favorito es el número uno,...\n",
            "2023-07-27T08:47:57Z\n",
            "-------------------------\n",
            "-------------------------\n",
            "https://www.elmundo.es/deportes/baloncesto/eurobasket/2022/09/06/631768bc21efa073088b45a0.html?intcmp=MNOT23801&s_kw=1\n",
            "El Plan B hace reaccionar a España, que ya está en octavos\n",
            "España, que intuyó el abismo, que experimentó lo oscuro que puede ser todo, estará el sábado en Berlín, objetivo de mínimos de los nuevos tiempos. Un suspiro, una reacción...\n",
            "2022-09-06T16:05:54Z\n",
            "-------------------------\n",
            "-------------------------\n",
            "https://www.elmundo.es/deportes/baloncesto/nba/2022/11/18/6374c135fc6c8315728b45f7.html\n",
            "Las claves y el peligro del mejor Luka Doncic\n",
            "El entrenador de los Dallas Mavericks calcula que para Navidad sabremos si Luka Doncic es humano. El equipo perdió este verano a su segundo espada, y en lugar de fichar otro...\n",
            "2022-11-18T01:03:41Z\n",
            "-------------------------\n",
            "-------------------------\n",
            "https://www.elmundo.es/deportes/baloncesto/nba/2022/11/19/6378a60de4d4d8733e8b4592.html\n",
            "Doncic logra su 50 triple doble y supera en precocidad a Magic Johnson\n",
            "Luka Doncic consiguió este viernes el triple-doble número 50 de su carrera en la NBA y adelantó al legendario &amp;apos;Magic&amp;apos; Johnson en la lista de jugadores que llegaron a...\n",
            "2022-11-19T09:57:23Z\n",
            "-------------------------\n"
          ]
        },
        {
          "output_type": "stream",
          "name": "stderr",
          "text": [
            "DEBUG:scrapy.core.engine:Crawled (200) <GET https://www.elmundo.es/deportes/mas-deporte/2023/05/17/6464a038e4d4d8752e8b459a.html> (referer: https://www.elmundo.es/deportes/mas-deporte/pag3)\n"
          ]
        },
        {
          "output_type": "stream",
          "name": "stdout",
          "text": [
            "-------------------------\n",
            "https://www.elmundo.es/deportes/mas-deporte/2023/05/17/6464a77521efa09c4d8b4570.html\n",
            "&apos;El hombre del Everest&apos; alcanza las 27 subidas a la montaña más alta del mundo y bate el récord\n",
            "Kami Rita Sherpa nació en 1970 en Thame, una aldea del Himalaya de donde han salido varios escaladores exitosos, pero ninguno como él. El montañero nepalí alcanzó la cumbre...\n",
            "2023-05-17T10:07:54Z\n",
            "-------------------------\n",
            "-------------------------\n",
            "https://www.elmundo.es/deportes/mas-deporte/2023/05/17/6463bcd1e4d4d830058b45a5.html\n",
            "Sara Khadem, la estrella del ajedrez que huyó de Irán: &quot;No pueden detener a todo el mundo&quot;\n",
            "Sara Khadem (Teherán, 1997) es una joven de su tiempo, feliz y risueña, pero también fuerte y rebelde con causa. Después de una protesta le retiraron el pasaporte y pensó que...\n",
            "2023-05-17T00:53:11Z\n",
            "-------------------------\n",
            "-------------------------\n",
            "https://www.elmundo.es/deportes/mas-deporte/2023/05/17/6464a038e4d4d8752e8b459a.html\n",
            "El escalador de 84 años Carlos Soria abandona su intento de coronar el Dhaulagiri tras caerle un sherpa\n",
            "No podrá ser... todavía. Carlos Soria abordaba su decimocuarto intento de coronar en el Dhaulagiri, una de las dos cumbres que le faltan para ser el montañista de mayor edad en...\n",
            "2023-05-17T09:39:13Z\n",
            "-------------------------\n"
          ]
        },
        {
          "output_type": "stream",
          "name": "stderr",
          "text": [
            "DEBUG:scrapy.core.engine:Crawled (200) <GET https://www.elmundo.es/deportes/mas-deporte/pag4> (referer: https://www.elmundo.es/deportes/mas-deporte/pag3)\n",
            "INFO:scrapy.statscollectors:Dumping Scrapy stats:\n",
            "{'downloader/request_bytes': 41074,\n",
            " 'downloader/request_count': 101,\n",
            " 'downloader/request_method_count/GET': 101,\n",
            " 'downloader/response_bytes': 6190971,\n",
            " 'downloader/response_count': 101,\n",
            " 'downloader/response_status_count/200': 101,\n",
            " 'dupefilter/filtered': 10249,\n",
            " 'elapsed_time_seconds': 12.479391,\n",
            " 'finish_reason': 'shutdown',\n",
            " 'finish_time': datetime.datetime(2023, 10, 26, 17, 10, 18, 621142, tzinfo=datetime.timezone.utc),\n",
            " 'httpcompression/response_bytes': 30291467,\n",
            " 'httpcompression/response_count': 101,\n",
            " 'log_count/DEBUG': 103,\n",
            " 'log_count/ERROR': 1,\n",
            " 'log_count/INFO': 11,\n",
            " 'memusage/max': 172027904,\n",
            " 'memusage/startup': 172027904,\n",
            " 'offsite/filtered': 62,\n",
            " 'request_depth_max': 6,\n",
            " 'response_received_count': 101,\n",
            " 'scheduler/dequeued': 101,\n",
            " 'scheduler/dequeued/memory': 101,\n",
            " 'scheduler/enqueued': 1660,\n",
            " 'scheduler/enqueued/memory': 1660,\n",
            " 'spider_exceptions/JSONDecodeError': 1,\n",
            " 'start_time': datetime.datetime(2023, 10, 26, 17, 10, 6, 141751, tzinfo=datetime.timezone.utc)}\n",
            "INFO:scrapy.core.engine:Spider closed (shutdown)\n"
          ]
        }
      ],
      "source": [
        "import os\n",
        "import scrapy\n",
        "from scrapy.crawler import CrawlerProcess\n",
        "\n",
        "# Creamos un proceso de Crawler podemos poner distintas settings que están definidas en la documentación.\n",
        "# Entre ellas podemos ocular los logs del proceso de Crawling.\n",
        "process = CrawlerProcess(settings={\n",
        "    \"LOG_ENABLED\": False,\n",
        "    # Used for pipeline 1\n",
        "})\n",
        "\n",
        "# Como se ha definido anteriormente en el RSSCrawler, los ficheros se van a almacenar en la carpeta \"rss\"\n",
        "# Comprobamos que existe la carpeta y si no existe la creamos\n",
        "if (not os.path.exists('elmundo')):\n",
        "    os.mkdir('elmundo')\n",
        "\n",
        "# Creamos el proceso con el RSSSpider\n",
        "process.crawl(ElMundoSpider)\n",
        "# Ejecutamos el Crawler\n",
        "process.start()"
      ]
    },
    {
      "cell_type": "code",
      "execution_count": null,
      "metadata": {
        "id": "21fKpfTiDrhw"
      },
      "outputs": [],
      "source": []
    }
  ],
  "metadata": {
    "colab": {
      "provenance": [],
      "include_colab_link": true
    },
    "kernelspec": {
      "display_name": "Python 3 (ipykernel)",
      "language": "python",
      "name": "python3"
    },
    "language_info": {
      "codemirror_mode": {
        "name": "ipython",
        "version": 3
      },
      "file_extension": ".py",
      "mimetype": "text/x-python",
      "name": "python",
      "nbconvert_exporter": "python",
      "pygments_lexer": "ipython3",
      "version": "3.8.6"
    }
  },
  "nbformat": 4,
  "nbformat_minor": 0
}