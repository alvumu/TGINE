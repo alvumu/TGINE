{
  "cells": [
    {
      "cell_type": "markdown",
      "metadata": {
        "id": "view-in-github",
        "colab_type": "text"
      },
      "source": [
        "<a href=\"https://colab.research.google.com/github/alvumu/BDGE/blob/main/4_2_TFIDF_classification.ipynb\" target=\"_parent\"><img src=\"https://colab.research.google.com/assets/colab-badge.svg\" alt=\"Open In Colab\"/></a>"
      ]
    },
    {
      "cell_type": "markdown",
      "metadata": {
        "id": "qPUnt7MLyXMN"
      },
      "source": [
        "## Sesión 4.2 Clasificación de texto con scikit-learn y TFIDF\n",
        "\n",
        "En esta sesión vamos a ver cómo podemos desarrollar un clasificador de texto sencillo con la librería scikit y la representación de texto de la bolsa de palabras usando TFIDF y BM25.\n",
        "\n",
        "Vamos a usar el dataset de la primera sesión que tiene etiquetado los tuits como positivos y negativos."
      ]
    },
    {
      "cell_type": "code",
      "source": [
        "# Instalamos las librerías necesarias y descargamos los recursos\n",
        "!pip3 install -U scikit-learn\n",
        "# Descargamos un fichero python con la implementación del BM25\n",
        "!wget https://dis.um.es/~valencia/recursosTGINE/BM25.py\n",
        "\n",
        "# Descargamos el fichero datasetEspañol.csv\n",
        "!wget https://dis.um.es/~valencia/recursosTGINE/datasetEspañol.csv"
      ],
      "metadata": {
        "id": "_2_-eP2xhwcu",
        "colab": {
          "base_uri": "https://localhost:8080/"
        },
        "outputId": "d5d1af48-64ea-434f-8670-570e14208f3d"
      },
      "execution_count": 1,
      "outputs": [
        {
          "output_type": "stream",
          "name": "stdout",
          "text": [
            "Requirement already satisfied: scikit-learn in /usr/local/lib/python3.10/dist-packages (1.2.2)\n",
            "Collecting scikit-learn\n",
            "  Downloading scikit_learn-1.3.2-cp310-cp310-manylinux_2_17_x86_64.manylinux2014_x86_64.whl (10.8 MB)\n",
            "\u001b[2K     \u001b[90m━━━━━━━━━━━━━━━━━━━━━━━━━━━━━━━━━━━━━━━━\u001b[0m \u001b[32m10.8/10.8 MB\u001b[0m \u001b[31m50.6 MB/s\u001b[0m eta \u001b[36m0:00:00\u001b[0m\n",
            "\u001b[?25hRequirement already satisfied: numpy<2.0,>=1.17.3 in /usr/local/lib/python3.10/dist-packages (from scikit-learn) (1.23.5)\n",
            "Requirement already satisfied: scipy>=1.5.0 in /usr/local/lib/python3.10/dist-packages (from scikit-learn) (1.11.3)\n",
            "Requirement already satisfied: joblib>=1.1.1 in /usr/local/lib/python3.10/dist-packages (from scikit-learn) (1.3.2)\n",
            "Requirement already satisfied: threadpoolctl>=2.0.0 in /usr/local/lib/python3.10/dist-packages (from scikit-learn) (3.2.0)\n",
            "Installing collected packages: scikit-learn\n",
            "  Attempting uninstall: scikit-learn\n",
            "    Found existing installation: scikit-learn 1.2.2\n",
            "    Uninstalling scikit-learn-1.2.2:\n",
            "      Successfully uninstalled scikit-learn-1.2.2\n",
            "Successfully installed scikit-learn-1.3.2\n",
            "--2023-11-02 17:52:15--  https://dis.um.es/~valencia/recursosTGINE/BM25.py\n",
            "Resolving dis.um.es (dis.um.es)... 155.54.239.5\n",
            "Connecting to dis.um.es (dis.um.es)|155.54.239.5|:443... connected.\n",
            "HTTP request sent, awaiting response... 200 OK\n",
            "Length: 3046 (3.0K) [text/x-python]\n",
            "Saving to: ‘BM25.py’\n",
            "\n",
            "BM25.py             100%[===================>]   2.97K  --.-KB/s    in 0s      \n",
            "\n",
            "2023-11-02 17:52:15 (133 MB/s) - ‘BM25.py’ saved [3046/3046]\n",
            "\n",
            "--2023-11-02 17:52:15--  https://dis.um.es/~valencia/recursosTGINE/datasetEspa%C3%B1ol.csv\n",
            "Resolving dis.um.es (dis.um.es)... 155.54.239.5\n",
            "Connecting to dis.um.es (dis.um.es)|155.54.239.5|:443... connected.\n",
            "HTTP request sent, awaiting response... 200 OK\n",
            "Length: 1953117 (1.9M) [text/csv]\n",
            "Saving to: ‘datasetEspañol.csv’\n",
            "\n",
            "datasetEspañol.csv  100%[===================>]   1.86M  2.25MB/s    in 0.8s    \n",
            "\n",
            "2023-11-02 17:52:17 (2.25 MB/s) - ‘datasetEspañol.csv’ saved [1953117/1953117]\n",
            "\n"
          ]
        }
      ]
    },
    {
      "cell_type": "code",
      "execution_count": 2,
      "metadata": {
        "id": "M7fTg51ByRvw",
        "colab": {
          "base_uri": "https://localhost:8080/",
          "height": 293
        },
        "outputId": "0de24e8c-9e26-4d3f-a4a0-5030cfdfaff6"
      },
      "outputs": [
        {
          "output_type": "execute_result",
          "data": {
            "text/plain": [
              "               twitter_id   twitter_created_at  \\\n",
              "5954  1274324047581581316  2020-06-20 16:51:43   \n",
              "5955  1274321386446733315  2020-06-20 16:41:08   \n",
              "5956  1274340519271858178  2020-06-20 17:57:10   \n",
              "5957  1274367246979211269  2020-06-20 19:43:22   \n",
              "5958  1274368625047220224  2020-06-20 19:48:51   \n",
              "\n",
              "                                                  tweet  \\\n",
              "5954  No me fío nada! ? en #estadodealarma demostrar...   \n",
              "5955  @roldanfj1 @MikiyDuarte @diariocadiz @realDona...   \n",
              "5956  Con el fin del #EstadodeAlarma se acaban, tamb...   \n",
              "5957  @horaciorlarreta. @AsisOberdan. @luisnovaresio...   \n",
              "5958  En la última semana se han registrado 36 falle...   \n",
              "\n",
              "                                   corpus             user  agreement  votes  \\\n",
              "5954  Estado de alarma nacional (oficial)   GuzmanitaMaria        100      1   \n",
              "5955  Estado de alarma nacional (oficial)        ByChanchi        100      1   \n",
              "5956  Estado de alarma nacional (oficial)  Javiersilvestre        100      1   \n",
              "5957  Estado de alarma nacional (oficial)     juliodebarna        100      1   \n",
              "5958  Estado de alarma nacional (oficial)   mallorcadiario        100      1   \n",
              "\n",
              "      score     label __split  \n",
              "5954     -1  negative    test  \n",
              "5955     -1  negative   train  \n",
              "5956     -1  negative     val  \n",
              "5957     -1  negative   train  \n",
              "5958     -1  negative   train  "
            ],
            "text/html": [
              "\n",
              "  <div id=\"df-1e1e5308-d6d9-42ae-a4cf-0d08665e98db\" class=\"colab-df-container\">\n",
              "    <div>\n",
              "<style scoped>\n",
              "    .dataframe tbody tr th:only-of-type {\n",
              "        vertical-align: middle;\n",
              "    }\n",
              "\n",
              "    .dataframe tbody tr th {\n",
              "        vertical-align: top;\n",
              "    }\n",
              "\n",
              "    .dataframe thead th {\n",
              "        text-align: right;\n",
              "    }\n",
              "</style>\n",
              "<table border=\"1\" class=\"dataframe\">\n",
              "  <thead>\n",
              "    <tr style=\"text-align: right;\">\n",
              "      <th></th>\n",
              "      <th>twitter_id</th>\n",
              "      <th>twitter_created_at</th>\n",
              "      <th>tweet</th>\n",
              "      <th>corpus</th>\n",
              "      <th>user</th>\n",
              "      <th>agreement</th>\n",
              "      <th>votes</th>\n",
              "      <th>score</th>\n",
              "      <th>label</th>\n",
              "      <th>__split</th>\n",
              "    </tr>\n",
              "  </thead>\n",
              "  <tbody>\n",
              "    <tr>\n",
              "      <th>5954</th>\n",
              "      <td>1274324047581581316</td>\n",
              "      <td>2020-06-20 16:51:43</td>\n",
              "      <td>No me fío nada! ? en #estadodealarma demostrar...</td>\n",
              "      <td>Estado de alarma nacional (oficial)</td>\n",
              "      <td>GuzmanitaMaria</td>\n",
              "      <td>100</td>\n",
              "      <td>1</td>\n",
              "      <td>-1</td>\n",
              "      <td>negative</td>\n",
              "      <td>test</td>\n",
              "    </tr>\n",
              "    <tr>\n",
              "      <th>5955</th>\n",
              "      <td>1274321386446733315</td>\n",
              "      <td>2020-06-20 16:41:08</td>\n",
              "      <td>@roldanfj1 @MikiyDuarte @diariocadiz @realDona...</td>\n",
              "      <td>Estado de alarma nacional (oficial)</td>\n",
              "      <td>ByChanchi</td>\n",
              "      <td>100</td>\n",
              "      <td>1</td>\n",
              "      <td>-1</td>\n",
              "      <td>negative</td>\n",
              "      <td>train</td>\n",
              "    </tr>\n",
              "    <tr>\n",
              "      <th>5956</th>\n",
              "      <td>1274340519271858178</td>\n",
              "      <td>2020-06-20 17:57:10</td>\n",
              "      <td>Con el fin del #EstadodeAlarma se acaban, tamb...</td>\n",
              "      <td>Estado de alarma nacional (oficial)</td>\n",
              "      <td>Javiersilvestre</td>\n",
              "      <td>100</td>\n",
              "      <td>1</td>\n",
              "      <td>-1</td>\n",
              "      <td>negative</td>\n",
              "      <td>val</td>\n",
              "    </tr>\n",
              "    <tr>\n",
              "      <th>5957</th>\n",
              "      <td>1274367246979211269</td>\n",
              "      <td>2020-06-20 19:43:22</td>\n",
              "      <td>@horaciorlarreta. @AsisOberdan. @luisnovaresio...</td>\n",
              "      <td>Estado de alarma nacional (oficial)</td>\n",
              "      <td>juliodebarna</td>\n",
              "      <td>100</td>\n",
              "      <td>1</td>\n",
              "      <td>-1</td>\n",
              "      <td>negative</td>\n",
              "      <td>train</td>\n",
              "    </tr>\n",
              "    <tr>\n",
              "      <th>5958</th>\n",
              "      <td>1274368625047220224</td>\n",
              "      <td>2020-06-20 19:48:51</td>\n",
              "      <td>En la última semana se han registrado 36 falle...</td>\n",
              "      <td>Estado de alarma nacional (oficial)</td>\n",
              "      <td>mallorcadiario</td>\n",
              "      <td>100</td>\n",
              "      <td>1</td>\n",
              "      <td>-1</td>\n",
              "      <td>negative</td>\n",
              "      <td>train</td>\n",
              "    </tr>\n",
              "  </tbody>\n",
              "</table>\n",
              "</div>\n",
              "    <div class=\"colab-df-buttons\">\n",
              "\n",
              "  <div class=\"colab-df-container\">\n",
              "    <button class=\"colab-df-convert\" onclick=\"convertToInteractive('df-1e1e5308-d6d9-42ae-a4cf-0d08665e98db')\"\n",
              "            title=\"Convert this dataframe to an interactive table.\"\n",
              "            style=\"display:none;\">\n",
              "\n",
              "  <svg xmlns=\"http://www.w3.org/2000/svg\" height=\"24px\" viewBox=\"0 -960 960 960\">\n",
              "    <path d=\"M120-120v-720h720v720H120Zm60-500h600v-160H180v160Zm220 220h160v-160H400v160Zm0 220h160v-160H400v160ZM180-400h160v-160H180v160Zm440 0h160v-160H620v160ZM180-180h160v-160H180v160Zm440 0h160v-160H620v160Z\"/>\n",
              "  </svg>\n",
              "    </button>\n",
              "\n",
              "  <style>\n",
              "    .colab-df-container {\n",
              "      display:flex;\n",
              "      gap: 12px;\n",
              "    }\n",
              "\n",
              "    .colab-df-convert {\n",
              "      background-color: #E8F0FE;\n",
              "      border: none;\n",
              "      border-radius: 50%;\n",
              "      cursor: pointer;\n",
              "      display: none;\n",
              "      fill: #1967D2;\n",
              "      height: 32px;\n",
              "      padding: 0 0 0 0;\n",
              "      width: 32px;\n",
              "    }\n",
              "\n",
              "    .colab-df-convert:hover {\n",
              "      background-color: #E2EBFA;\n",
              "      box-shadow: 0px 1px 2px rgba(60, 64, 67, 0.3), 0px 1px 3px 1px rgba(60, 64, 67, 0.15);\n",
              "      fill: #174EA6;\n",
              "    }\n",
              "\n",
              "    .colab-df-buttons div {\n",
              "      margin-bottom: 4px;\n",
              "    }\n",
              "\n",
              "    [theme=dark] .colab-df-convert {\n",
              "      background-color: #3B4455;\n",
              "      fill: #D2E3FC;\n",
              "    }\n",
              "\n",
              "    [theme=dark] .colab-df-convert:hover {\n",
              "      background-color: #434B5C;\n",
              "      box-shadow: 0px 1px 3px 1px rgba(0, 0, 0, 0.15);\n",
              "      filter: drop-shadow(0px 1px 2px rgba(0, 0, 0, 0.3));\n",
              "      fill: #FFFFFF;\n",
              "    }\n",
              "  </style>\n",
              "\n",
              "    <script>\n",
              "      const buttonEl =\n",
              "        document.querySelector('#df-1e1e5308-d6d9-42ae-a4cf-0d08665e98db button.colab-df-convert');\n",
              "      buttonEl.style.display =\n",
              "        google.colab.kernel.accessAllowed ? 'block' : 'none';\n",
              "\n",
              "      async function convertToInteractive(key) {\n",
              "        const element = document.querySelector('#df-1e1e5308-d6d9-42ae-a4cf-0d08665e98db');\n",
              "        const dataTable =\n",
              "          await google.colab.kernel.invokeFunction('convertToInteractive',\n",
              "                                                    [key], {});\n",
              "        if (!dataTable) return;\n",
              "\n",
              "        const docLinkHtml = 'Like what you see? Visit the ' +\n",
              "          '<a target=\"_blank\" href=https://colab.research.google.com/notebooks/data_table.ipynb>data table notebook</a>'\n",
              "          + ' to learn more about interactive tables.';\n",
              "        element.innerHTML = '';\n",
              "        dataTable['output_type'] = 'display_data';\n",
              "        await google.colab.output.renderOutput(dataTable, element);\n",
              "        const docLink = document.createElement('div');\n",
              "        docLink.innerHTML = docLinkHtml;\n",
              "        element.appendChild(docLink);\n",
              "      }\n",
              "    </script>\n",
              "  </div>\n",
              "\n",
              "\n",
              "<div id=\"df-f879c335-5fab-47bd-87b4-b379eeb961e8\">\n",
              "  <button class=\"colab-df-quickchart\" onclick=\"quickchart('df-f879c335-5fab-47bd-87b4-b379eeb961e8')\"\n",
              "            title=\"Suggest charts.\"\n",
              "            style=\"display:none;\">\n",
              "\n",
              "<svg xmlns=\"http://www.w3.org/2000/svg\" height=\"24px\"viewBox=\"0 0 24 24\"\n",
              "     width=\"24px\">\n",
              "    <g>\n",
              "        <path d=\"M19 3H5c-1.1 0-2 .9-2 2v14c0 1.1.9 2 2 2h14c1.1 0 2-.9 2-2V5c0-1.1-.9-2-2-2zM9 17H7v-7h2v7zm4 0h-2V7h2v10zm4 0h-2v-4h2v4z\"/>\n",
              "    </g>\n",
              "</svg>\n",
              "  </button>\n",
              "\n",
              "<style>\n",
              "  .colab-df-quickchart {\n",
              "      --bg-color: #E8F0FE;\n",
              "      --fill-color: #1967D2;\n",
              "      --hover-bg-color: #E2EBFA;\n",
              "      --hover-fill-color: #174EA6;\n",
              "      --disabled-fill-color: #AAA;\n",
              "      --disabled-bg-color: #DDD;\n",
              "  }\n",
              "\n",
              "  [theme=dark] .colab-df-quickchart {\n",
              "      --bg-color: #3B4455;\n",
              "      --fill-color: #D2E3FC;\n",
              "      --hover-bg-color: #434B5C;\n",
              "      --hover-fill-color: #FFFFFF;\n",
              "      --disabled-bg-color: #3B4455;\n",
              "      --disabled-fill-color: #666;\n",
              "  }\n",
              "\n",
              "  .colab-df-quickchart {\n",
              "    background-color: var(--bg-color);\n",
              "    border: none;\n",
              "    border-radius: 50%;\n",
              "    cursor: pointer;\n",
              "    display: none;\n",
              "    fill: var(--fill-color);\n",
              "    height: 32px;\n",
              "    padding: 0;\n",
              "    width: 32px;\n",
              "  }\n",
              "\n",
              "  .colab-df-quickchart:hover {\n",
              "    background-color: var(--hover-bg-color);\n",
              "    box-shadow: 0 1px 2px rgba(60, 64, 67, 0.3), 0 1px 3px 1px rgba(60, 64, 67, 0.15);\n",
              "    fill: var(--button-hover-fill-color);\n",
              "  }\n",
              "\n",
              "  .colab-df-quickchart-complete:disabled,\n",
              "  .colab-df-quickchart-complete:disabled:hover {\n",
              "    background-color: var(--disabled-bg-color);\n",
              "    fill: var(--disabled-fill-color);\n",
              "    box-shadow: none;\n",
              "  }\n",
              "\n",
              "  .colab-df-spinner {\n",
              "    border: 2px solid var(--fill-color);\n",
              "    border-color: transparent;\n",
              "    border-bottom-color: var(--fill-color);\n",
              "    animation:\n",
              "      spin 1s steps(1) infinite;\n",
              "  }\n",
              "\n",
              "  @keyframes spin {\n",
              "    0% {\n",
              "      border-color: transparent;\n",
              "      border-bottom-color: var(--fill-color);\n",
              "      border-left-color: var(--fill-color);\n",
              "    }\n",
              "    20% {\n",
              "      border-color: transparent;\n",
              "      border-left-color: var(--fill-color);\n",
              "      border-top-color: var(--fill-color);\n",
              "    }\n",
              "    30% {\n",
              "      border-color: transparent;\n",
              "      border-left-color: var(--fill-color);\n",
              "      border-top-color: var(--fill-color);\n",
              "      border-right-color: var(--fill-color);\n",
              "    }\n",
              "    40% {\n",
              "      border-color: transparent;\n",
              "      border-right-color: var(--fill-color);\n",
              "      border-top-color: var(--fill-color);\n",
              "    }\n",
              "    60% {\n",
              "      border-color: transparent;\n",
              "      border-right-color: var(--fill-color);\n",
              "    }\n",
              "    80% {\n",
              "      border-color: transparent;\n",
              "      border-right-color: var(--fill-color);\n",
              "      border-bottom-color: var(--fill-color);\n",
              "    }\n",
              "    90% {\n",
              "      border-color: transparent;\n",
              "      border-bottom-color: var(--fill-color);\n",
              "    }\n",
              "  }\n",
              "</style>\n",
              "\n",
              "  <script>\n",
              "    async function quickchart(key) {\n",
              "      const quickchartButtonEl =\n",
              "        document.querySelector('#' + key + ' button');\n",
              "      quickchartButtonEl.disabled = true;  // To prevent multiple clicks.\n",
              "      quickchartButtonEl.classList.add('colab-df-spinner');\n",
              "      try {\n",
              "        const charts = await google.colab.kernel.invokeFunction(\n",
              "            'suggestCharts', [key], {});\n",
              "      } catch (error) {\n",
              "        console.error('Error during call to suggestCharts:', error);\n",
              "      }\n",
              "      quickchartButtonEl.classList.remove('colab-df-spinner');\n",
              "      quickchartButtonEl.classList.add('colab-df-quickchart-complete');\n",
              "    }\n",
              "    (() => {\n",
              "      let quickchartButtonEl =\n",
              "        document.querySelector('#df-f879c335-5fab-47bd-87b4-b379eeb961e8 button');\n",
              "      quickchartButtonEl.style.display =\n",
              "        google.colab.kernel.accessAllowed ? 'block' : 'none';\n",
              "    })();\n",
              "  </script>\n",
              "</div>\n",
              "    </div>\n",
              "  </div>\n"
            ]
          },
          "metadata": {},
          "execution_count": 2
        }
      ],
      "source": [
        "import pandas\n",
        "df = pandas.read_csv(\"datasetEspañol.csv\",encoding=\"UTF-8\")\n",
        "df.tail()"
      ]
    },
    {
      "cell_type": "markdown",
      "metadata": {
        "id": "bjpzzCCM7_fn"
      },
      "source": [
        "## Apartado 1.1 División de conjunto de entrenamiento y test\n",
        "\n",
        "Dividimos entre conjunto de entrenamiento, test y validación de manera aleatoria"
      ]
    },
    {
      "cell_type": "code",
      "execution_count": 3,
      "metadata": {
        "id": "PMszAwYr8L8l",
        "colab": {
          "base_uri": "https://localhost:8080/"
        },
        "outputId": "5650e1f6-ffd3-4229-af92-3f7965530d12"
      },
      "outputs": [
        {
          "output_type": "stream",
          "name": "stdout",
          "text": [
            "Ejemplos usados para entrenar:  4767\n",
            "Ejemplos usados para test:  1192\n"
          ]
        }
      ],
      "source": [
        "p_train = 0.80 # Porcentaje de train.\n",
        "p_test = 0.20 # Porcentaje de train.\n",
        "\n",
        "from sklearn.model_selection import train_test_split\n",
        "\n",
        "df_train, df_test = train_test_split(df, test_size = p_test)\n",
        "\n",
        "# Ponemos en lower_case los dos conjuntos de tweets\n",
        "df_train.tweet = df_train.tweet.apply(lambda x: x.lower())\n",
        "df_test.tweet = df_test.tweet.apply(lambda x: x.lower())\n",
        "\n",
        "print(\"Ejemplos usados para entrenar: \", len(df_train))\n",
        "print(\"Ejemplos usados para test: \", len(df_test))"
      ]
    },
    {
      "cell_type": "markdown",
      "metadata": {
        "id": "fHCGEzfE8RY2"
      },
      "source": [
        "## Apartado 1.2 Generación de los modelos de BoW\n",
        "Generamos los modelos de bolsa de palabras usando el CountVectorizer"
      ]
    },
    {
      "cell_type": "code",
      "execution_count": 4,
      "metadata": {
        "id": "463DI0Xy5JqG",
        "colab": {
          "base_uri": "https://localhost:8080/"
        },
        "outputId": "5d91f646-1185-4f2f-96ef-29d47e6b71e8"
      },
      "outputs": [
        {
          "output_type": "execute_result",
          "data": {
            "text/plain": [
              "(4767, 20810)"
            ]
          },
          "metadata": {},
          "execution_count": 4
        }
      ],
      "source": [
        "from sklearn.feature_extraction.text import CountVectorizer\n",
        "count_vect = CountVectorizer()\n",
        "# Pueden haber distintas opciones para crear el CountVectorizer() como eliminar las stopwords, usar ngramas, etc.\n",
        "X_train_counts = count_vect.fit_transform(df_train.tweet)\n",
        "X_train_counts.shape"
      ]
    },
    {
      "cell_type": "code",
      "execution_count": 5,
      "metadata": {
        "id": "kliGsSe55WvV",
        "colab": {
          "base_uri": "https://localhost:8080/"
        },
        "outputId": "c88be660-24de-4ce0-c157-9235fc2dff8e"
      },
      "outputs": [
        {
          "output_type": "execute_result",
          "data": {
            "text/plain": [
              "4982"
            ]
          },
          "metadata": {},
          "execution_count": 5
        }
      ],
      "source": [
        "# Consultamos cuál sería el índice de un término\n",
        "count_vect.vocabulary_.get(u'coronavirus')\n"
      ]
    },
    {
      "cell_type": "markdown",
      "metadata": {
        "id": "pQvnYpMS5xkX"
      },
      "source": [
        "### Modelo de TF, TFIDF y BM25\n",
        "Vamos a probar cómo funcionan los distintos modelos tanto de TF, TFIDF y BM25. Para ello generaremos 3 modelos distintos para entrenamiento y validación."
      ]
    },
    {
      "cell_type": "code",
      "execution_count": 6,
      "metadata": {
        "id": "emd8J4jF5zIt",
        "colab": {
          "base_uri": "https://localhost:8080/"
        },
        "outputId": "e049d635-c304-449d-d26c-e92b0841dc19"
      },
      "outputs": [
        {
          "output_type": "execute_result",
          "data": {
            "text/plain": [
              "(4767, 20810)"
            ]
          },
          "metadata": {},
          "execution_count": 6
        }
      ],
      "source": [
        "from sklearn.feature_extraction.text import TfidfTransformer\n",
        "\n",
        "# Generamos primeramente el TF usando el parámetro \"use_idf=false\"\n",
        "tf_transformer = TfidfTransformer(use_idf=False).fit(X_train_counts)\n",
        "X_train_tf = tf_transformer.transform(X_train_counts)\n",
        "X_train_tf.shape"
      ]
    },
    {
      "cell_type": "code",
      "execution_count": 7,
      "metadata": {
        "id": "5iaZXruJ6RYF",
        "colab": {
          "base_uri": "https://localhost:8080/"
        },
        "outputId": "bb7602e1-4104-452d-c9e1-fb014de34af1"
      },
      "outputs": [
        {
          "output_type": "execute_result",
          "data": {
            "text/plain": [
              "(4767, 20810)"
            ]
          },
          "metadata": {},
          "execution_count": 7
        }
      ],
      "source": [
        "# Calculamos el TFIDF ahora y lo guardamos en X_train_tfidf\n",
        "tfidf_transformer = TfidfTransformer()\n",
        "X_train_tfidf = tfidf_transformer.fit_transform(X_train_counts)\n",
        "X_train_tfidf.shape"
      ]
    },
    {
      "cell_type": "code",
      "execution_count": 17,
      "metadata": {
        "id": "bmigCFdXhr9F",
        "colab": {
          "base_uri": "https://localhost:8080/"
        },
        "outputId": "f16437ef-842f-45b5-ca62-da37b2647643"
      },
      "outputs": [
        {
          "output_type": "execute_result",
          "data": {
            "text/plain": [
              "(4767, 20810)"
            ]
          },
          "metadata": {},
          "execution_count": 17
        }
      ],
      "source": [
        "from BM25 import BM25Transformer\n",
        "# Calculamos el BM25 ahora y lo guardamos en X_train_bm25\n",
        "bm25_transformer = BM25Transformer()\n",
        "X_train_bm25 = bm25_transformer.fit_transform(X_train_counts)\n",
        "X_train_bm25.shape"
      ]
    },
    {
      "cell_type": "markdown",
      "metadata": {
        "id": "43lCUHLd6cpI"
      },
      "source": [
        "### Entrenamos un mismo algoritmo de clasificación con los modelos\n",
        "Entrenamos un algoritmo de clasificación el LinearSVM con TF, TFIDF y BM25"
      ]
    },
    {
      "cell_type": "code",
      "execution_count": 19,
      "metadata": {
        "id": "f8JFlarP6fdU"
      },
      "outputs": [],
      "source": [
        "from sklearn.svm import LinearSVC\n",
        "\n",
        "# Entrenamos el modelo para TF y lo guardamos en clf_tf\n",
        "clf_tf = LinearSVC(random_state=0, tol=1e-5, dual=True).fit(X_train_tf, df_train.label)\n",
        "\n",
        "# Entrenamos el modelo para TFIDF y lo guardamos en clf_tfidf\n",
        "clf_tfidf = LinearSVC(random_state=0, tol=1e-5, dual=True).fit(X_train_tfidf, df_train.label)\n",
        "\n",
        "# Entrenamos el modelo para BM25 y lo guardamos en clf_bm25\n",
        "clf_bm25 = LinearSVC(random_state=0, tol=1e-5, dual=True).fit(X_train_bm25, df_train.label)\n",
        "\n"
      ]
    },
    {
      "cell_type": "markdown",
      "metadata": {
        "id": "qHmxSMp36uQx"
      },
      "source": [
        "Probamos ejemplos"
      ]
    },
    {
      "cell_type": "code",
      "execution_count": 23,
      "metadata": {
        "id": "GNFkXsOC6vmg",
        "colab": {
          "base_uri": "https://localhost:8080/"
        },
        "outputId": "a6876769-f09f-4ef2-8d86-ecde89fb9ebc"
      },
      "outputs": [
        {
          "output_type": "stream",
          "name": "stdout",
          "text": [
            "TF: 'no me fío del gobierno' => negative\n",
            "TF: 'aumentan los fallecidos' => negative\n",
            "TF: 'desciende la incidencia del virus' => positive\n",
            "TFIDF: 'no me fío del gobierno' => negative\n",
            "TFIDF: 'aumentan los fallecidos' => negative\n",
            "TFIDF: 'desciende la incidencia del virus' => positive\n",
            "bm25: 'no me fío del gobierno' => negative\n",
            "bm25: 'aumentan los fallecidos' => positive\n",
            "bm25: 'desciende la incidencia del virus' => positive\n"
          ]
        }
      ],
      "source": [
        "docs_new = ['no me fío del gobierno', 'aumentan los fallecidos','desciende la incidencia del virus']\n",
        "X_new_counts = count_vect.transform(docs_new)\n",
        "# Obtenemos los vectores para TF y los guardamos en X_new_tf\n",
        "X_new_tf = tf_transformer.transform(X_new_counts)\n",
        "\n",
        "# Obtenermos los vectores para TFIDF y los guardamos en X_new_tfidf\n",
        "X_new_tfidf = tfidf_transformer.transform(X_new_counts)\n",
        "\n",
        "# Obtenemos los vectores para BM25 y los guardamos en X_new_bm25\n",
        "X_new_bm25 = bm25_transformer.transform(X_new_counts)\n",
        "\n",
        "# Predecimos entonces las categorías para TF y las guardamos en predicted_tf\n",
        "predicted_tf = clf_tf.predict(X_new_tf)\n",
        "\n",
        "# Predecimos entonces las categorías para TFIDF y las guardamos en predicted_tfidf\n",
        "predicted_tfidf = clf_tfidf.predict(X_new_tfidf)\n",
        "\n",
        "# Predecimos entonces las categorías para BM25 y las guardamos en predicted_bm25\n",
        "predicted_bm25 = clf_bm25.predict(X_new_bm25)\n",
        "\n",
        "# Imprimimos los textos y su predicción para TF\n",
        "for doc, category_tf in zip(docs_new, predicted_tf):\n",
        "  print('TF: %r => %s' % (doc, category_tf))\n",
        "\n",
        "# Imprimimos los textos y su predicción para TFIDF\n",
        "for doc, category_tfidf in zip(docs_new, predicted_tfidf):\n",
        "  print('TFIDF: %r => %s' % (doc, category_tfidf))\n",
        "# Imprimimos los textos y su predicción para BM25\n",
        "for doc, category_bm25 in zip(docs_new, predicted_bm25):\n",
        "  print('bm25: %r => %s' % (doc, category_bm25))\n"
      ]
    },
    {
      "cell_type": "markdown",
      "metadata": {
        "id": "LdweP0w1-3Rt"
      },
      "source": [
        "## Apartado 1.3 Creamos los modelos mediante pipeline\n",
        "Para simplificar el código de creación de modelos se puede hacer creando un pipeline."
      ]
    },
    {
      "cell_type": "code",
      "execution_count": 26,
      "metadata": {
        "id": "RBu9ZzNa-5iN",
        "colab": {
          "base_uri": "https://localhost:8080/",
          "height": 352
        },
        "outputId": "d4437da6-3d43-41db-bbdc-94363b41087b"
      },
      "outputs": [
        {
          "output_type": "stream",
          "name": "stderr",
          "text": [
            "/usr/local/lib/python3.10/dist-packages/sklearn/svm/_classes.py:32: FutureWarning: The default value of `dual` will change from `True` to `'auto'` in 1.5. Set the value of `dual` explicitly to suppress the warning.\n",
            "  warnings.warn(\n",
            "/usr/local/lib/python3.10/dist-packages/sklearn/svm/_classes.py:32: FutureWarning: The default value of `dual` will change from `True` to `'auto'` in 1.5. Set the value of `dual` explicitly to suppress the warning.\n",
            "  warnings.warn(\n",
            "/usr/local/lib/python3.10/dist-packages/sklearn/svm/_classes.py:32: FutureWarning: The default value of `dual` will change from `True` to `'auto'` in 1.5. Set the value of `dual` explicitly to suppress the warning.\n",
            "  warnings.warn(\n"
          ]
        },
        {
          "output_type": "execute_result",
          "data": {
            "text/plain": [
              "Pipeline(steps=[('vect', CountVectorizer()), ('bm25', BM25Transformer()),\n",
              "                ('clf', LinearSVC(random_state=0, tol=1e-05))])"
            ],
            "text/html": [
              "<style>#sk-container-id-2 {color: black;}#sk-container-id-2 pre{padding: 0;}#sk-container-id-2 div.sk-toggleable {background-color: white;}#sk-container-id-2 label.sk-toggleable__label {cursor: pointer;display: block;width: 100%;margin-bottom: 0;padding: 0.3em;box-sizing: border-box;text-align: center;}#sk-container-id-2 label.sk-toggleable__label-arrow:before {content: \"▸\";float: left;margin-right: 0.25em;color: #696969;}#sk-container-id-2 label.sk-toggleable__label-arrow:hover:before {color: black;}#sk-container-id-2 div.sk-estimator:hover label.sk-toggleable__label-arrow:before {color: black;}#sk-container-id-2 div.sk-toggleable__content {max-height: 0;max-width: 0;overflow: hidden;text-align: left;background-color: #f0f8ff;}#sk-container-id-2 div.sk-toggleable__content pre {margin: 0.2em;color: black;border-radius: 0.25em;background-color: #f0f8ff;}#sk-container-id-2 input.sk-toggleable__control:checked~div.sk-toggleable__content {max-height: 200px;max-width: 100%;overflow: auto;}#sk-container-id-2 input.sk-toggleable__control:checked~label.sk-toggleable__label-arrow:before {content: \"▾\";}#sk-container-id-2 div.sk-estimator input.sk-toggleable__control:checked~label.sk-toggleable__label {background-color: #d4ebff;}#sk-container-id-2 div.sk-label input.sk-toggleable__control:checked~label.sk-toggleable__label {background-color: #d4ebff;}#sk-container-id-2 input.sk-hidden--visually {border: 0;clip: rect(1px 1px 1px 1px);clip: rect(1px, 1px, 1px, 1px);height: 1px;margin: -1px;overflow: hidden;padding: 0;position: absolute;width: 1px;}#sk-container-id-2 div.sk-estimator {font-family: monospace;background-color: #f0f8ff;border: 1px dotted black;border-radius: 0.25em;box-sizing: border-box;margin-bottom: 0.5em;}#sk-container-id-2 div.sk-estimator:hover {background-color: #d4ebff;}#sk-container-id-2 div.sk-parallel-item::after {content: \"\";width: 100%;border-bottom: 1px solid gray;flex-grow: 1;}#sk-container-id-2 div.sk-label:hover label.sk-toggleable__label {background-color: #d4ebff;}#sk-container-id-2 div.sk-serial::before {content: \"\";position: absolute;border-left: 1px solid gray;box-sizing: border-box;top: 0;bottom: 0;left: 50%;z-index: 0;}#sk-container-id-2 div.sk-serial {display: flex;flex-direction: column;align-items: center;background-color: white;padding-right: 0.2em;padding-left: 0.2em;position: relative;}#sk-container-id-2 div.sk-item {position: relative;z-index: 1;}#sk-container-id-2 div.sk-parallel {display: flex;align-items: stretch;justify-content: center;background-color: white;position: relative;}#sk-container-id-2 div.sk-item::before, #sk-container-id-2 div.sk-parallel-item::before {content: \"\";position: absolute;border-left: 1px solid gray;box-sizing: border-box;top: 0;bottom: 0;left: 50%;z-index: -1;}#sk-container-id-2 div.sk-parallel-item {display: flex;flex-direction: column;z-index: 1;position: relative;background-color: white;}#sk-container-id-2 div.sk-parallel-item:first-child::after {align-self: flex-end;width: 50%;}#sk-container-id-2 div.sk-parallel-item:last-child::after {align-self: flex-start;width: 50%;}#sk-container-id-2 div.sk-parallel-item:only-child::after {width: 0;}#sk-container-id-2 div.sk-dashed-wrapped {border: 1px dashed gray;margin: 0 0.4em 0.5em 0.4em;box-sizing: border-box;padding-bottom: 0.4em;background-color: white;}#sk-container-id-2 div.sk-label label {font-family: monospace;font-weight: bold;display: inline-block;line-height: 1.2em;}#sk-container-id-2 div.sk-label-container {text-align: center;}#sk-container-id-2 div.sk-container {/* jupyter's `normalize.less` sets `[hidden] { display: none; }` but bootstrap.min.css set `[hidden] { display: none !important; }` so we also need the `!important` here to be able to override the default hidden behavior on the sphinx rendered scikit-learn.org. See: https://github.com/scikit-learn/scikit-learn/issues/21755 */display: inline-block !important;position: relative;}#sk-container-id-2 div.sk-text-repr-fallback {display: none;}</style><div id=\"sk-container-id-2\" class=\"sk-top-container\"><div class=\"sk-text-repr-fallback\"><pre>Pipeline(steps=[(&#x27;vect&#x27;, CountVectorizer()), (&#x27;bm25&#x27;, BM25Transformer()),\n",
              "                (&#x27;clf&#x27;, LinearSVC(random_state=0, tol=1e-05))])</pre><b>In a Jupyter environment, please rerun this cell to show the HTML representation or trust the notebook. <br />On GitHub, the HTML representation is unable to render, please try loading this page with nbviewer.org.</b></div><div class=\"sk-container\" hidden><div class=\"sk-item sk-dashed-wrapped\"><div class=\"sk-label-container\"><div class=\"sk-label sk-toggleable\"><input class=\"sk-toggleable__control sk-hidden--visually\" id=\"sk-estimator-id-5\" type=\"checkbox\" ><label for=\"sk-estimator-id-5\" class=\"sk-toggleable__label sk-toggleable__label-arrow\">Pipeline</label><div class=\"sk-toggleable__content\"><pre>Pipeline(steps=[(&#x27;vect&#x27;, CountVectorizer()), (&#x27;bm25&#x27;, BM25Transformer()),\n",
              "                (&#x27;clf&#x27;, LinearSVC(random_state=0, tol=1e-05))])</pre></div></div></div><div class=\"sk-serial\"><div class=\"sk-item\"><div class=\"sk-estimator sk-toggleable\"><input class=\"sk-toggleable__control sk-hidden--visually\" id=\"sk-estimator-id-6\" type=\"checkbox\" ><label for=\"sk-estimator-id-6\" class=\"sk-toggleable__label sk-toggleable__label-arrow\">CountVectorizer</label><div class=\"sk-toggleable__content\"><pre>CountVectorizer()</pre></div></div></div><div class=\"sk-item\"><div class=\"sk-estimator sk-toggleable\"><input class=\"sk-toggleable__control sk-hidden--visually\" id=\"sk-estimator-id-7\" type=\"checkbox\" ><label for=\"sk-estimator-id-7\" class=\"sk-toggleable__label sk-toggleable__label-arrow\">BM25Transformer</label><div class=\"sk-toggleable__content\"><pre>BM25Transformer()</pre></div></div></div><div class=\"sk-item\"><div class=\"sk-estimator sk-toggleable\"><input class=\"sk-toggleable__control sk-hidden--visually\" id=\"sk-estimator-id-8\" type=\"checkbox\" ><label for=\"sk-estimator-id-8\" class=\"sk-toggleable__label sk-toggleable__label-arrow\">LinearSVC</label><div class=\"sk-toggleable__content\"><pre>LinearSVC(random_state=0, tol=1e-05)</pre></div></div></div></div></div></div></div>"
            ]
          },
          "metadata": {},
          "execution_count": 26
        }
      ],
      "source": [
        "from sklearn.pipeline import Pipeline\n",
        "# Se pueden crear modelos mediante Pipeline\n",
        "# Creamos el pipeline de TF con LinearSVC\n",
        "clf_tf = Pipeline([\n",
        "    ('vect', CountVectorizer()),\n",
        "    ('tf', TfidfTransformer(use_idf=False)),\n",
        "    ('clf', LinearSVC(random_state=0, tol=1e-5)),])\n",
        "\n",
        "# Creamos el pipeline de TFIDF con LinearSVC y lo guardamos en clf_tfidf\n",
        "clf_tfidf = Pipeline([\n",
        "    ('vect', CountVectorizer()),\n",
        "    ('tfidf', TfidfTransformer()),\n",
        "    ('clf', LinearSVC(random_state=0, tol=1e-5)),])\n",
        "\n",
        "\n",
        "# Creamos el pipeline de BM25 con LinearSVC y lo guardamos en clf_bm25\n",
        "clf_bm25 = Pipeline([\n",
        "    ('vect', CountVectorizer()),\n",
        "    ('bm25', BM25Transformer()),\n",
        "    ('clf', LinearSVC(random_state=0, tol=1e-5)),])\n",
        "\n",
        "# Entrenamos el modelo de TF con el conjunto de entrenamiento con sus etiquetas\n",
        "clf_tf.fit(df_train.tweet, df_train.label)\n",
        "\n",
        "# Entrenamos el modelo de TFIDF con el conjunto de entrenamiento con sus etiquetas\n",
        "clf_tfidf.fit(df_train.tweet, df_train.label)\n",
        "\n",
        "# Entrenamos el modelo de BM25 con el conjunto de entrenamiento con sus etiquetas\n",
        "clf_bm25.fit(df_train.tweet, df_train.label)\n",
        "\n"
      ]
    },
    {
      "cell_type": "markdown",
      "metadata": {
        "id": "09J1R6Wz-Owz"
      },
      "source": [
        "Evaluamos el accuracy del test en los 3 algoritmos"
      ]
    },
    {
      "cell_type": "code",
      "execution_count": 27,
      "metadata": {
        "id": "vOPVJ7E--XdJ",
        "colab": {
          "base_uri": "https://localhost:8080/"
        },
        "outputId": "2f6149ea-8ea5-4293-ad71-b2bfeb5e5c2d"
      },
      "outputs": [
        {
          "output_type": "stream",
          "name": "stdout",
          "text": [
            "Resultados TF ----- Accuracy: 0.8204697986577181\n",
            "              precision    recall  f1-score   support\n",
            "\n",
            "    negative       0.74      0.65      0.69       369\n",
            "    positive       0.85      0.90      0.87       823\n",
            "\n",
            "    accuracy                           0.82      1192\n",
            "   macro avg       0.80      0.77      0.78      1192\n",
            "weighted avg       0.82      0.82      0.82      1192\n",
            "\n",
            "Resultados TFIDF ----- Accuracy: 0.8288590604026845\n",
            "              precision    recall  f1-score   support\n",
            "\n",
            "    negative       0.75      0.67      0.71       369\n",
            "    positive       0.86      0.90      0.88       823\n",
            "\n",
            "    accuracy                           0.83      1192\n",
            "   macro avg       0.81      0.78      0.79      1192\n",
            "weighted avg       0.83      0.83      0.83      1192\n",
            "\n",
            "Resultados BM25 ----- Accuracy: 0.8238255033557047\n",
            "              precision    recall  f1-score   support\n",
            "\n",
            "    negative       0.74      0.66      0.70       369\n",
            "    positive       0.86      0.90      0.88       823\n",
            "\n",
            "    accuracy                           0.82      1192\n",
            "   macro avg       0.80      0.78      0.79      1192\n",
            "weighted avg       0.82      0.82      0.82      1192\n",
            "\n"
          ]
        }
      ],
      "source": [
        "import numpy as np\n",
        "\n",
        "# Evaluamos el TF\n",
        "predicted_tf = clf_tf.predict(df_test.tweet)\n",
        "accuracy_tf = np.mean(predicted_tf == df_test.label)\n",
        "\n",
        "print(\"Resultados TF ----- Accuracy:\", accuracy_tf)\n",
        "from sklearn import metrics\n",
        "print(metrics.classification_report(df_test.label, predicted_tf))\n",
        "\n",
        "# Evaluamos el TFIDF\n",
        "predicted_tfidf = clf_tfidf.predict(df_test.tweet)\n",
        "accuracy_tfidf = np.mean(predicted_tfidf == df_test.label)\n",
        "\n",
        "print(\"Resultados TFIDF ----- Accuracy:\", accuracy_tfidf)\n",
        "from sklearn import metrics\n",
        "print(metrics.classification_report(df_test.label, predicted_tfidf))\n",
        "\n",
        "# Evaluamos el BM25\n",
        "predicted_bm25 = clf_bm25.predict(df_test.tweet)\n",
        "accuracy_bm25 = np.mean(predicted_bm25 == df_test.label)\n",
        "\n",
        "print(\"Resultados BM25 ----- Accuracy:\", accuracy_bm25)\n",
        "from sklearn import metrics\n",
        "print(metrics.classification_report(df_test.label, predicted_bm25))"
      ]
    },
    {
      "cell_type": "markdown",
      "metadata": {
        "id": "ONFDm9Qz_kuK"
      },
      "source": [
        "## Apartado 1.4 Imprimimos las matrices de confusión\n",
        "Para que se vean más bonitas podemos instalar las librerías matplotlib y seaborn"
      ]
    },
    {
      "cell_type": "code",
      "execution_count": 28,
      "metadata": {
        "id": "axwomi4Bhr9G",
        "colab": {
          "base_uri": "https://localhost:8080/"
        },
        "outputId": "4a1194f9-7350-4f70-da0d-f39c5ae904c9"
      },
      "outputs": [
        {
          "output_type": "stream",
          "name": "stdout",
          "text": [
            "Requirement already satisfied: matplotlib in /usr/local/lib/python3.10/dist-packages (3.8.1)\n",
            "Requirement already satisfied: contourpy>=1.0.1 in /usr/local/lib/python3.10/dist-packages (from matplotlib) (1.1.1)\n",
            "Requirement already satisfied: cycler>=0.10 in /usr/local/lib/python3.10/dist-packages (from matplotlib) (0.12.1)\n",
            "Requirement already satisfied: fonttools>=4.22.0 in /usr/local/lib/python3.10/dist-packages (from matplotlib) (4.43.1)\n",
            "Requirement already satisfied: kiwisolver>=1.3.1 in /usr/local/lib/python3.10/dist-packages (from matplotlib) (1.4.5)\n",
            "Requirement already satisfied: numpy<2,>=1.21 in /usr/local/lib/python3.10/dist-packages (from matplotlib) (1.23.5)\n",
            "Requirement already satisfied: packaging>=20.0 in /usr/local/lib/python3.10/dist-packages (from matplotlib) (23.2)\n",
            "Requirement already satisfied: pillow>=8 in /usr/local/lib/python3.10/dist-packages (from matplotlib) (9.4.0)\n",
            "Requirement already satisfied: pyparsing>=2.3.1 in /usr/local/lib/python3.10/dist-packages (from matplotlib) (3.1.1)\n",
            "Requirement already satisfied: python-dateutil>=2.7 in /usr/local/lib/python3.10/dist-packages (from matplotlib) (2.8.2)\n",
            "Requirement already satisfied: six>=1.5 in /usr/local/lib/python3.10/dist-packages (from python-dateutil>=2.7->matplotlib) (1.16.0)\n",
            "Requirement already satisfied: seaborn in /usr/local/lib/python3.10/dist-packages (0.13.0)\n",
            "Requirement already satisfied: numpy!=1.24.0,>=1.20 in /usr/local/lib/python3.10/dist-packages (from seaborn) (1.23.5)\n",
            "Requirement already satisfied: pandas>=1.2 in /usr/local/lib/python3.10/dist-packages (from seaborn) (1.5.3)\n",
            "Requirement already satisfied: matplotlib!=3.6.1,>=3.3 in /usr/local/lib/python3.10/dist-packages (from seaborn) (3.8.1)\n",
            "Requirement already satisfied: contourpy>=1.0.1 in /usr/local/lib/python3.10/dist-packages (from matplotlib!=3.6.1,>=3.3->seaborn) (1.1.1)\n",
            "Requirement already satisfied: cycler>=0.10 in /usr/local/lib/python3.10/dist-packages (from matplotlib!=3.6.1,>=3.3->seaborn) (0.12.1)\n",
            "Requirement already satisfied: fonttools>=4.22.0 in /usr/local/lib/python3.10/dist-packages (from matplotlib!=3.6.1,>=3.3->seaborn) (4.43.1)\n",
            "Requirement already satisfied: kiwisolver>=1.3.1 in /usr/local/lib/python3.10/dist-packages (from matplotlib!=3.6.1,>=3.3->seaborn) (1.4.5)\n",
            "Requirement already satisfied: packaging>=20.0 in /usr/local/lib/python3.10/dist-packages (from matplotlib!=3.6.1,>=3.3->seaborn) (23.2)\n",
            "Requirement already satisfied: pillow>=8 in /usr/local/lib/python3.10/dist-packages (from matplotlib!=3.6.1,>=3.3->seaborn) (9.4.0)\n",
            "Requirement already satisfied: pyparsing>=2.3.1 in /usr/local/lib/python3.10/dist-packages (from matplotlib!=3.6.1,>=3.3->seaborn) (3.1.1)\n",
            "Requirement already satisfied: python-dateutil>=2.7 in /usr/local/lib/python3.10/dist-packages (from matplotlib!=3.6.1,>=3.3->seaborn) (2.8.2)\n",
            "Requirement already satisfied: pytz>=2020.1 in /usr/local/lib/python3.10/dist-packages (from pandas>=1.2->seaborn) (2023.3.post1)\n",
            "Requirement already satisfied: six>=1.5 in /usr/local/lib/python3.10/dist-packages (from python-dateutil>=2.7->matplotlib!=3.6.1,>=3.3->seaborn) (1.16.0)\n"
          ]
        }
      ],
      "source": [
        "!pip3 install -U matplotlib\n",
        "!pip3 install -U seaborn"
      ]
    },
    {
      "cell_type": "code",
      "execution_count": 29,
      "metadata": {
        "id": "p3GG1KkHBX0H",
        "colab": {
          "base_uri": "https://localhost:8080/",
          "height": 1000
        },
        "outputId": "5d94818c-946b-4693-ce95-3e37bea2b317"
      },
      "outputs": [
        {
          "output_type": "execute_result",
          "data": {
            "text/plain": [
              "<Axes: >"
            ]
          },
          "metadata": {},
          "execution_count": 29
        },
        {
          "output_type": "display_data",
          "data": {
            "text/plain": [
              "<Figure size 1000x700 with 2 Axes>"
            ],
            "image/png": "[encoded data removed]"
          },
          "metadata": {}
        },
        {
          "output_type": "display_data",
          "data": {
            "text/plain": [
              "<Figure size 1000x700 with 2 Axes>"
            ],
            "image/png": "[encoded data removed]"
          },
          "metadata": {}
        },
        {
          "output_type": "display_data",
          "data": {
            "text/plain": [
              "<Figure size 1000x700 with 2 Axes>"
            ],
            "image/png": "[encoded data removed]"
          },
          "metadata": {}
        }
      ],
      "source": [
        "import seaborn as sn\n",
        "import pandas as pd\n",
        "import matplotlib.pyplot as plt\n",
        "\n",
        "# Pintamos la matriz de confusión de TF\n",
        "array_tf = metrics.confusion_matrix(df_test.label, predicted_tf)\n",
        "df_cm_tf = pd.DataFrame(array_tf)\n",
        "plt.figure(figsize = (10,7))\n",
        "sn.heatmap(df_cm_tf, annot=True, fmt=\"d\")\n",
        "\n",
        "# Pintamos la matriz de confusión de TFIDF\n",
        "array_tfidf = metrics.confusion_matrix(df_test.label, predicted_tfidf)\n",
        "df_cm_tfidf = pd.DataFrame(array_tfidf)\n",
        "plt.figure(figsize = (10,7))\n",
        "sn.heatmap(df_cm_tfidf, annot=True, fmt=\"d\")\n",
        "\n",
        "# Pintamos la matriz de confusión de BM25\n",
        "array_bm25 = metrics.confusion_matrix(df_test.label, predicted_bm25)\n",
        "df_cm_bm25 = pd.DataFrame(array_bm25)\n",
        "plt.figure(figsize = (10,7))\n",
        "sn.heatmap(df_cm_bm25, annot=True, fmt=\"d\")\n"
      ]
    },
    {
      "cell_type": "markdown",
      "metadata": {
        "id": "cXzhkX65K2Qb"
      },
      "source": [
        "## Apartado 1.5 - Guardamos y cargamos el modelo\n"
      ]
    },
    {
      "cell_type": "code",
      "execution_count": 31,
      "metadata": {
        "id": "yKIIVKRaK5K3",
        "colab": {
          "base_uri": "https://localhost:8080/"
        },
        "outputId": "3241ee7d-fb7e-40b3-a80e-150e1dd4d6c6"
      },
      "outputs": [
        {
          "output_type": "stream",
          "name": "stdout",
          "text": [
            "Test accuracy: 82.04697987 %\n",
            "TF: 'no me fío del gobierno' => negative\n",
            "TF: 'aumentan los fallecidos' => negative\n",
            "TF: 'desciende la incidencia del virus' => positive\n",
            "TFIDF: 'no me fío del gobierno' => positive\n",
            "TFIDF: 'aumentan los fallecidos' => negative\n",
            "TFIDF: 'desciende la incidencia del virus' => positive\n",
            "BM25: 'no me fío del gobierno' => positive\n",
            "BM25: 'aumentan los fallecidos' => negative\n",
            "BM25: 'desciende la incidencia del virus' => positive\n"
          ]
        }
      ],
      "source": [
        "import joblib\n",
        "\n",
        "# Podemos gardar el modelo a algún archivo\n",
        "modTF_file = \"TF_model.pkl\"\n",
        "joblib.dump(clf_tf, modTF_file)\n",
        "\n",
        "# Lo cargamos desde el fichero\n",
        "TF_model = joblib.load(modTF_file)\n",
        "\n",
        "# Volvemos a calcular el accuracy de los datos de test\n",
        "score = TF_model.score(df_test.tweet, df_test.label)\n",
        "print(\"Test accuracy: {0:.8f} %\".format(100 * score))\n",
        "\n",
        "# Otra forma de calcular el accuracy es\n",
        "predicted_tf = TF_model.predict(df_test.tweet)\n",
        "np.mean(predicted_tf == df_test.label)\n",
        "\n",
        "# Probamos de nuevo los ejemplos para la clasificación\n",
        "docs_new = ['no me fío del gobierno', 'aumentan los fallecidos','desciende la incidencia del virus']\n",
        "\n",
        "# Predecimos\n",
        "predicted_tf = TF_model.predict(docs_new)\n",
        "\n",
        "# Imprimimos los textos y su predicción para TF\n",
        "for doc, category_tf in zip(docs_new, predicted_tf):\n",
        "  print('TF: %r => %s' % (doc, category_tf))\n",
        "\n",
        "  # Imprimimos los textos y su predicción para TFIDF\n",
        "for doc, category_tfidf in zip(docs_new, predicted_tfidf):\n",
        "  print('TFIDF: %r => %s' % (doc, category_tfidf))\n",
        "\n",
        "  # Imprimimos los textos y su predicción para BM25\n",
        "for doc, category_bm25 in zip(docs_new, predicted_bm25):\n",
        "  print('BM25: %r => %s' % (doc, category_bm25))"
      ]
    }
  ],
  "metadata": {
    "colab": {
      "provenance": [],
      "include_colab_link": true
    },
    "kernelspec": {
      "display_name": "Python 3 (ipykernel)",
      "language": "python",
      "name": "python3"
    },
    "language_info": {
      "codemirror_mode": {
        "name": "ipython",
        "version": 3
      },
      "file_extension": ".py",
      "mimetype": "text/x-python",
      "name": "python",
      "nbconvert_exporter": "python",
      "pygments_lexer": "ipython3",
      "version": "3.8.6"
    }
  },
  "nbformat": 4,
  "nbformat_minor": 0
}