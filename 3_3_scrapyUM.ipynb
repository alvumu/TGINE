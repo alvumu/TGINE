{
  "cells": [
    {
      "cell_type": "markdown",
      "metadata": {
        "id": "nGcgFs-tkxlS"
      },
      "source": [
        "# Sesión 3.3 - Scrapy - Web noticias UM\n",
        "En este ejemplo vamos a definir un Spider sencillo para obtener las noticias de la Universidad de Murcia que se encuentran en la URL https://www.um.es/web/sala-prensa/notas-de-prensa/historico?type=com.liferay.journal.model.JournalArticle&category=4753007\n",
        "\n",
        "Para eso deberemos ver el código de la página y su estructura para encontrar la información que queremos extraer.\n",
        "\n",
        "Una vez sabemos eso, podemos definir nuestra clase UMSpider.\n"
      ]
    },
    {
      "cell_type": "code",
      "source": [
        "!pip3 install -U scrapy"
      ],
      "metadata": {
        "id": "P0mrWRNjCnqd"
      },
      "execution_count": null,
      "outputs": []
    },
    {
      "cell_type": "code",
      "execution_count": 1,
      "metadata": {
        "id": "sxR_1TBovFHM"
      },
      "outputs": [],
      "source": [
        "import scrapy\n",
        "import sys\n",
        "import json\n",
        "import locale\n",
        "import time\n",
        "import random\n",
        "from bs4 import BeautifulSoup\n",
        "\n",
        "# Para cada crawler que nos definimos nos debemos crear una clase Spider que debe heredar de la clase scrapy.Spider\n",
        "\n",
        "class UMSpider (scrapy.Spider):\n",
        "    name = 'unimurcia'\n",
        "\n",
        "    # Decimos que el dominio válido es el de la UM\n",
        "    allowed_domains = ['www.um.es']\n",
        "\n",
        "    # podemos definir las páginas de inicio\n",
        "    start_urls = ['https://www.um.es/web/sala-prensa/notas-de-prensa/historico?type=com.liferay.journal.model.JournalArticle&category=4753007']\n",
        "\n",
        "    # para evitar que el sitio te bloquee por usar scrapy es interesante cambiar el USER_AGENT\n",
        "    # El user agent por defecto de Scrapy cuando hace una petición es\n",
        "    # Scrapy/VERSION (+https://scrapy.org)\n",
        "    custom_settings = {\n",
        "        'USER_AGENT': 'Mozilla/5.0 (Windows NT 10.0; WOW64) AppleWebKit/537.36 (KHTML, like Gecko) Chrome/109.0.0.0 Safari/537.36',\n",
        "    }\n",
        "\n",
        "    # debemos de implementar este método que se llamará para cada una de las páginas que se vayan analizando\n",
        "    def parse (self, response):\n",
        "        \"\"\"\n",
        "        @inherit\n",
        "\n",
        "        @param self\n",
        "        @param response\n",
        "        \"\"\"\n",
        "\n",
        "        # Guardamos la URL del sitio que se está visitando\n",
        "        url = str(response.request.url).strip()\n",
        "\n",
        "        # Cogemos el contenido relevante y para eso debemos usar selectores CSS\n",
        "        for article in response.css ('XXXXXXXXXXX'):\n",
        "            # Cogemos el contenido del título\n",
        "            title = str (article.css ('XXXXXXXXXXXX').get ()).strip()\n",
        "            title = BeautifulSoup (title, 'html.parser').get_text().strip()\n",
        "            # Cogemos el contenido del contenido\n",
        "            content = \"\".join (article.css ('XXXXXXXXX').get ())\n",
        "            content = BeautifulSoup (content, 'html.parser').get_text().strip().replace(\"\\\"\",\"\")\n",
        "\n",
        "            # Cogemos también la fecha si existe\n",
        "            date = str(article.css ('XXXXXXXXXXXX').get().strip())\n",
        "            if (date):\n",
        "                date = BeautifulSoup (date, 'html.parser').get_text().strip()\n",
        "\n",
        "            print (\"-------------------------\")\n",
        "            print (url)\n",
        "            print (title)\n",
        "            print (content)\n",
        "            print (date)\n",
        "            print (\"-------------------------\")\n",
        "\n",
        "            data = {\n",
        "                'url' : url,\n",
        "                'title': title,\n",
        "                'content': content,\n",
        "                'date': date\n",
        "            }\n",
        "\n",
        "            filename = str(random.random()).replace(\".\",\"\") + \".json\"\n",
        "\n",
        "            # Guardamos el documento si tiene contenido y título\n",
        "            if content and title:\n",
        "                with open ('umu/' + filename, 'w') as f:\n",
        "                    json.dump (data, f, indent = 4)\n",
        "\n",
        "\n",
        "        # Obtenemos todas las otros links de la página representados por la etiqueta <a>\n",
        "        url_in_current_document = response.css ('a')\n",
        "        for next_page in url_in_current_document:\n",
        "            # Para limitar que solamente se parseen las noticias dentro de 'https://www.um.es/web/sala-prensa/'\n",
        "            # obtenemos el atributo href de la etiqueta <a> y parseamos la página\n",
        "            yield response.follow (next_page, self.parse)\n"
      ]
    },
    {
      "cell_type": "markdown",
      "metadata": {
        "id": "fgv-fxRYl3wJ"
      },
      "source": [
        "## Apartado 1.2\n",
        "Para poder lanzar el Spider necesitamos que ejecutar el siguiente código donde se configuará y lanzará el proceso.\n",
        "Hay que hacer notar que solamente se puede lanzar un proceso por cada sesión en Jupyter notebook es por eso por lo que se recomienda exportar el código en un script de Python .py para poder ejecutarlo desde la línea de comandos."
      ]
    },
    {
      "cell_type": "code",
      "execution_count": 2,
      "metadata": {
        "id": "ZmizggOEoyHX",
        "colab": {
          "base_uri": "https://localhost:8080/"
        },
        "outputId": "63560885-5d1a-422b-d30f-290d52f4a263"
      },
      "outputs": [
        {
          "output_type": "stream",
          "name": "stderr",
          "text": [
            "INFO:scrapy.utils.log:Scrapy 2.11.0 started (bot: scrapybot)\n",
            "INFO:scrapy.utils.log:Versions: lxml 4.9.3.0, libxml2 2.10.3, cssselect 1.2.0, parsel 1.8.1, w3lib 2.1.2, Twisted 22.10.0, Python 3.10.12 (main, Jun 11 2023, 05:26:28) [GCC 11.4.0], pyOpenSSL 23.2.0 (OpenSSL 3.1.3 19 Sep 2023), cryptography 41.0.4, Platform Linux-5.15.120+-x86_64-with-glibc2.35\n",
            "INFO:scrapy.addons:Enabled addons:\n",
            "[]\n",
            "/usr/local/lib/python3.10/dist-packages/scrapy/utils/request.py:254: ScrapyDeprecationWarning: '2.6' is a deprecated value for the 'REQUEST_FINGERPRINTER_IMPLEMENTATION' setting.\n",
            "\n",
            "It is also the default value. In other words, it is normal to get this warning if you have not defined a value for the 'REQUEST_FINGERPRINTER_IMPLEMENTATION' setting. This is so for backward compatibility reasons, but it will change in a future version of Scrapy.\n",
            "\n",
            "See the documentation of the 'REQUEST_FINGERPRINTER_IMPLEMENTATION' setting for information on how to handle this deprecation.\n",
            "  return cls(crawler)\n",
            "DEBUG:scrapy.utils.log:Using reactor: twisted.internet.epollreactor.EPollReactor\n",
            "INFO:scrapy.extensions.telnet:Telnet Password: 0dfebea6c3c922a2\n",
            "INFO:scrapy.middleware:Enabled extensions:\n",
            "['scrapy.extensions.corestats.CoreStats',\n",
            " 'scrapy.extensions.telnet.TelnetConsole',\n",
            " 'scrapy.extensions.memusage.MemoryUsage',\n",
            " 'scrapy.extensions.logstats.LogStats']\n",
            "INFO:scrapy.crawler:Overridden settings:\n",
            "{'LOG_ENABLED': False,\n",
            " 'USER_AGENT': 'Mozilla/5.0 (Windows NT 10.0; WOW64) AppleWebKit/537.36 '\n",
            "               '(KHTML, like Gecko) Chrome/109.0.0.0 Safari/537.36'}\n",
            "INFO:scrapy.middleware:Enabled downloader middlewares:\n",
            "['scrapy.downloadermiddlewares.httpauth.HttpAuthMiddleware',\n",
            " 'scrapy.downloadermiddlewares.downloadtimeout.DownloadTimeoutMiddleware',\n",
            " 'scrapy.downloadermiddlewares.defaultheaders.DefaultHeadersMiddleware',\n",
            " 'scrapy.downloadermiddlewares.useragent.UserAgentMiddleware',\n",
            " 'scrapy.downloadermiddlewares.retry.RetryMiddleware',\n",
            " 'scrapy.downloadermiddlewares.redirect.MetaRefreshMiddleware',\n",
            " 'scrapy.downloadermiddlewares.httpcompression.HttpCompressionMiddleware',\n",
            " 'scrapy.downloadermiddlewares.redirect.RedirectMiddleware',\n",
            " 'scrapy.downloadermiddlewares.cookies.CookiesMiddleware',\n",
            " 'scrapy.downloadermiddlewares.httpproxy.HttpProxyMiddleware',\n",
            " 'scrapy.downloadermiddlewares.stats.DownloaderStats']\n",
            "INFO:scrapy.middleware:Enabled spider middlewares:\n",
            "['scrapy.spidermiddlewares.httperror.HttpErrorMiddleware',\n",
            " 'scrapy.spidermiddlewares.offsite.OffsiteMiddleware',\n",
            " 'scrapy.spidermiddlewares.referer.RefererMiddleware',\n",
            " 'scrapy.spidermiddlewares.urllength.UrlLengthMiddleware',\n",
            " 'scrapy.spidermiddlewares.depth.DepthMiddleware']\n",
            "INFO:scrapy.middleware:Enabled item pipelines:\n",
            "[]\n",
            "INFO:scrapy.core.engine:Spider opened\n",
            "INFO:scrapy.extensions.logstats:Crawled 0 pages (at 0 pages/min), scraped 0 items (at 0 items/min)\n",
            "INFO:scrapy.extensions.telnet:Telnet console listening on 127.0.0.1:6023\n",
            "DEBUG:scrapy.core.engine:Crawled (200) <GET https://www.um.es/web/sala-prensa/notas-de-prensa/historico?type=com.liferay.journal.model.JournalArticle&category=4753007> (referer: None)\n",
            "DEBUG:scrapy.dupefilters:Filtered duplicate request: <GET https://www.um.es/web/sala-prensa/actualidad> - no more duplicates will be shown (see DUPEFILTER_DEBUG to show all duplicates)\n",
            "DEBUG:scrapy.downloadermiddlewares.redirect:Redirecting (302) to <GET https://www.um.es/web/sala-prensa/> from <GET https://www.um.es/web/sala-prensa>\n",
            "DEBUG:scrapy.core.engine:Crawled (200) <GET https://www.um.es/web/sala-prensa/-/la-facultad-de-ciencias-del-trabajo-de-la-umu-celebra-el-x-foro-de-empleo/1.1?redirect=%2Fweb%2Fsala-prensa%2Fnotas-de-prensa%2Fhistorico%3Ftype%3Dcom.liferay.journal.model.JournalArticle%26category%3D4753007> (referer: https://www.um.es/web/sala-prensa/notas-de-prensa/historico?type=com.liferay.journal.model.JournalArticle&category=4753007)\n",
            "DEBUG:scrapy.core.engine:Crawled (200) <GET https://www.um.es/web/sala-prensa/multimedia> (referer: https://www.um.es/web/sala-prensa/notas-de-prensa/historico?type=com.liferay.journal.model.JournalArticle&category=4753007)\n",
            "DEBUG:scrapy.core.engine:Crawled (200) <GET https://www.um.es/web/sala-prensa/personal> (referer: https://www.um.es/web/sala-prensa/notas-de-prensa/historico?type=com.liferay.journal.model.JournalArticle&category=4753007)\n",
            "DEBUG:scrapy.core.engine:Crawled (200) <GET https://www.um.es/web/sala-prensa/-/la-sede-electr%C3%B3nica-de-la-universidad-de-murcia-finalista-en-los-premios-cnis-2023/1.0?redirect=%2Fweb%2Fsala-prensa%2Fnotas-de-prensa%2Fhistorico%3Ftype%3Dcom.liferay.journal.model.JournalArticle%26category%3D4753007> (referer: https://www.um.es/web/sala-prensa/notas-de-prensa/historico?type=com.liferay.journal.model.JournalArticle&category=4753007)\n",
            "DEBUG:scrapy.core.engine:Crawled (200) <GET https://www.um.es/web/sala-prensa/notas-de-prensa> (referer: https://www.um.es/web/sala-prensa/notas-de-prensa/historico?type=com.liferay.journal.model.JournalArticle&category=4753007)\n",
            "DEBUG:scrapy.core.engine:Crawled (200) <GET https://www.um.es/web/sala-prensa/-/la-catedr%C3%A1tica-de-la-umu-pilar-arn%C3%A1iz-es-investida-doctora-honoris-causa-por-la-universidad-cat%C3%B3lica-del-cibao-en-rep%C3%BAblica-dominicana/1.2?redirect=%2Fweb%2Fsala-prensa%2Fnotas-de-prensa%2Fhistorico%3Ftype%3Dcom.liferay.journal.model.JournalArticle%26category%3D4753007> (referer: https://www.um.es/web/sala-prensa/notas-de-prensa/historico?type=com.liferay.journal.model.JournalArticle&category=4753007)\n",
            "DEBUG:scrapy.core.engine:Crawled (200) <GET https://www.um.es/web/sala-prensa/galeria> (referer: https://www.um.es/web/sala-prensa/notas-de-prensa/historico?type=com.liferay.journal.model.JournalArticle&category=4753007)\n",
            "DEBUG:scrapy.core.engine:Crawled (200) <GET https://www.um.es/web/sala-prensa/notas-de-prensa/historico> (referer: https://www.um.es/web/sala-prensa/notas-de-prensa/historico?type=com.liferay.journal.model.JournalArticle&category=4753007)\n",
            "DEBUG:scrapy.core.engine:Crawled (200) <GET https://www.um.es/web/sala-prensa/> (referer: https://www.um.es/web/sala-prensa/notas-de-prensa/historico?type=com.liferay.journal.model.JournalArticle&category=4753007)\n"
          ]
        },
        {
          "output_type": "stream",
          "name": "stdout",
          "text": [
            "-------------------------\n",
            "https://www.um.es/web/sala-prensa/-/la-facultad-de-ciencias-del-trabajo-de-la-umu-celebra-el-x-foro-de-empleo/1.1?redirect=%2Fweb%2Fsala-prensa%2Fnotas-de-prensa%2Fhistorico%3Ftype%3Dcom.liferay.journal.model.JournalArticle%26category%3D4753007\n",
            "La Facultad de Ciencias del Trabajo de la UMU celebra el X Foro de Empleo\n",
            "La Facultad de Ciencias del Trabajo de la Universidad de Murcia ha celebrado este jueves, 26 de octubre, el X Foro Regional de Empleo y Desarrollo Local de la Región de Murcia, organizado en colaboración con la Cátedra de Agenda Urbana y Desarrollo Estratégico Local, el Observatorio de Desarrollo Rural, Local y Empleo y la Asociación de Agentes de Empleo y Desarrollo Local de la Región de Murcia. Este Foro de Empleo se ha consolidado ya como un punto de encuentro y debate entre estudiantes, profesores y técnicos de empleo y desarrollo local que trabajan o tienen interés en la promoción económica y la creación de empleo.\n",
            "En esta ocasión, el Foro de Empleo ha girado en torno a la gobernanza en los procesos de desarrollo territorial, contando con conferencias impartidas por personalidades destacadas en estos ámbito.\n",
            "De forma simultanea, el Foro ha acogido la feria de empleo en la que el alumnado ha dado a conocer la labor que se está desarrollando en las entidades participantes.\n",
            "Además, también se han entregado los premios de la IX Edición de los Premios de Desarrollo Local y Empleo, en los que se galardona a las entidades, profesionales y prácticas más destacadas del último año.\n",
            "14:12 26/10/2023\n",
            "-------------------------\n"
          ]
        },
        {
          "output_type": "stream",
          "name": "stderr",
          "text": [
            "DEBUG:scrapy.core.engine:Crawled (200) <GET https://www.um.es/web/sala-prensa/-/el-director-de-cine-graduado-en-la-umu-%C3%81ngel-morales-gana-el-premio-tve-la-aventura-del-saber-/1.2?redirect=%2Fweb%2Fsala-prensa%2Fnotas-de-prensa%2Fhistorico%3Ftype%3Dcom.liferay.journal.model.JournalArticle%26category%3D4753007> (referer: https://www.um.es/web/sala-prensa/notas-de-prensa/historico?type=com.liferay.journal.model.JournalArticle&category=4753007)\n",
            "DEBUG:scrapy.core.engine:Crawled (200) <GET https://www.um.es/web/sala-prensa/actualidad> (referer: https://www.um.es/web/sala-prensa/notas-de-prensa/historico?type=com.liferay.journal.model.JournalArticle&category=4753007)\n",
            "DEBUG:scrapy.core.engine:Crawled (200) <GET https://www.um.es/web/sala-prensa/-/el-rector-recibe-a-seis-catedr%C3%A1ticos-de-la-universidad-china-de-hangzhou/1.1?redirect=%2Fweb%2Fsala-prensa%2Fnotas-de-prensa%2Fhistorico%3Ftype%3Dcom.liferay.journal.model.JournalArticle%26category%3D4753007> (referer: https://www.um.es/web/sala-prensa/notas-de-prensa/historico?type=com.liferay.journal.model.JournalArticle&category=4753007)\n",
            "DEBUG:scrapy.core.engine:Crawled (200) <GET https://www.um.es/web/sala-prensa/-/-gastrociencia-vuelve-a-la-sala-de-catas-de-estrella-levante-para-explorar-los-secretos-de-los-salazones-mediterr%C3%A1neas/1.3?redirect=%2Fweb%2Fsala-prensa%2Fnotas-de-prensa%2Fhistorico%3Ftype%3Dcom.liferay.journal.model.JournalArticle%26category%3D4753007> (referer: https://www.um.es/web/sala-prensa/notas-de-prensa/historico?type=com.liferay.journal.model.JournalArticle&category=4753007)\n",
            "DEBUG:scrapy.core.engine:Crawled (200) <GET https://www.um.es/web/sala-prensa/-/la-profesora-de-la-umu-pilar-juana-garc%C3%ADa-recibe-el-premio-fitur-2023-al-mejor-trabajo-de-investigaci%C3%B3n/1.0?redirect=%2Fweb%2Fsala-prensa%2Fnotas-de-prensa%2Fhistorico%3Ftype%3Dcom.liferay.journal.model.JournalArticle%26category%3D4753007> (referer: https://www.um.es/web/sala-prensa/notas-de-prensa/historico?type=com.liferay.journal.model.JournalArticle&category=4753007)\n",
            "DEBUG:scrapy.core.engine:Crawled (200) <GET https://www.um.es/web/sala-prensa/-/vuelve-la-segunda-edici%C3%B3n-del-festival-umurgentes-como-trampol%C3%ADn-para-el-talento-joven-murciano/1.0?redirect=%2Fweb%2Fsala-prensa%2Fnotas-de-prensa%2Fhistorico%3Ftype%3Dcom.liferay.journal.model.JournalArticle%26category%3D4753007> (referer: https://www.um.es/web/sala-prensa/notas-de-prensa/historico?type=com.liferay.journal.model.JournalArticle&category=4753007)\n",
            "DEBUG:scrapy.core.engine:Crawled (200) <GET https://www.um.es/web/sala-prensa/-/la-universidad-de-murcia-corre-este-jueves-sin-resistencias-/1.1?redirect=%2Fweb%2Fsala-prensa%2Fnotas-de-prensa%2Fhistorico%3Ftype%3Dcom.liferay.journal.model.JournalArticle%26category%3D4753007> (referer: https://www.um.es/web/sala-prensa/notas-de-prensa/historico?type=com.liferay.journal.model.JournalArticle&category=4753007)\n"
          ]
        },
        {
          "output_type": "stream",
          "name": "stdout",
          "text": [
            "-------------------------\n",
            "https://www.um.es/web/sala-prensa/-/la-sede-electr%C3%B3nica-de-la-universidad-de-murcia-finalista-en-los-premios-cnis-2023/1.0?redirect=%2Fweb%2Fsala-prensa%2Fnotas-de-prensa%2Fhistorico%3Ftype%3Dcom.liferay.journal.model.JournalArticle%26category%3D4753007\n",
            "La sede electrónica de la Universidad de Murcia, finalista en los premios CNIS 2023\n",
            "La Sede Electrónica de la Universidad de Murcia ha quedado finalista en los prestigiosos Premios CNIS 2023, entre más de un centenar de candidaturas, que reconocen la excelencia en la innovación digital.\n",
            "La Universidad de Murcia lleva trabajando en el ámbito de la Administración Digital desde el año 2005, con la publicación del 'Plan Hacia la Administración Electrónica'. De este han emanado un conjunto de sistemas comunes y servicios electrónicos, que permiten ofrecer un volumen significativo de trámites electrónicos para optimizar la gestión administrativa, dirigidos tanto a estudiantes, como al personal propio y organismos con los que se relaciona. De esta manera, se facilita la relación electrónica de los ciudadanos y organismos por medios electrónicos, además de agilizar su tramitación, el intercambio de información y, en consecuencia, reducir los tiempos de resolución y el uso del papel. Todo ello, la ha llevado a posicionarse como una universidad pionera en dicho ámbito a través del Vicerrectorado de Estrategia y Universidad Digital y ÁTICA.\n",
            "En marzo de este año, la Universidad de Murcia lanzó una nueva versión de su Sede Electrónica, diseñada con el foco puesto en la usabilidad y accesibilidad. Esta nueva versión ofrece una apariencia moderna y una experiencia de usuario intuitiva, compatible con dispositivos móviles, para satisfacer las demandas actuales de los usuarios: https://sede.um.es\n",
            "Los principales servicios ofrecidos por la Sede Electrónica UMU incluyen la Carpeta Ciudadana, el Registro Electrónico, el Tablón Oficial de Anuncios (TOUM), el Validador de Documentos, el Inventario de Trámites y el Perfil del Contratante. Estos servicios están respaldados por una sólida infraestructura tecnológica, que incluye la utilización de estándares abiertos y tecnologías de vanguardia.\n",
            "Los resultados obtenidos muestran un crecimiento constante en el uso de la plataforma a lo largo de los años, con un aumento significativo en el número de anotaciones en el Registro Electrónico, descargas en la Carpeta Ciudadana, notificaciones practicadas y anuncios publicados en el TOUM.\n",
            "El reconocimiento como finalista en los Premios CNIS 2023 es un testimonio de su éxito en este esfuerzo constante por la innovación en los servicios públicos electrónicos, destacando el compromiso de la Universidad de Murcia con la administración digital y la mejora de la experiencia del usuario, que constituye un paso más en el Plan de Transformación Digital UMU.\n",
            "13:25 26/10/2023\n",
            "-------------------------\n",
            "-------------------------\n",
            "https://www.um.es/web/sala-prensa/-/la-catedr%C3%A1tica-de-la-umu-pilar-arn%C3%A1iz-es-investida-doctora-honoris-causa-por-la-universidad-cat%C3%B3lica-del-cibao-en-rep%C3%BAblica-dominicana/1.2?redirect=%2Fweb%2Fsala-prensa%2Fnotas-de-prensa%2Fhistorico%3Ftype%3Dcom.liferay.journal.model.JournalArticle%26category%3D4753007\n",
            "La catedrática de la UMU Pilar Arnaiz es investida doctora honoris causa por la Universidad Católica del Cibao, en República Dominicana\n",
            "Pilar Arnaiz, catedrática de la Facultad de Educación de la Universidad de Murcia, ha sido investida doctora honoris causa por la Universidad Católica del Cibao (UCATECI), de República Dominicana. La institución ha querido destacar con este reconocimiento la labor pionera que Arnáiz ha llevado a cabo en la incorporación de la educación inclusiva en la enseñanza universitaria de la República dominicana; así como destacar su trayectoria académica y profesional en este país divulgando la educación inclusiva. La ceremonia de investidura se ha enmarcado en los actos de celebración del 40 aniversario de la fundación de la UCATECI.\n",
            "Entre todos los méritos de Pilar Arnaiz que se expusieron durante la ceremonia, se destacó especialmente toda la labor de investigación llevada a cabo desde que en 1993 creó en la Universidad de Murcia el grupo de investigación ‘Educación inclusiva: escuela para todos’. Desde entonces sus numerosas investigaciones exploran cuáles son los mejores indicadores de calidad en el ámbito de la exclusión-inclusión educativa para formar al profesorado y transformar la educación primaria y secundaria.\n",
            "Además, su dedicación docente le ha proporcionado un gran reconocimiento que le ha llevado a participar en Másteres y Cursos de Doctorado en diferentes universidades europeas, de Estados Unidos y de Latinoamérica, en especial, en la República Dominicana.\n",
            "En las celebraciones del 40 Aniversario Institucional, la UCATECI también invistió honoris causa a los profesores Hugo Estrella Guzmán, Blasina Herrera Acevedo y Monseñor Freddy Antonio de Jesús Bretón Martínez. Los homenajeados recibieron las insignias y diplomas como un símbolo de reconocimiento por sus valiosos aportes a la sociedad dominicana, siendo la más alta distinción que otorga esta institución.\n",
            "18:17 23/10/2023\n",
            "-------------------------\n"
          ]
        },
        {
          "output_type": "stream",
          "name": "stderr",
          "text": [
            "DEBUG:scrapy.core.engine:Crawled (200) <GET https://www.um.es/web/sala-prensa/-/la-facultad-de-ciencias-del-trabajo-de-la-umu-celebra-el-x-foro-de-empleo> (referer: https://www.um.es/web/sala-prensa/-/la-facultad-de-ciencias-del-trabajo-de-la-umu-celebra-el-x-foro-de-empleo/1.1?redirect=%2Fweb%2Fsala-prensa%2Fnotas-de-prensa%2Fhistorico%3Ftype%3Dcom.liferay.journal.model.JournalArticle%26category%3D4753007)\n"
          ]
        },
        {
          "output_type": "stream",
          "name": "stdout",
          "text": [
            "-------------------------\n",
            "https://www.um.es/web/sala-prensa/-/el-director-de-cine-graduado-en-la-umu-%C3%81ngel-morales-gana-el-premio-tve-la-aventura-del-saber-/1.2?redirect=%2Fweb%2Fsala-prensa%2Fnotas-de-prensa%2Fhistorico%3Ftype%3Dcom.liferay.journal.model.JournalArticle%26category%3D4753007\n",
            "El director de cine graduado en la UMU Ángel Morales gana el Premio TVE ‘La aventura del Saber’\n",
            "El programa ‘La aventura del Saber’ de TVE ha galardonado al director Ángel Morales Ballesta, graduado en Comunicación Audiovisual en la Facultad de Comunicación y Documentación de la Universidad de Murcia, con el premio Especial en los Encuentros audiovisuales de jóvenes del festival Cinema Jove de Valencia.\n",
            "Su cortometraje, ‘Ancla’, trata sobre cómo Ángel, de 23 años, afrontó los primeros meses de su tratamiento hormonal en testosterona y mientras vivía con su abuela Ángeles, de 88 años. En el corto se ve la normalidad y vida cotidiana de una persona trans, cómo enfrenta los cambios que vive y cómo se reconcilia con su pasado para poder vivir el presente y soñar con el futuro. Además, en el documental puede verse el amor incondicional a uno mismo y a la familia.\n",
            "El documental de Ángel Morales fue uno de los 14 cortometrajes seleccionados en el Festival Cinema Jove. “Estoy muy agradecido tanto al Cinema Jove como a TVE por los premios y por haberme dado el espacio y la oportunidad de exponer una parte de la realidad de mi colectivo”, afirmó el director tras hacerse con el premio.\n",
            "En sus agradecimientos, Morales quiso destacar a su tutora del Trabajo Final de Grado, la profesora Virginia Villaplana, sin quien, aseguró, el proyecto no habría visto la luz. Especialmente tuvo palabras de cariño hacia su abuela.\n",
            "12:35 24/10/2023\n",
            "-------------------------\n",
            "-------------------------\n",
            "https://www.um.es/web/sala-prensa/-/el-rector-recibe-a-seis-catedr%C3%A1ticos-de-la-universidad-china-de-hangzhou/1.1?redirect=%2Fweb%2Fsala-prensa%2Fnotas-de-prensa%2Fhistorico%3Ftype%3Dcom.liferay.journal.model.JournalArticle%26category%3D4753007\n",
            "El rector recibe a seis catedráticos de la universidad china de Hangzhou\n",
            "El rector de la Universidad de Murcia, José Luján, recibió el pasado lunes en su despacho a seis catedráticos de la Universidad de Hangzhou (China), que han visitado la institución como parte de los vínculos investigadores y académicos que mantienen con la catedrática de Medicina María Trinidad Herrero, quien es distinguished professor en dicha universidad.\n",
            "Tras la visita institucional, tuvo lugar el simposio  'Stressful life events:emotion and cognition' en el que, especialistas de la citada universidad china, junto con otros especialistas internacionales, analizaron diferentes consecuencias que el estrés tiene en la salud.\n",
            "14:06 24/10/2023\n",
            "-------------------------\n",
            "-------------------------\n",
            "https://www.um.es/web/sala-prensa/-/-gastrociencia-vuelve-a-la-sala-de-catas-de-estrella-levante-para-explorar-los-secretos-de-los-salazones-mediterr%C3%A1neas/1.3?redirect=%2Fweb%2Fsala-prensa%2Fnotas-de-prensa%2Fhistorico%3Ftype%3Dcom.liferay.journal.model.JournalArticle%26category%3D4753007\n",
            "‘GastroCiencia’ vuelve a la Sala de Catas de Estrella Levante para explorar los secretos de los salazones mediterráneas\n",
            "El catedrático y divulgador José Manuel López Nicolás, acompañado por Ana Garre, CEO de la multipremiada empresa Salazones Garre de San Pedro del Pinatar, presentan el tercer evento GastroCiencia en la Sala de Catas de Estrella Levante. El bonito, la mojama o la bottarga son productos muy murcianos que se han consumido durante siglos en la región. Por eso, diferentes disciplinas científicas como la tecnología alimentaria se encargan de estudiar cómo la sal y otros ingredientes pueden ayudar a conservar estos alimentos tan ligados a la gastronomía de esta tierra.\n",
            "El vicerrector de Transferencia, Comunicación y Divulgación Científica José Manuel López Nicolás dará a conocer la ciencia que hay detrás de estos productos, y Ana Garre aportará la parte con mejor sabor, compartiendo pautas para consumirlo de forma correcta, trucos para distinguir sus diferentes variedades y cualidades y curiosidades sobre su elaboración. \n",
            "Esta siguiente cita con GastroCiencia comenzará a las 20:00 horas el día 25 de octubre y acaban de colgar el cartel de “sold out”. Pero para quienes deseen asistir a las próximas catas que tendrán lugar a lo largo del curso, tendrán que estar muy atentos y registrarse de forma gratuita a través de un formulario disponible en eventos.um.es\n",
            "Esta iniciativa comenzó su andadura en 2021 como un proyecto audiovisual de la Unidad de Cultura Científica de la Universidad de Murcia. En 2022 la actividad adquirió formato presencial para participar en la Feria Internacional de Turismo (FITUR) y Madrid Fusión 2022. ‘GastroCiencia’ ha recibido premios y reconocimientos por su labor divulgativa en el Certamen Internacional de cine científico #LabMeCrazy!; así como el premio al mejor corto científico en el certamen internacional Ciencia en Acción.\n",
            "09:14 25/10/2023\n",
            "-------------------------\n",
            "-------------------------\n",
            "https://www.um.es/web/sala-prensa/-/la-profesora-de-la-umu-pilar-juana-garc%C3%ADa-recibe-el-premio-fitur-2023-al-mejor-trabajo-de-investigaci%C3%B3n/1.0?redirect=%2Fweb%2Fsala-prensa%2Fnotas-de-prensa%2Fhistorico%3Ftype%3Dcom.liferay.journal.model.JournalArticle%26category%3D4753007\n",
            "La profesora de la UMU Pilar Juana García recibe el premio FITUR 2023 al mejor trabajo de investigación\n",
            "La profesora de la Universidad de Murcia Pilar Juana García Saura recibió el reconocimiento al mejor trabajo de investigación en la XXIV edición del Premio Tribuna FITUR Vila Fradela 2023 al mejor trabajo de investigación sobre Turismo.\n",
            "El trabajo de investigación, titulado 'Control y actividad inspectora de la administración pública sobre las viviendas de uso turístico', aborda en profundidad el régimen de intervención administrativa sobre viviendas de uso turístico, centrándose en el pilar fundamental de todo el sistema de intervención: la capacidad inspectora en el nuevo entorno digital caracterizado por la existencia de plataformas colaborativas en el alojamiento. \n",
            "El trabajo se ocupa del el gran crecimiento experimentado por las viviendas de uso turístico en la actualidad impulsado por la aparición de las plataformas on line de intermediación y analiza los problemas que ha provocado de regulación, seguridad jurídica, competencia, sostenibilidad, urbanísticos, etc. Por esta razón, el Derecho del Turismo ha ido respondiendo a los retos planteados por el incremento del turismo colaborativo.\n",
            "Entre otros aspectos, el trabajo pone el foco sobre el ejercicio por parte de las Administraciones de las actividades de verificación, supervisión, inspección (que darán lugar, en su caso, a sanciones) sobre las viviendas de uso turístico. Es imprescindible, según la autora de este trabajo, que la Administración Pública lleve a cabo un control riguroso de esta nueva realidad debido a su alto impacto en las ciudades. Para ello, concluye la investigadora en su trabajo, el ejercicio de la potestad inspectora en un entorno digital proporcionado por las plataformas que comercializan estos alojamientos colaborativos y la actividad inspectora automatizada realizada a través de web scraping o inspector robot, resulta fundamental hoy día.\n",
            "14:30 24/10/2023\n",
            "-------------------------\n",
            "-------------------------\n",
            "https://www.um.es/web/sala-prensa/-/vuelve-la-segunda-edici%C3%B3n-del-festival-umurgentes-como-trampol%C3%ADn-para-el-talento-joven-murciano/1.0?redirect=%2Fweb%2Fsala-prensa%2Fnotas-de-prensa%2Fhistorico%3Ftype%3Dcom.liferay.journal.model.JournalArticle%26category%3D4753007\n",
            "Vuelve la segunda edición del festival UMURGENTES como trampolín para el talento joven murciano\n",
            "La Universidad de Murcia celebrará este próximo jueves, dentro del amplísimo programa de actos que este año ha organizado con motivo de la Bienvenida Universitaria, la segunda edición del festival UMURGENTES, que tiene como objetivo apoyar a grupos de música y cantantes surgidos entre el alumnado que dan sus primeros pasos en el panorama musical. UMURGENTES está organizado gracias a la colaboración con la Junta Municipal del Distrito Centro Este y gestionado por Bellasound. La música comenzará a asonar a las nueve de la noche en el patio del Campus de la Merced.\n",
            "Karlan, Vuelve Abril, Querido Diablo, RaulMC y Aroa Boreal serán los encargados de poner música a esta nueva edición y podrán demostrar su talento arropados por la comunidad universitaria y el resto de asistentes, ya que el festival está abierto a todas aquellas personas a las que le guste la música y quieran descubrir nuevos talentos.\n",
            "Esta segunda edición presenta una importante novedad y es que, antes de la actuación de los grupos, prevista para las 21.00h, se realizará un encuentro de expertos en el circuito musical murciano que dialogarán sobre el presente y el futuro de la música de nuestra ciudad. Esta charla contará con la presencia de Raúl de Lara (Arde el arte & Live Branding), Daniel E. Moncho (Gran Azul Producciones & Biopic Films), Óscar Guzmán (La Gramola Encendida), Lalo GV (productor de Arde Bogotá) y Toni Pérez (Sala Revolver). Este encuentro se realizará en el mismo escenario del concierto, a las 18:30h. Tras él vendrán los conciertos y como colofón un encuentro entre los participantes y asistentes con la mejor música en Sala Revolver.\n",
            "En esta noche tan especial hay preparado un menú en el que la música será la protagonista pero que se verá aderezado con multitud de sorpresas gracias a la colaboración de Estrella de Levante, Coca Cola y Aires Burger.  En definitiva, música, talento en el patio del Campus de la Merced a partir de las 18.30 horas.\n",
            "09:36 25/10/2023\n",
            "-------------------------\n",
            "-------------------------\n",
            "https://www.um.es/web/sala-prensa/-/la-universidad-de-murcia-corre-este-jueves-sin-resistencias-/1.1?redirect=%2Fweb%2Fsala-prensa%2Fnotas-de-prensa%2Fhistorico%3Ftype%3Dcom.liferay.journal.model.JournalArticle%26category%3D4753007\n",
            "La Universidad de Murcia corre este jueves 'sin resistencias'\n",
            "La Universidad de Murcia celebrará este jueves, 26 de octubre, la carrera 'Sin resistencias', organizada con motivo del Día Europeo para el Uso Prudente de los Antibióticos y que se enmarca dentro del Plan Nacional contra las Resistencias. Uno de los objetivos de esta campaña es concienciar al alumnado que en el futuro ocupará profesiones sanitarias de la importancia que para la salud tiene el abuso de antibióticos y formarles para un mejor uso a través de la correcta prescripción y dispensación de estos medicamentos y el seguimiento de las principales recomendaciones para la prevención de las infecciones.\n",
            "La carrera se celebrará a las 17.30 horas en el Campus de Espinardo como parte de las actividades de la Bienvenida Universitaria. y las inscripciones están todavía abiertas a través del siguiente enlace: https://www.um.es/web/deportes/carreras_populares/carrera-de-bienvenida.\n",
            "La resistencia a antibióticos, un problema de salud\n",
            "Estudios recientes revelan que la resistencia antimicrobiana se ha convertido en una de las principales causas de muerte en todo el mundo, por encima de enfermedades como el sida y la malaria. Hay que considerar, además, que el tratamiento de estas infecciones supone un coste añadido de 1.500 millones de euros anuales en la Unión Europea (UE), lo que extrapolado a cifras nacionales representa un coste de al-rededor de 150 millones de euros anuales. Si no se toman medidas de carácter urgentes, recuerdan las autoridades sanitarias, se estima que en 35 años el número de muertes atribuibles a las infecciones multirresistentes alcanzará las 390.000 al año en toda Europa -unas 40.000 muertes anuales en España- y la resistencia desbancará al cáncer como primera causa de muerte.\n",
            "10:49 25/10/2023\n",
            "-------------------------\n",
            "-------------------------\n",
            "https://www.um.es/web/sala-prensa/-/la-facultad-de-ciencias-del-trabajo-de-la-umu-celebra-el-x-foro-de-empleo\n",
            "La Facultad de Ciencias del Trabajo de la UMU celebra el X Foro de Empleo\n",
            "La Facultad de Ciencias del Trabajo de la Universidad de Murcia ha celebrado este jueves, 26 de octubre, el X Foro Regional de Empleo y Desarrollo Local de la Región de Murcia, organizado en colaboración con la Cátedra de Agenda Urbana y Desarrollo Estratégico Local, el Observatorio de Desarrollo Rural, Local y Empleo y la Asociación de Agentes de Empleo y Desarrollo Local de la Región de Murcia. Este Foro de Empleo se ha consolidado ya como un punto de encuentro y debate entre estudiantes, profesores y técnicos de empleo y desarrollo local que trabajan o tienen interés en la promoción económica y la creación de empleo.\n",
            "En esta ocasión, el Foro de Empleo ha girado en torno a la gobernanza en los procesos de desarrollo territorial, contando con conferencias impartidas por personalidades destacadas en estos ámbito.\n",
            "De forma simultanea, el Foro ha acogido la feria de empleo en la que el alumnado ha dado a conocer la labor que se está desarrollando en las entidades participantes.\n",
            "Además, también se han entregado los premios de la IX Edición de los Premios de Desarrollo Local y Empleo, en los que se galardona a las entidades, profesionales y prácticas más destacadas del último año.\n",
            "14:12 26/10/2023\n",
            "-------------------------\n"
          ]
        },
        {
          "output_type": "stream",
          "name": "stderr",
          "text": [
            "DEBUG:scrapy.core.engine:Crawled (200) <GET https://www.um.es/web/sala-prensa/notas-de-prensa/historico?p_p_id=com_liferay_asset_publisher_web_portlet_AssetPublisherPortlet_INSTANCE_3YlyhdueBzXi&p_p_lifecycle=0&p_p_state=normal&p_p_mode=view&_com_liferay_asset_publisher_web_portlet_AssetPublisherPortlet_INSTANCE_3YlyhdueBzXi_delta=20&p_r_p_resetCur=false&_com_liferay_asset_publisher_web_portlet_AssetPublisherPortlet_INSTANCE_3YlyhdueBzXi_cur=21> (referer: https://www.um.es/web/sala-prensa/notas-de-prensa/historico?type=com.liferay.journal.model.JournalArticle&category=4753007)\n",
            "DEBUG:scrapy.core.engine:Crawled (200) <GET https://www.um.es/web/sala-prensa/notas-de-prensa/historico?p_p_id=com_liferay_asset_publisher_web_portlet_AssetPublisherPortlet_INSTANCE_3YlyhdueBzXi&p_p_lifecycle=0&p_p_state=normal&p_p_mode=view&_com_liferay_asset_publisher_web_portlet_AssetPublisherPortlet_INSTANCE_3YlyhdueBzXi_delta=20&p_r_p_resetCur=false&_com_liferay_asset_publisher_web_portlet_AssetPublisherPortlet_INSTANCE_3YlyhdueBzXi_cur=20> (referer: https://www.um.es/web/sala-prensa/notas-de-prensa/historico?type=com.liferay.journal.model.JournalArticle&category=4753007)\n",
            "INFO:scrapy.crawler:Received SIGINT, shutting down gracefully. Send again to force \n",
            "DEBUG:scrapy.core.engine:Crawled (200) <GET https://www.um.es/web/sala-prensa/notas-de-prensa/historico?p_p_id=com_liferay_asset_publisher_web_portlet_AssetPublisherPortlet_INSTANCE_3YlyhdueBzXi&p_p_lifecycle=0&p_p_state=normal&p_p_mode=view&_com_liferay_asset_publisher_web_portlet_AssetPublisherPortlet_INSTANCE_3YlyhdueBzXi_delta=20&p_r_p_resetCur=false&_com_liferay_asset_publisher_web_portlet_AssetPublisherPortlet_INSTANCE_3YlyhdueBzXi_cur=22> (referer: https://www.um.es/web/sala-prensa/notas-de-prensa/historico?type=com.liferay.journal.model.JournalArticle&category=4753007)\n",
            "INFO:scrapy.core.engine:Closing spider (shutdown)\n",
            "DEBUG:scrapy.core.engine:Crawled (200) <GET https://www.um.es/web/sala-prensa/-/la-sede-electr%C3%B3nica-de-la-universidad-de-murcia-finalista-en-los-premios-cnis-2023> (referer: https://www.um.es/web/sala-prensa/-/la-sede-electr%C3%B3nica-de-la-universidad-de-murcia-finalista-en-los-premios-cnis-2023/1.0?redirect=%2Fweb%2Fsala-prensa%2Fnotas-de-prensa%2Fhistorico%3Ftype%3Dcom.liferay.journal.model.JournalArticle%26category%3D4753007)\n",
            "DEBUG:scrapy.core.engine:Crawled (200) <GET https://www.um.es/web/sala-prensa/notas-de-prensa/historico?p_p_id=com_liferay_asset_publisher_web_portlet_AssetPublisherPortlet_INSTANCE_3YlyhdueBzXi&p_p_lifecycle=0&p_p_state=normal&p_p_mode=view&_com_liferay_asset_publisher_web_portlet_AssetPublisherPortlet_INSTANCE_3YlyhdueBzXi_delta=20&p_r_p_resetCur=false&_com_liferay_asset_publisher_web_portlet_AssetPublisherPortlet_INSTANCE_3YlyhdueBzXi_cur=23> (referer: https://www.um.es/web/sala-prensa/notas-de-prensa/historico?type=com.liferay.journal.model.JournalArticle&category=4753007)\n",
            "DEBUG:scrapy.core.engine:Crawled (200) <GET https://www.um.es/web/sala-prensa/notas-de-prensa/historico?p_p_id=com_liferay_asset_publisher_web_portlet_AssetPublisherPortlet_INSTANCE_3YlyhdueBzXi&p_p_lifecycle=0&p_p_state=normal&p_p_mode=view&_com_liferay_asset_publisher_web_portlet_AssetPublisherPortlet_INSTANCE_3YlyhdueBzXi_delta=20&p_r_p_resetCur=false&_com_liferay_asset_publisher_web_portlet_AssetPublisherPortlet_INSTANCE_3YlyhdueBzXi_cur=24> (referer: https://www.um.es/web/sala-prensa/notas-de-prensa/historico?type=com.liferay.journal.model.JournalArticle&category=4753007)\n",
            "DEBUG:scrapy.downloadermiddlewares.redirect:Redirecting (307) to <GET https://www.um.es/web/sala-prensa/notas-de-prensa/historico> from <GET http://www.um.es/web/sala-prensa/notas-de-prensa/historico>\n",
            "DEBUG:scrapy.core.engine:Crawled (200) <GET https://www.um.es/web/sala-prensa/-/la-catedr%C3%A1tica-de-la-umu-pilar-arn%C3%A1iz-es-investida-doctora-honoris-causa-por-la-universidad-cat%C3%B3lica-del-cibao-en-rep%C3%BAblica-dominicana> (referer: https://www.um.es/web/sala-prensa/-/la-catedr%C3%A1tica-de-la-umu-pilar-arn%C3%A1iz-es-investida-doctora-honoris-causa-por-la-universidad-cat%C3%B3lica-del-cibao-en-rep%C3%BAblica-dominicana/1.2?redirect=%2Fweb%2Fsala-prensa%2Fnotas-de-prensa%2Fhistorico%3Ftype%3Dcom.liferay.journal.model.JournalArticle%26category%3D4753007)\n",
            "DEBUG:scrapy.core.engine:Crawled (200) <GET https://www.um.es/web/sala-prensa/notas-de-prensa/historico?p_p_id=com_liferay_asset_publisher_web_portlet_AssetPublisherPortlet_INSTANCE_3YlyhdueBzXi&p_p_lifecycle=0&p_p_state=normal&p_p_mode=view&_com_liferay_asset_publisher_web_portlet_AssetPublisherPortlet_INSTANCE_3YlyhdueBzXi_delta=20&p_r_p_resetCur=false&_com_liferay_asset_publisher_web_portlet_AssetPublisherPortlet_INSTANCE_3YlyhdueBzXi_cur=25> (referer: https://www.um.es/web/sala-prensa/notas-de-prensa/historico?type=com.liferay.journal.model.JournalArticle&category=4753007)\n",
            "DEBUG:scrapy.core.engine:Crawled (200) <GET https://www.um.es/web/sala-prensa/-/-gastrociencia-vuelve-a-la-sala-de-catas-de-estrella-levante-para-explorar-los-secretos-de-los-salazones-mediterr%C3%A1neas/1.3?redirect=%2Fweb%2Fsala-prensa%2Fnotas-de-prensa%2Fhistorico> (referer: https://www.um.es/web/sala-prensa/notas-de-prensa/historico)\n"
          ]
        },
        {
          "output_type": "stream",
          "name": "stdout",
          "text": [
            "-------------------------\n",
            "https://www.um.es/web/sala-prensa/-/la-sede-electr%C3%B3nica-de-la-universidad-de-murcia-finalista-en-los-premios-cnis-2023\n",
            "La sede electrónica de la Universidad de Murcia, finalista en los premios CNIS 2023\n",
            "La Sede Electrónica de la Universidad de Murcia ha quedado finalista en los prestigiosos Premios CNIS 2023, entre más de un centenar de candidaturas, que reconocen la excelencia en la innovación digital.\n",
            "La Universidad de Murcia lleva trabajando en el ámbito de la Administración Digital desde el año 2005, con la publicación del 'Plan Hacia la Administración Electrónica'. De este han emanado un conjunto de sistemas comunes y servicios electrónicos, que permiten ofrecer un volumen significativo de trámites electrónicos para optimizar la gestión administrativa, dirigidos tanto a estudiantes, como al personal propio y organismos con los que se relaciona. De esta manera, se facilita la relación electrónica de los ciudadanos y organismos por medios electrónicos, además de agilizar su tramitación, el intercambio de información y, en consecuencia, reducir los tiempos de resolución y el uso del papel. Todo ello, la ha llevado a posicionarse como una universidad pionera en dicho ámbito a través del Vicerrectorado de Estrategia y Universidad Digital y ÁTICA.\n",
            "En marzo de este año, la Universidad de Murcia lanzó una nueva versión de su Sede Electrónica, diseñada con el foco puesto en la usabilidad y accesibilidad. Esta nueva versión ofrece una apariencia moderna y una experiencia de usuario intuitiva, compatible con dispositivos móviles, para satisfacer las demandas actuales de los usuarios: https://sede.um.es\n",
            "Los principales servicios ofrecidos por la Sede Electrónica UMU incluyen la Carpeta Ciudadana, el Registro Electrónico, el Tablón Oficial de Anuncios (TOUM), el Validador de Documentos, el Inventario de Trámites y el Perfil del Contratante. Estos servicios están respaldados por una sólida infraestructura tecnológica, que incluye la utilización de estándares abiertos y tecnologías de vanguardia.\n",
            "Los resultados obtenidos muestran un crecimiento constante en el uso de la plataforma a lo largo de los años, con un aumento significativo en el número de anotaciones en el Registro Electrónico, descargas en la Carpeta Ciudadana, notificaciones practicadas y anuncios publicados en el TOUM.\n",
            "El reconocimiento como finalista en los Premios CNIS 2023 es un testimonio de su éxito en este esfuerzo constante por la innovación en los servicios públicos electrónicos, destacando el compromiso de la Universidad de Murcia con la administración digital y la mejora de la experiencia del usuario, que constituye un paso más en el Plan de Transformación Digital UMU.\n",
            "13:25 26/10/2023\n",
            "-------------------------\n",
            "-------------------------\n",
            "https://www.um.es/web/sala-prensa/-/la-catedr%C3%A1tica-de-la-umu-pilar-arn%C3%A1iz-es-investida-doctora-honoris-causa-por-la-universidad-cat%C3%B3lica-del-cibao-en-rep%C3%BAblica-dominicana\n",
            "La catedrática de la UMU Pilar Arnaiz es investida doctora honoris causa por la Universidad Católica del Cibao, en República Dominicana\n",
            "Pilar Arnaiz, catedrática de la Facultad de Educación de la Universidad de Murcia, ha sido investida doctora honoris causa por la Universidad Católica del Cibao (UCATECI), de República Dominicana. La institución ha querido destacar con este reconocimiento la labor pionera que Arnáiz ha llevado a cabo en la incorporación de la educación inclusiva en la enseñanza universitaria de la República dominicana; así como destacar su trayectoria académica y profesional en este país divulgando la educación inclusiva. La ceremonia de investidura se ha enmarcado en los actos de celebración del 40 aniversario de la fundación de la UCATECI.\n",
            "Entre todos los méritos de Pilar Arnaiz que se expusieron durante la ceremonia, se destacó especialmente toda la labor de investigación llevada a cabo desde que en 1993 creó en la Universidad de Murcia el grupo de investigación ‘Educación inclusiva: escuela para todos’. Desde entonces sus numerosas investigaciones exploran cuáles son los mejores indicadores de calidad en el ámbito de la exclusión-inclusión educativa para formar al profesorado y transformar la educación primaria y secundaria.\n",
            "Además, su dedicación docente le ha proporcionado un gran reconocimiento que le ha llevado a participar en Másteres y Cursos de Doctorado en diferentes universidades europeas, de Estados Unidos y de Latinoamérica, en especial, en la República Dominicana.\n",
            "En las celebraciones del 40 Aniversario Institucional, la UCATECI también invistió honoris causa a los profesores Hugo Estrella Guzmán, Blasina Herrera Acevedo y Monseñor Freddy Antonio de Jesús Bretón Martínez. Los homenajeados recibieron las insignias y diplomas como un símbolo de reconocimiento por sus valiosos aportes a la sociedad dominicana, siendo la más alta distinción que otorga esta institución.\n",
            "18:17 23/10/2023\n",
            "-------------------------\n"
          ]
        },
        {
          "output_type": "stream",
          "name": "stderr",
          "text": [
            "DEBUG:scrapy.core.engine:Crawled (200) <GET https://www.um.es/web/sala-prensa/-/el-ranking-de-la-universidad-de-stanford-sit%C3%BAa-a-62-investigadores-de-la-universidad-de-murcia-en-la-%C3%A9lite-mundial-por-el-impacto-de-sus-trabajos/1.7?redirect=%2Fweb%2Fsala-prensa%2Fnotas-de-prensa%2Fhistorico> (referer: https://www.um.es/web/sala-prensa/notas-de-prensa/historico)\n",
            "DEBUG:scrapy.core.engine:Crawled (200) <GET https://www.um.es/web/sala-prensa/-/vuelve-la-segunda-edici%C3%B3n-del-festival-umurgentes-como-trampol%C3%ADn-para-el-talento-joven-murciano/1.0?redirect=%2Fweb%2Fsala-prensa%2Fnotas-de-prensa%2Fhistorico> (referer: https://www.um.es/web/sala-prensa/notas-de-prensa/historico)\n",
            "DEBUG:scrapy.core.engine:Crawled (200) <GET https://www.um.es/web/sala-prensa/notas-de-prensa/historico?p_p_id=com_liferay_asset_publisher_web_portlet_AssetPublisherPortlet_INSTANCE_3YlyhdueBzXi&p_p_lifecycle=0&p_p_state=normal&p_p_mode=view&_com_liferay_asset_publisher_web_portlet_AssetPublisherPortlet_INSTANCE_3YlyhdueBzXi_delta=20&p_r_p_resetCur=false&_com_liferay_asset_publisher_web_portlet_AssetPublisherPortlet_INSTANCE_3YlyhdueBzXi_cur=26> (referer: https://www.um.es/web/sala-prensa/notas-de-prensa/historico?type=com.liferay.journal.model.JournalArticle&category=4753007)\n",
            "DEBUG:scrapy.core.engine:Crawled (200) <GET https://www.um.es/web/sala-prensa/notas-de-prensa/historico?p_p_id=com_liferay_asset_publisher_web_portlet_AssetPublisherPortlet_INSTANCE_3YlyhdueBzXi&p_p_lifecycle=0&p_p_state=normal&p_p_mode=view&_com_liferay_asset_publisher_web_portlet_AssetPublisherPortlet_INSTANCE_3YlyhdueBzXi_delta=20&p_r_p_resetCur=false&_com_liferay_asset_publisher_web_portlet_AssetPublisherPortlet_INSTANCE_3YlyhdueBzXi_cur=19> (referer: https://www.um.es/web/sala-prensa/notas-de-prensa/historico?type=com.liferay.journal.model.JournalArticle&category=4753007)\n"
          ]
        },
        {
          "output_type": "stream",
          "name": "stdout",
          "text": [
            "-------------------------\n",
            "https://www.um.es/web/sala-prensa/-/-gastrociencia-vuelve-a-la-sala-de-catas-de-estrella-levante-para-explorar-los-secretos-de-los-salazones-mediterr%C3%A1neas/1.3?redirect=%2Fweb%2Fsala-prensa%2Fnotas-de-prensa%2Fhistorico\n",
            "‘GastroCiencia’ vuelve a la Sala de Catas de Estrella Levante para explorar los secretos de los salazones mediterráneas\n",
            "El catedrático y divulgador José Manuel López Nicolás, acompañado por Ana Garre, CEO de la multipremiada empresa Salazones Garre de San Pedro del Pinatar, presentan el tercer evento GastroCiencia en la Sala de Catas de Estrella Levante. El bonito, la mojama o la bottarga son productos muy murcianos que se han consumido durante siglos en la región. Por eso, diferentes disciplinas científicas como la tecnología alimentaria se encargan de estudiar cómo la sal y otros ingredientes pueden ayudar a conservar estos alimentos tan ligados a la gastronomía de esta tierra.\n",
            "El vicerrector de Transferencia, Comunicación y Divulgación Científica José Manuel López Nicolás dará a conocer la ciencia que hay detrás de estos productos, y Ana Garre aportará la parte con mejor sabor, compartiendo pautas para consumirlo de forma correcta, trucos para distinguir sus diferentes variedades y cualidades y curiosidades sobre su elaboración. \n",
            "Esta siguiente cita con GastroCiencia comenzará a las 20:00 horas el día 25 de octubre y acaban de colgar el cartel de “sold out”. Pero para quienes deseen asistir a las próximas catas que tendrán lugar a lo largo del curso, tendrán que estar muy atentos y registrarse de forma gratuita a través de un formulario disponible en eventos.um.es\n",
            "Esta iniciativa comenzó su andadura en 2021 como un proyecto audiovisual de la Unidad de Cultura Científica de la Universidad de Murcia. En 2022 la actividad adquirió formato presencial para participar en la Feria Internacional de Turismo (FITUR) y Madrid Fusión 2022. ‘GastroCiencia’ ha recibido premios y reconocimientos por su labor divulgativa en el Certamen Internacional de cine científico #LabMeCrazy!; así como el premio al mejor corto científico en el certamen internacional Ciencia en Acción.\n",
            "09:14 25/10/2023\n",
            "-------------------------\n",
            "-------------------------\n",
            "https://www.um.es/web/sala-prensa/-/el-ranking-de-la-universidad-de-stanford-sit%C3%BAa-a-62-investigadores-de-la-universidad-de-murcia-en-la-%C3%A9lite-mundial-por-el-impacto-de-sus-trabajos/1.7?redirect=%2Fweb%2Fsala-prensa%2Fnotas-de-prensa%2Fhistorico\n",
            "El ranking de la Universidad de Stanford sitúa a 62 investigadores de la Universidad de Murcia en la élite mundial por el impacto de sus trabajos\n",
            "Investigadores de la Universidad de Stanford (EEUU) han publicado recientemente la actualización anual de su Updated science-wide author databases of standardized citation indicators, publicación conocida como ranking de investigadores de Stanford, que clasifica a la élite de la investigación mundial en función de parámetros que miden el impacto y calidad de sus trabajos. En la última actualización, publicada el 4 de octubre de 2023, 62 investigadores e investigadoras de la Universidad de Murcia figuran entre los más influyentes.\n",
            "Este ranking utiliza como fuente la base de datos de publicaciones científicas SCOPUS y para elaborarlo se tiene en cuenta el impacto de las investigaciones siguiendo diferentes criterios de calidad en tres ámbitos. La clasificación ordena, por un lado, a quienes han tenido más influencia por sus trabajos publicados en 2022 y, por otro, el ranking mide la influencia durante toda la trayectoria. Cincuenta y dos personas vinculadas a la Universidad de Murcia aparecen en el ranking por sus trabajos durante el año 2022 y 35 por las aportaciones a lo largo de toda su trayectoria académica. Esta es la mayor presencia en esta clasificación que ha conseguido la Universidad de Murcia hasta ahora.\n",
            "El estudio únicamente incluye al 2% de los investigadores a nivel mundial con mayor puntuación en su área de conocimiento, por lo que figurar en ella supone estar en la élite mundial de la investigación.\n",
            "Los excelentes resultados obtenidos por personas vinculadas a la UMU adquieren también valor en el contexto de las universidades españolas, ya que la Universidad ocupa el puesto 14º entre todos los organismos dedicados a la investigación en España con mayor presencia en este ranking; un puesto más que destacado si se tiene en cuenta en España hay 91 universidades, a las que hay que sumar los centros e institutos dedicados a investigación.\n",
            "Considerado como el más prestigioso a nivel mundial, el ranking de Stanford incluye a unos 200.000 científicos y científicas pertenecientes a diferentes áreas de estudio.\n",
            "La información adicional sobre los indicadores puede consultarse en https://www.um.es/web/umu-en-cifras/ranquines/stanford\n",
            "11:21 18/10/2023\n",
            "-------------------------\n",
            "-------------------------\n",
            "https://www.um.es/web/sala-prensa/-/vuelve-la-segunda-edici%C3%B3n-del-festival-umurgentes-como-trampol%C3%ADn-para-el-talento-joven-murciano/1.0?redirect=%2Fweb%2Fsala-prensa%2Fnotas-de-prensa%2Fhistorico\n",
            "Vuelve la segunda edición del festival UMURGENTES como trampolín para el talento joven murciano\n",
            "La Universidad de Murcia celebrará este próximo jueves, dentro del amplísimo programa de actos que este año ha organizado con motivo de la Bienvenida Universitaria, la segunda edición del festival UMURGENTES, que tiene como objetivo apoyar a grupos de música y cantantes surgidos entre el alumnado que dan sus primeros pasos en el panorama musical. UMURGENTES está organizado gracias a la colaboración con la Junta Municipal del Distrito Centro Este y gestionado por Bellasound. La música comenzará a asonar a las nueve de la noche en el patio del Campus de la Merced.\n",
            "Karlan, Vuelve Abril, Querido Diablo, RaulMC y Aroa Boreal serán los encargados de poner música a esta nueva edición y podrán demostrar su talento arropados por la comunidad universitaria y el resto de asistentes, ya que el festival está abierto a todas aquellas personas a las que le guste la música y quieran descubrir nuevos talentos.\n",
            "Esta segunda edición presenta una importante novedad y es que, antes de la actuación de los grupos, prevista para las 21.00h, se realizará un encuentro de expertos en el circuito musical murciano que dialogarán sobre el presente y el futuro de la música de nuestra ciudad. Esta charla contará con la presencia de Raúl de Lara (Arde el arte & Live Branding), Daniel E. Moncho (Gran Azul Producciones & Biopic Films), Óscar Guzmán (La Gramola Encendida), Lalo GV (productor de Arde Bogotá) y Toni Pérez (Sala Revolver). Este encuentro se realizará en el mismo escenario del concierto, a las 18:30h. Tras él vendrán los conciertos y como colofón un encuentro entre los participantes y asistentes con la mejor música en Sala Revolver.\n",
            "En esta noche tan especial hay preparado un menú en el que la música será la protagonista pero que se verá aderezado con multitud de sorpresas gracias a la colaboración de Estrella de Levante, Coca Cola y Aires Burger.  En definitiva, música, talento en el patio del Campus de la Merced a partir de las 18.30 horas.\n",
            "09:36 25/10/2023\n",
            "-------------------------\n"
          ]
        },
        {
          "output_type": "stream",
          "name": "stderr",
          "text": [
            "DEBUG:scrapy.core.engine:Crawled (200) <GET https://www.um.es/web/sala-prensa/notas-de-prensa/historico?p_p_id=com_liferay_asset_publisher_web_portlet_AssetPublisherPortlet_INSTANCE_3YlyhdueBzXi&p_p_lifecycle=0&p_p_state=normal&p_p_mode=view&_com_liferay_asset_publisher_web_portlet_AssetPublisherPortlet_INSTANCE_3YlyhdueBzXi_delta=20&p_r_p_resetCur=false&_com_liferay_asset_publisher_web_portlet_AssetPublisherPortlet_INSTANCE_3YlyhdueBzXi_cur=18> (referer: https://www.um.es/web/sala-prensa/notas-de-prensa/historico?type=com.liferay.journal.model.JournalArticle&category=4753007)\n",
            "DEBUG:scrapy.core.engine:Crawled (200) <GET https://www.um.es/web/sala-prensa/galeria?p_p_id=com_liferay_asset_publisher_web_portlet_AssetPublisherPortlet_INSTANCE_I8lLFER6Gea8&p_p_lifecycle=0&p_p_state=normal&p_p_mode=view&_com_liferay_asset_publisher_web_portlet_AssetPublisherPortlet_INSTANCE_I8lLFER6Gea8_delta=20&p_r_p_resetCur=false&_com_liferay_asset_publisher_web_portlet_AssetPublisherPortlet_INSTANCE_I8lLFER6Gea8_cur=26> (referer: https://www.um.es/web/sala-prensa/galeria)\n",
            "INFO:scrapy.crawler:Received SIGINT twice, forcing unclean shutdown\n"
          ]
        }
      ],
      "source": [
        "import scrapy, os\n",
        "from scrapy.crawler import CrawlerProcess\n",
        "\n",
        "# Creamos un proceso de Crawler podemos poner distintas settings que están definidas en la documentación.\n",
        "# Entre ellas podemos ocular los logs del proceso de Crawling.\n",
        "process = CrawlerProcess(settings={\n",
        "    \"LOG_ENABLED\": False,\n",
        "    # Used for pipeline 1\n",
        "})\n",
        "\n",
        "# Como se ha definido anteriormente en el RSSCrawler, los ficheros se van a almacenar en la carpeta \"rss\"\n",
        "# Comprobamos que existe la carpeta y si no existe la creamos\n",
        "if (os.path.exists('umu')== False):\n",
        "    os.mkdir('umu')\n",
        "\n",
        "# Creamos el proceso con el RSSSpider\n",
        "process.crawl(UMSpider)\n",
        "# Ejecutamos el Crawler\n",
        "process.start()"
      ]
    },
    {
      "cell_type": "code",
      "execution_count": null,
      "metadata": {
        "id": "x9VUQ_f-kxla"
      },
      "outputs": [],
      "source": []
    }
  ],
  "metadata": {
    "colab": {
      "provenance": []
    },
    "kernelspec": {
      "display_name": "Python 3 (ipykernel)",
      "language": "python",
      "name": "python3"
    },
    "language_info": {
      "codemirror_mode": {
        "name": "ipython",
        "version": 3
      },
      "file_extension": ".py",
      "mimetype": "text/x-python",
      "name": "python",
      "nbconvert_exporter": "python",
      "pygments_lexer": "ipython3",
      "version": "3.8.6"
    }
  },
  "nbformat": 4,
  "nbformat_minor": 0
}